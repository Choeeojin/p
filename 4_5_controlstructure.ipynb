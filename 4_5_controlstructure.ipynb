{
 "cells": [
  {
   "cell_type": "markdown",
   "metadata": {
    "slideshow": {
     "slide_type": "slide"
    }
   },
   "source": [
    "# 4. 제어흐름\n",
    "\n",
    "## 4.1 학습내용\n",
    "\n",
    "### 4.1.1 목표\n",
    "\n",
    "* 지난 학습 - 변수, 함수\n",
    "    * 변수\n",
    "        * 수첩과 같이 저장해서 다시 사용하려는 의도 (재사용)\n",
    "        * 실제 값을 사용하기 보다는 변수를 사용하는 것이 재사용을 많이 할 수 있게 한다 (일반화 또는 추상화).\n",
    "            * 조그만 사각형, 큰 사각형을 하나의 함수로 처리하려면 변수를 사용해야 한다.\n",
    "    * 함수\n",
    "        * argument(함수를 만들 때)와 parameter (함수를 호출할 때)\n",
    "        * 지역변수를 돌려주는 경우 return을 사용한다.\n",
    "    * 함수와 변수\n",
    "        * 지역변수는 함수부에서만 (들여쓰기 한 부분에서만) 의미가 있다. 함수부를 벗어나면 파괴된다.\n",
    "        * 전역변수는 어느 곳에서나 사용할 수 있다.\n",
    "    \n",
    "* 이번 학습에서는 변수에 따라 프로그래밍의 흐름을 제어할 수 있는 조건, 반복을 사용할 수 있게 함.\n",
    "    * choice 의사결정\n",
    "    * loop 반복\n",
    "\n",
    "* 제어흐름은 다이어그램으로 표현하면 이해하기 쉽다. Activity Diagram을 사용한다.\n",
    "\n",
    "### 4.1.2 문제\n",
    "\n",
    "* 제어-1 도형 그리기 (반복)\n",
    "* 제어-2 사용자 입력을 받아서 해당하는 도형을 그리기 (사용자 입력을 if문 처리)\n",
    "* 제어-3 바람개비 도형 그리기 (if문 사용)\n",
    "* 제어-4 온도변환\n",
    "* 제어-5 성적처리\n",
    "    * 거북이에게 학점묻기\n",
    "* 제어-6 가위바위보\n",
    "* 제어-7 삼각형 그리기\n",
    "* 제어-8 BMI\n",
    "* 제어-9 3,5 배수의 합계 (euler-1)\n",
    "* 제어-10 euler-19\n",
    "* 제어-11 달력\n"
   ]
  },
  {
   "cell_type": "markdown",
   "metadata": {
    "slideshow": {
     "slide_type": "slide"
    }
   },
   "source": [
    "## 4.2 환경\n",
    "\n",
    "\n",
    "* plantuml 설정\n",
    "    * plantuml이 다이어그램을 생성할 때, GRAPHVIZ를 사용한다. 이를 우선 설정하는 것이 필요하다.\n",
    "        * 주의\n",
    "            * 실행파일을 경로로 잡아준다 (폴더가 아니다)\n",
    "            * 리눅스 실행파일 dot, 윈도우 실행파일 dot.exe\n",
    "    * ipython notebook에서 사용할 수 있게 plantuml 라이브러리 호출 (명령어는 %install_ext)\n",
    "    * 명령어 사용할 수 있게 준비 (%load_ext)\n",
    "    * plantuml.jar 내려받아 저장되었는지 확인\n",
    "    * 경로의 설정은 참조 \"1\\_hello_ plantuml.ipynb\"\n",
    "    * 리눅스/맥을 기준으로 설명한다. 윈도우는 디렉토리를 찾아서 넣어주면 된다.\n"
   ]
  },
  {
   "cell_type": "code",
   "execution_count": 7,
   "metadata": {
    "collapsed": false
   },
   "outputs": [
    {
     "name": "stdout",
     "output_type": "stream",
     "text": [
      "/Users/media/Code/git/p2\n"
     ]
    }
   ],
   "source": [
    "import os\n",
    "mypwd=os.path.join(os.path.expanduser('~'),'Code/git/p2')\n",
    "%cd {mypwd}"
   ]
  },
  {
   "cell_type": "code",
   "execution_count": 8,
   "metadata": {
    "collapsed": false
   },
   "outputs": [],
   "source": [
    "import os\n",
    "# 작업폴더를 저장해 놓는다.\n",
    "mywd=%pwd\n",
    "# 작업폴더 밑 lib폴더 안에 plantuml.jar를 저장한 경우\n",
    "myplantdir=os.path.join(mywd,'lib')\n",
    "# 1) 리눅스 /usr/bin/에 dot 실행파일이 있는 경우 별도 설정을 해주지 않아도 된다.\n",
    "# 리눅스 which명령어 사용해서 dot실행파일이 있는 곳을 알아낸댜.\n",
    "# 그 결과가 목록이므로, 첫번째 값을 실행파일로 설정해준다.\n",
    "# 2) 맥 macport를 사용하는 경우, dot경로\n",
    "# mydotdir='/opt/local/bin/dot'\n",
    "# 2) 윈도우 -> 환경변수에서 읽어온다.\n",
    "# mydot=\"C:\\\\Program Files (x86)\\\\Graphviz2.38\\\\bin\\\\dot.exe\"\n",
    "mydotdir=!which dot\n",
    "mydot=mydotdir[0]\n",
    "# 2) 윈도우 -> 환경변수에서 가져와서 설정해준다.\n",
    "# mydot=\"C:\\\\Program Files (x86)\\\\Graphviz2.38\\\\bin\\\\dot.exe\"\n"
   ]
  },
  {
   "cell_type": "code",
   "execution_count": 9,
   "metadata": {
    "collapsed": false,
    "slideshow": {
     "slide_type": "slide"
    }
   },
   "outputs": [
    {
     "name": "stdout",
     "output_type": "stream",
     "text": [
      "/Users/media/Code/git/p2/lib\n"
     ]
    },
    {
     "data": {
      "text/plain": [
       "['./plantuml.jar']"
      ]
     },
     "execution_count": 9,
     "metadata": {},
     "output_type": "execute_result"
    }
   ],
   "source": [
    "# plantuml.jar파일이 존재하는지 확인한다.\n",
    "import glob\n",
    "%cd {myplantdir}\n",
    "glob.glob(r'./*.jar')"
   ]
  },
  {
   "cell_type": "code",
   "execution_count": 10,
   "metadata": {
    "collapsed": false,
    "scrolled": true,
    "slideshow": {
     "slide_type": "slide"
    }
   },
   "outputs": [
    {
     "name": "stdout",
     "output_type": "stream",
     "text": [
      "/opt/local/bin/dot\n",
      "The environment variable GRAPHVIZ_DOT has been set to /opt/local/bin/dot\n",
      "Dot executable is /opt/local/bin/dot\n",
      "Dot version: dot - graphviz version 2.38.0 (20140413.2041)\n",
      "Installation seems OK. File generation OK\n"
     ]
    }
   ],
   "source": [
    "import os\n",
    "os.environ['GRAPHVIZ_DOT']=mydot\n",
    "print os.environ['GRAPHVIZ_DOT']\n",
    "!java -jar {myplantdir}/plantuml.jar -testdot"
   ]
  },
  {
   "cell_type": "code",
   "execution_count": 4,
   "metadata": {
    "collapsed": false,
    "slideshow": {
     "slide_type": "slide"
    }
   },
   "outputs": [
    {
     "name": "stdout",
     "output_type": "stream",
     "text": [
      "Installed plantuml_magics.py. To use it, type:\n",
      "  %load_ext plantuml_magics\n"
     ]
    }
   ],
   "source": [
    "%install_ext https://raw.githubusercontent.com/sberke/ipython-plantuml/master/plantuml_magics.py"
   ]
  },
  {
   "cell_type": "code",
   "execution_count": 5,
   "metadata": {
    "collapsed": false,
    "slideshow": {
     "slide_type": "slide"
    }
   },
   "outputs": [],
   "source": [
    "%load_ext plantuml_magics"
   ]
  },
  {
   "cell_type": "markdown",
   "metadata": {},
   "source": [
    "## 4.3 제어흐름이란?\n",
    "\n",
    "* Control Flow 또는 Flow of Control\n",
    "* 프로그래밍에서 명령문이 실행되는 순서를 제어하는 것.\n",
    "* 프로그래밍에서는 앞서 있는 명령문이, 뒤에 있는 것보다 먼저 실행된다\n",
    "    * 순차적 sequential order\n",
    "* goto 명령문의 문제\n",
    "    * 프로그램의 흐름을 순차적이지 않게 만든다.\n",
    "    * goto 명령문은 if-then, while로 변경하도록 한다.\n",
    "* 조건과 반복을 통한 제어구조\n",
    "    * 조건 반복은 앞서 배운 변수를 먼저 이해해야 한다.\n",
    "\n",
    "### 4.3.1 조건\n",
    "\n",
    "* 조건 choice\n",
    "* IF, ELSE를 이용해 조건에 따라 실행되는 명령문을 제어한다.\n",
    "* 종류\n",
    "    * simple\n",
    "    ```\n",
    "    if 조건:\n",
    "    \n",
    "    ```\n",
    "\n",
    "    * multi-way\n",
    "    ```\n",
    "    if 조건:\n",
    "    \n",
    "    elif 조건:\n",
    "    \n",
    "    else:\n",
    "    ```\n",
    "    \n",
    "    * nested\n",
    "    \n",
    "    ```\n",
    "    if 조건:\n",
    "           if 조건:\n",
    "           else:\n",
    "    else:\n",
    "    ```\n",
    "    \n",
    "* logical operator\n",
    "    * 조건은 항상 True 또는 False 값을 가진다.\n",
    "    * 복합조건은 논리연산자를 사용하여 표현한다."
   ]
  },
  {
   "cell_type": "markdown",
   "metadata": {
    "slideshow": {
     "slide_type": "slide"
    }
   },
   "source": [
    "* 간단한 if문을 나타내면 다음과 같다."
   ]
  },
  {
   "cell_type": "code",
   "execution_count": 10,
   "metadata": {
    "collapsed": false
   },
   "outputs": [
    {
     "name": "stdout",
     "output_type": "stream",
     "text": [
      "This is true.\n"
     ]
    }
   ],
   "source": [
    "if 1:\n",
    "    print \"This is true.\"\n",
    "elif 0:\n",
    "    print \"This is false.\""
   ]
  },
  {
   "cell_type": "markdown",
   "metadata": {
    "slideshow": {
     "slide_type": "slide"
    }
   },
   "source": [
    "### 4.3.2 반복\n",
    "\n",
    "* 반복 loop - 반복횟수를 정하거나 조건에 따라 명령문의 실행을 반복한다.\n",
    "    * 반복횟수에 따른 반복 count controlled loop\n",
    "        * FOR\n",
    "    * 조건에 따른 반복 condition controlled loop\n",
    "        * WHILE, DO-WHILE\n",
    "    * 무한반복 infinite loop\n",
    "        * 끝내는 경우를 만들어 주지 않으면, 끝낼 수 없는 반복\n",
    "        ```\n",
    "        done = \"n\"\n",
    "        while done == \"n\":\n",
    "                done = input(\"done? (y/n): \")\n",
    "        ```\n",
    "    * 구조\n",
    "        * simple loop\n",
    "        ```\n",
    "        for :\n",
    "        ```\n",
    "        \n",
    "        * nested loop\n",
    "        ```\n",
    "        for :\n",
    "               for :\n",
    "        ```\n",
    "        "
   ]
  },
  {
   "cell_type": "markdown",
   "metadata": {
    "collapsed": true
   },
   "source": [
    "* x = range(0,5)는 x가 0,1,2,3,4를 가질 수 있다는 것을 의미한다.\n",
    "$$ 0 \\le x<5, x=정수$$\n",
    "\n",
    "* 파이프에 0,1,2,3,4를 넣고, 0부터 1개씩 꺼내는 것으로 이해하면 쉽다.\n"
   ]
  },
  {
   "cell_type": "code",
   "execution_count": null,
   "metadata": {
    "collapsed": true
   },
   "outputs": [],
   "source": [
    "for i in range(0,10):\n",
    "    print i"
   ]
  },
  {
   "cell_type": "markdown",
   "metadata": {
    "slideshow": {
     "slide_type": "slide"
    }
   },
   "source": [
    "### 4.3.3 다이어그램\n",
    "\n",
    "* 단순\n",
    "* 반복\n",
    "* 조건"
   ]
  },
  {
   "cell_type": "code",
   "execution_count": 6,
   "metadata": {
    "collapsed": false,
    "slideshow": {
     "slide_type": "slide"
    }
   },
   "outputs": [
    {
     "data": {
      "image/svg+xml": [
       "<svg height=\"510px\" style=\"width:83px;height:510px;\" version=\"1.1\" viewBox=\"0 0 83 510\" width=\"83px\" xmlns=\"http://www.w3.org/2000/svg\" xmlns:xlink=\"http://www.w3.org/1999/xlink\"><defs><filter height=\"300%\" id=\"f1\" width=\"300%\" x=\"-1\" y=\"-1\"><feGaussianBlur result=\"blurOut\" stdDeviation=\"2.0\"/><feColorMatrix in=\"blurOut\" result=\"blurOut2\" type=\"matrix\" values=\"0 0 0 0 0 0 0 0 0 0 0 0 0 0 0 0 0 0 .4 0\"/><feOffset dx=\"4.0\" dy=\"4.0\" in=\"blurOut2\" result=\"blurOut3\"/><feBlend in=\"SourceGraphic\" in2=\"blurOut3\" mode=\"normal\"/></filter></defs><g><ellipse cx=\"43\" cy=\"20\" fill=\"#000000\" filter=\"url(#f1)\" rx=\"10\" ry=\"10\" style=\"stroke: none; stroke-width: 1.0;\"/><rect fill=\"#FEFECE\" filter=\"url(#f1)\" height=\"34.1328\" rx=\"12.5\" ry=\"12.5\" style=\"stroke: #A80036; stroke-width: 1.5;\" width=\"60\" x=\"13\" y=\"50\"/><text fill=\"#000000\" font-family=\"sans-serif\" font-size=\"12\" lengthAdjust=\"spacingAndGlyphs\" textLength=\"40\" x=\"23\" y=\"71.6016\">fd 100</text><rect fill=\"#FEFECE\" filter=\"url(#f1)\" height=\"34.1328\" rx=\"12.5\" ry=\"12.5\" style=\"stroke: #A80036; stroke-width: 1.5;\" width=\"66\" x=\"10\" y=\"104.1328\"/><text fill=\"#000000\" font-family=\"sans-serif\" font-size=\"12\" lengthAdjust=\"spacingAndGlyphs\" textLength=\"46\" x=\"20\" y=\"125.7344\">right 90</text><rect fill=\"#FEFECE\" filter=\"url(#f1)\" height=\"34.1328\" rx=\"12.5\" ry=\"12.5\" style=\"stroke: #A80036; stroke-width: 1.5;\" width=\"60\" x=\"13\" y=\"158.2656\"/><text fill=\"#000000\" font-family=\"sans-serif\" font-size=\"12\" lengthAdjust=\"spacingAndGlyphs\" textLength=\"40\" x=\"23\" y=\"179.8672\">fd 100</text><rect fill=\"#FEFECE\" filter=\"url(#f1)\" height=\"34.1328\" rx=\"12.5\" ry=\"12.5\" style=\"stroke: #A80036; stroke-width: 1.5;\" width=\"66\" x=\"10\" y=\"212.3984\"/><text fill=\"#000000\" font-family=\"sans-serif\" font-size=\"12\" lengthAdjust=\"spacingAndGlyphs\" textLength=\"46\" x=\"20\" y=\"234\">right 90</text><rect fill=\"#FEFECE\" filter=\"url(#f1)\" height=\"34.1328\" rx=\"12.5\" ry=\"12.5\" style=\"stroke: #A80036; stroke-width: 1.5;\" width=\"60\" x=\"13\" y=\"266.5313\"/><text fill=\"#000000\" font-family=\"sans-serif\" font-size=\"12\" lengthAdjust=\"spacingAndGlyphs\" textLength=\"40\" x=\"23\" y=\"288.1328\">fd 100</text><rect fill=\"#FEFECE\" filter=\"url(#f1)\" height=\"34.1328\" rx=\"12.5\" ry=\"12.5\" style=\"stroke: #A80036; stroke-width: 1.5;\" width=\"66\" x=\"10\" y=\"320.6641\"/><text fill=\"#000000\" font-family=\"sans-serif\" font-size=\"12\" lengthAdjust=\"spacingAndGlyphs\" textLength=\"46\" x=\"20\" y=\"342.2656\">right 90</text><rect fill=\"#FEFECE\" filter=\"url(#f1)\" height=\"34.1328\" rx=\"12.5\" ry=\"12.5\" style=\"stroke: #A80036; stroke-width: 1.5;\" width=\"60\" x=\"13\" y=\"374.7969\"/><text fill=\"#000000\" font-family=\"sans-serif\" font-size=\"12\" lengthAdjust=\"spacingAndGlyphs\" textLength=\"40\" x=\"23\" y=\"396.3984\">fd 100</text><rect fill=\"#FEFECE\" filter=\"url(#f1)\" height=\"34.1328\" rx=\"12.5\" ry=\"12.5\" style=\"stroke: #A80036; stroke-width: 1.5;\" width=\"66\" x=\"10\" y=\"428.9297\"/><text fill=\"#000000\" font-family=\"sans-serif\" font-size=\"12\" lengthAdjust=\"spacingAndGlyphs\" textLength=\"46\" x=\"20\" y=\"450.5313\">right 90</text><ellipse cx=\"43\" cy=\"493.0625\" fill=\"none\" filter=\"url(#f1)\" rx=\"10\" ry=\"10\" style=\"stroke: #000000; stroke-width: 1.0;\"/><ellipse cx=\"43.5\" cy=\"493.5625\" fill=\"#000000\" filter=\"url(#f1)\" rx=\"6\" ry=\"6\" style=\"stroke: none; stroke-width: 1.0;\"/><line style=\"stroke: #A80036; stroke-width: 1.5;\" x1=\"43\" x2=\"43\" y1=\"30\" y2=\"50\"/><polygon fill=\"#A80036\" points=\"39,40,43,50,47,40,43,44\" style=\"stroke: #A80036; stroke-width: 1.0;\"/><line style=\"stroke: #A80036; stroke-width: 1.5;\" x1=\"43\" x2=\"43\" y1=\"84.1328\" y2=\"104.1328\"/><polygon fill=\"#A80036\" points=\"39,94.1328,43,104.1328,47,94.1328,43,98.1328\" style=\"stroke: #A80036; stroke-width: 1.0;\"/><line style=\"stroke: #A80036; stroke-width: 1.5;\" x1=\"43\" x2=\"43\" y1=\"138.2656\" y2=\"158.2656\"/><polygon fill=\"#A80036\" points=\"39,148.2656,43,158.2656,47,148.2656,43,152.2656\" style=\"stroke: #A80036; stroke-width: 1.0;\"/><line style=\"stroke: #A80036; stroke-width: 1.5;\" x1=\"43\" x2=\"43\" y1=\"192.3984\" y2=\"212.3984\"/><polygon fill=\"#A80036\" points=\"39,202.3984,43,212.3984,47,202.3984,43,206.3984\" style=\"stroke: #A80036; stroke-width: 1.0;\"/><line style=\"stroke: #A80036; stroke-width: 1.5;\" x1=\"43\" x2=\"43\" y1=\"246.5313\" y2=\"266.5313\"/><polygon fill=\"#A80036\" points=\"39,256.5313,43,266.5313,47,256.5313,43,260.5313\" style=\"stroke: #A80036; stroke-width: 1.0;\"/><line style=\"stroke: #A80036; stroke-width: 1.5;\" x1=\"43\" x2=\"43\" y1=\"300.6641\" y2=\"320.6641\"/><polygon fill=\"#A80036\" points=\"39,310.6641,43,320.6641,47,310.6641,43,314.6641\" style=\"stroke: #A80036; stroke-width: 1.0;\"/><line style=\"stroke: #A80036; stroke-width: 1.5;\" x1=\"43\" x2=\"43\" y1=\"354.7969\" y2=\"374.7969\"/><polygon fill=\"#A80036\" points=\"39,364.7969,43,374.7969,47,364.7969,43,368.7969\" style=\"stroke: #A80036; stroke-width: 1.0;\"/><line style=\"stroke: #A80036; stroke-width: 1.5;\" x1=\"43\" x2=\"43\" y1=\"408.9297\" y2=\"428.9297\"/><polygon fill=\"#A80036\" points=\"39,418.9297,43,428.9297,47,418.9297,43,422.9297\" style=\"stroke: #A80036; stroke-width: 1.0;\"/><line style=\"stroke: #A80036; stroke-width: 1.5;\" x1=\"43\" x2=\"43\" y1=\"463.0625\" y2=\"483.0625\"/><polygon fill=\"#A80036\" points=\"39,473.0625,43,483.0625,47,473.0625,43,477.0625\" style=\"stroke: #A80036; stroke-width: 1.0;\"/></g></svg>"
      ],
      "text/plain": [
       "<IPython.core.display.SVG object>"
      ]
     },
     "execution_count": 6,
     "metadata": {},
     "output_type": "execute_result"
    }
   ],
   "source": [
    "%%plantuml\n",
    "@startuml\n",
    "start\n",
    "\n",
    ":fd 100;\n",
    ":right 90;\n",
    ":fd 100;\n",
    ":right 90;\n",
    ":fd 100;\n",
    ":right 90;\n",
    ":fd 100;\n",
    ":right 90;\n",
    "stop\n",
    "@enduml"
   ]
  },
  {
   "cell_type": "code",
   "execution_count": 34,
   "metadata": {
    "collapsed": false,
    "slideshow": {
     "slide_type": "slide"
    }
   },
   "outputs": [
    {
     "data": {
      "image/svg+xml": [
       "<svg height=\"272px\" style=\"width:96px;height:272px;\" version=\"1.1\" viewBox=\"0 0 96 272\" width=\"96px\" xmlns=\"http://www.w3.org/2000/svg\" xmlns:xlink=\"http://www.w3.org/1999/xlink\"><defs><filter height=\"300%\" id=\"f1\" width=\"300%\" x=\"-1\" y=\"-1\"><feGaussianBlur result=\"blurOut\" stdDeviation=\"2.0\"/><feColorMatrix in=\"blurOut\" result=\"blurOut2\" type=\"matrix\" values=\"0 0 0 0 0 0 0 0 0 0 0 0 0 0 0 0 0 0 .4 0\"/><feOffset dx=\"4.0\" dy=\"4.0\" in=\"blurOut2\" result=\"blurOut3\"/><feBlend in=\"SourceGraphic\" in2=\"blurOut3\" mode=\"normal\"/></filter></defs><g><ellipse cx=\"44.5\" cy=\"20\" fill=\"#000000\" filter=\"url(#f1)\" rx=\"10\" ry=\"10\" style=\"stroke: none; stroke-width: 1.0;\"/><rect fill=\"#FEFECE\" filter=\"url(#f1)\" height=\"33.9688\" rx=\"12.5\" ry=\"12.5\" style=\"stroke: #A80036; stroke-width: 1.5;\" width=\"60\" x=\"14.5\" y=\"94\"/><text fill=\"#000000\" font-family=\"sans-serif\" font-size=\"12\" lengthAdjust=\"spacingAndGlyphs\" textLength=\"40\" x=\"24.5\" y=\"115.1387\">fd 100</text><rect fill=\"#FEFECE\" filter=\"url(#f1)\" height=\"33.9688\" rx=\"12.5\" ry=\"12.5\" style=\"stroke: #A80036; stroke-width: 1.5;\" width=\"69\" x=\"10\" y=\"147.9688\"/><text fill=\"#000000\" font-family=\"sans-serif\" font-size=\"12\" lengthAdjust=\"spacingAndGlyphs\" textLength=\"49\" x=\"20\" y=\"169.1074\">right 90</text><polygon fill=\"#FEFECE\" filter=\"url(#f1)\" points=\"44.5,50,56.5,62,44.5,74,32.5,62,44.5,50\" style=\"stroke: #A80036; stroke-width: 1.5;\"/><polygon fill=\"#FEFECE\" filter=\"url(#f1)\" points=\"32.5,201.9375,56.5,201.9375,68.5,213.9375,56.5,225.9375,32.5,225.9375,20.5,213.9375,32.5,201.9375\" style=\"stroke: #A80036; stroke-width: 1.5;\"/><text fill=\"#000000\" font-family=\"sans-serif\" font-size=\"11\" lengthAdjust=\"spacingAndGlyphs\" textLength=\"7\" x=\"41\" y=\"217.7456\">4</text><ellipse cx=\"44.5\" cy=\"255.9375\" fill=\"none\" filter=\"url(#f1)\" rx=\"10\" ry=\"10\" style=\"stroke: #000000; stroke-width: 1.0;\"/><ellipse cx=\"45\" cy=\"256.4375\" fill=\"#000000\" filter=\"url(#f1)\" rx=\"6\" ry=\"6\" style=\"stroke: none; stroke-width: 1.0;\"/><line style=\"stroke: #A80036; stroke-width: 1.5;\" x1=\"44.5\" x2=\"44.5\" y1=\"127.9688\" y2=\"147.9688\"/><polygon fill=\"#A80036\" points=\"40.5,137.9688,44.5,147.9688,48.5,137.9688,44.5,141.9688\" style=\"stroke: #A80036; stroke-width: 1.0;\"/><line style=\"stroke: #A80036; stroke-width: 1.5;\" x1=\"44.5\" x2=\"44.5\" y1=\"74\" y2=\"94\"/><polygon fill=\"#A80036\" points=\"40.5,84,44.5,94,48.5,84,44.5,88\" style=\"stroke: #A80036; stroke-width: 1.0;\"/><line style=\"stroke: #A80036; stroke-width: 1.5;\" x1=\"68.5\" x2=\"91\" y1=\"213.9375\" y2=\"213.9375\"/><polygon fill=\"#A80036\" points=\"87,164.4688,91,154.4688,95,164.4688,91,160.4688\" style=\"stroke: #A80036; stroke-width: 1.5;\"/><line style=\"stroke: #A80036; stroke-width: 1.5;\" x1=\"91\" x2=\"91\" y1=\"62\" y2=\"213.9375\"/><line style=\"stroke: #A80036; stroke-width: 1.5;\" x1=\"91\" x2=\"56.5\" y1=\"62\" y2=\"62\"/><polygon fill=\"#A80036\" points=\"66.5,58,56.5,62,66.5,66,62.5,62\" style=\"stroke: #A80036; stroke-width: 1.0;\"/><line style=\"stroke: #A80036; stroke-width: 1.5;\" x1=\"44.5\" x2=\"44.5\" y1=\"181.9375\" y2=\"201.9375\"/><polygon fill=\"#A80036\" points=\"40.5,191.9375,44.5,201.9375,48.5,191.9375,44.5,195.9375\" style=\"stroke: #A80036; stroke-width: 1.0;\"/><line style=\"stroke: #A80036; stroke-width: 1.5;\" x1=\"44.5\" x2=\"44.5\" y1=\"30\" y2=\"50\"/><polygon fill=\"#A80036\" points=\"40.5,40,44.5,50,48.5,40,44.5,44\" style=\"stroke: #A80036; stroke-width: 1.0;\"/><line style=\"stroke: #A80036; stroke-width: 1.5;\" x1=\"44.5\" x2=\"44.5\" y1=\"225.9375\" y2=\"245.9375\"/><polygon fill=\"#A80036\" points=\"40.5,235.9375,44.5,245.9375,48.5,235.9375,44.5,239.9375\" style=\"stroke: #A80036; stroke-width: 1.0;\"/></g></svg>"
      ],
      "text/plain": [
       "<IPython.core.display.SVG object>"
      ]
     },
     "execution_count": 34,
     "metadata": {},
     "output_type": "execute_result"
    }
   ],
   "source": [
    "%%plantuml\n",
    "@startuml\n",
    "start\n",
    "\n",
    "repeat\n",
    ":fd 100;\n",
    ":right 90;\n",
    "repeat while(4)\n",
    "\n",
    "stop\n",
    "@enduml"
   ]
  },
  {
   "cell_type": "code",
   "execution_count": 14,
   "metadata": {
    "collapsed": false,
    "slideshow": {
     "slide_type": "slide"
    }
   },
   "outputs": [
    {
     "data": {
      "image/svg+xml": [
       "<svg height=\"195px\" style=\"width:281px;height:195px;\" version=\"1.1\" viewBox=\"0 0 281 195\" width=\"281px\" xmlns=\"http://www.w3.org/2000/svg\" xmlns:xlink=\"http://www.w3.org/1999/xlink\"><defs><filter height=\"300%\" id=\"f1\" width=\"300%\" x=\"-1\" y=\"-1\"><feGaussianBlur result=\"blurOut\" stdDeviation=\"2.0\"/><feColorMatrix in=\"blurOut\" result=\"blurOut2\" type=\"matrix\" values=\"0 0 0 0 0 0 0 0 0 0 0 0 0 0 0 0 0 0 .4 0\"/><feOffset dx=\"4.0\" dy=\"4.0\" in=\"blurOut2\" result=\"blurOut3\"/><feBlend in=\"SourceGraphic\" in2=\"blurOut3\" mode=\"normal\"/></filter></defs><g><ellipse cx=\"139\" cy=\"20\" fill=\"#000000\" filter=\"url(#f1)\" rx=\"10\" ry=\"10\" style=\"stroke: none; stroke-width: 1.0;\"/><polygon fill=\"#FEFECE\" filter=\"url(#f1)\" points=\"78.5,50,199.5,50,211.5,62,199.5,74,78.5,74,66.5,62,78.5,50\" style=\"stroke: #A80036; stroke-width: 1.5;\"/><text fill=\"#000000\" font-family=\"sans-serif\" font-size=\"11\" lengthAdjust=\"spacingAndGlyphs\" textLength=\"121\" x=\"78.5\" y=\"66.1572\">a user chooses square</text><text fill=\"#000000\" font-family=\"sans-serif\" font-size=\"11\" lengthAdjust=\"spacingAndGlyphs\" textLength=\"6\" x=\"60.5\" y=\"59.6797\">y</text><text fill=\"#000000\" font-family=\"sans-serif\" font-size=\"11\" lengthAdjust=\"spacingAndGlyphs\" textLength=\"14\" x=\"211.5\" y=\"59.6797\">no</text><rect fill=\"#FEFECE\" filter=\"url(#f1)\" height=\"34.1328\" rx=\"12.5\" ry=\"12.5\" style=\"stroke: #A80036; stroke-width: 1.5;\" width=\"93\" x=\"10\" y=\"84\"/><text fill=\"#000000\" font-family=\"sans-serif\" font-size=\"12\" lengthAdjust=\"spacingAndGlyphs\" textLength=\"73\" x=\"20\" y=\"105.6016\">draw square</text><rect fill=\"#FEFECE\" filter=\"url(#f1)\" height=\"34.1328\" rx=\"12.5\" ry=\"12.5\" style=\"stroke: #A80036; stroke-width: 1.5;\" width=\"106\" x=\"168.5\" y=\"84\"/><text fill=\"#000000\" font-family=\"sans-serif\" font-size=\"12\" lengthAdjust=\"spacingAndGlyphs\" textLength=\"86\" x=\"178.5\" y=\"105.6016\">draw rectangle</text><polygon fill=\"#FEFECE\" filter=\"url(#f1)\" points=\"139,124.1328,151,136.1328,139,148.1328,127,136.1328,139,124.1328\" style=\"stroke: #A80036; stroke-width: 1.5;\"/><ellipse cx=\"139\" cy=\"178.1328\" fill=\"none\" filter=\"url(#f1)\" rx=\"10\" ry=\"10\" style=\"stroke: #000000; stroke-width: 1.0;\"/><ellipse cx=\"139.5\" cy=\"178.6328\" fill=\"#000000\" filter=\"url(#f1)\" rx=\"6\" ry=\"6\" style=\"stroke: none; stroke-width: 1.0;\"/><line style=\"stroke: #A80036; stroke-width: 1.5;\" x1=\"66.5\" x2=\"56.5\" y1=\"62\" y2=\"62\"/><line style=\"stroke: #A80036; stroke-width: 1.5;\" x1=\"56.5\" x2=\"56.5\" y1=\"62\" y2=\"84\"/><polygon fill=\"#A80036\" points=\"52.5,74,56.5,84,60.5,74,56.5,78\" style=\"stroke: #A80036; stroke-width: 1.0;\"/><line style=\"stroke: #A80036; stroke-width: 1.5;\" x1=\"211.5\" x2=\"221.5\" y1=\"62\" y2=\"62\"/><line style=\"stroke: #A80036; stroke-width: 1.5;\" x1=\"221.5\" x2=\"221.5\" y1=\"62\" y2=\"84\"/><polygon fill=\"#A80036\" points=\"217.5,74,221.5,84,225.5,74,221.5,78\" style=\"stroke: #A80036; stroke-width: 1.0;\"/><line style=\"stroke: #A80036; stroke-width: 1.5;\" x1=\"56.5\" x2=\"56.5\" y1=\"118.1328\" y2=\"136.1328\"/><line style=\"stroke: #A80036; stroke-width: 1.5;\" x1=\"56.5\" x2=\"127\" y1=\"136.1328\" y2=\"136.1328\"/><polygon fill=\"#A80036\" points=\"117,132.1328,127,136.1328,117,140.1328,121,136.1328\" style=\"stroke: #A80036; stroke-width: 1.0;\"/><line style=\"stroke: #A80036; stroke-width: 1.5;\" x1=\"221.5\" x2=\"221.5\" y1=\"118.1328\" y2=\"136.1328\"/><line style=\"stroke: #A80036; stroke-width: 1.5;\" x1=\"221.5\" x2=\"151\" y1=\"136.1328\" y2=\"136.1328\"/><polygon fill=\"#A80036\" points=\"161,132.1328,151,136.1328,161,140.1328,157,136.1328\" style=\"stroke: #A80036; stroke-width: 1.0;\"/><line style=\"stroke: #A80036; stroke-width: 1.5;\" x1=\"139\" x2=\"139\" y1=\"30\" y2=\"50\"/><polygon fill=\"#A80036\" points=\"135,40,139,50,143,40,139,44\" style=\"stroke: #A80036; stroke-width: 1.0;\"/><line style=\"stroke: #A80036; stroke-width: 1.5;\" x1=\"139\" x2=\"139\" y1=\"148.1328\" y2=\"168.1328\"/><polygon fill=\"#A80036\" points=\"135,158.1328,139,168.1328,143,158.1328,139,162.1328\" style=\"stroke: #A80036; stroke-width: 1.0;\"/></g></svg>"
      ],
      "text/plain": [
       "<IPython.core.display.SVG object>"
      ]
     },
     "execution_count": 14,
     "metadata": {},
     "output_type": "execute_result"
    }
   ],
   "source": [
    "%%plantuml\n",
    "@startuml\n",
    "start\n",
    "if (a user chooses square)then (y)\n",
    ":draw square;\n",
    "else (no)\n",
    ":draw rectangle;\n",
    "endif\n",
    "stop\n",
    "@enduml"
   ]
  },
  {
   "cell_type": "markdown",
   "metadata": {},
   "source": [
    "## 제어-1: 도형 그리기\n",
    "\n",
    "* 삼각형, 사각형, 별을 그린다.\n",
    "    * 중복되는 명령문은 반복문을 사용한다.\n",
    "    * 각 도형그리기를 함수로 만든다.\n",
    "* 절차\n",
    "    * 다이어그램을 그린다.\n",
    "    * 다이어그램에 표현된 절차를 하나씩 프로그램으로 구현한다.\n",
    "* 프로그래밍 요소\n",
    "    * 반복문을 사용할 수 있다.\n",
    "    * 중복을 줄이기 위해 함수를 사용하는 것과 반복문을 사용하는 차이를 이해한다."
   ]
  },
  {
   "cell_type": "code",
   "execution_count": 17,
   "metadata": {
    "collapsed": true
   },
   "outputs": [],
   "source": [
    "import turtle\n",
    "wn=turtle.Screen()\n",
    "t1=turtle.Turtle()"
   ]
  },
  {
   "cell_type": "code",
   "execution_count": 20,
   "metadata": {
    "collapsed": true
   },
   "outputs": [],
   "source": [
    "# 사격형 그리기\n",
    "t1.forward(50)\n",
    "t1.right(90)\n",
    "t1.forward(50)\n",
    "t1.right(90)\n",
    "t1.forward(50)\n",
    "t1.right(90)\n",
    "t1.forward(50)\n",
    "t1.right(90)"
   ]
  },
  {
   "cell_type": "code",
   "execution_count": 35,
   "metadata": {
    "collapsed": false
   },
   "outputs": [
    {
     "data": {
      "image/svg+xml": [
       "<svg height=\"272px\" style=\"width:96px;height:272px;\" version=\"1.1\" viewBox=\"0 0 96 272\" width=\"96px\" xmlns=\"http://www.w3.org/2000/svg\" xmlns:xlink=\"http://www.w3.org/1999/xlink\"><defs><filter height=\"300%\" id=\"f1\" width=\"300%\" x=\"-1\" y=\"-1\"><feGaussianBlur result=\"blurOut\" stdDeviation=\"2.0\"/><feColorMatrix in=\"blurOut\" result=\"blurOut2\" type=\"matrix\" values=\"0 0 0 0 0 0 0 0 0 0 0 0 0 0 0 0 0 0 .4 0\"/><feOffset dx=\"4.0\" dy=\"4.0\" in=\"blurOut2\" result=\"blurOut3\"/><feBlend in=\"SourceGraphic\" in2=\"blurOut3\" mode=\"normal\"/></filter></defs><g><ellipse cx=\"44.5\" cy=\"20\" fill=\"#000000\" filter=\"url(#f1)\" rx=\"10\" ry=\"10\" style=\"stroke: none; stroke-width: 1.0;\"/><rect fill=\"#FEFECE\" filter=\"url(#f1)\" height=\"33.9688\" rx=\"12.5\" ry=\"12.5\" style=\"stroke: #A80036; stroke-width: 1.5;\" width=\"60\" x=\"14.5\" y=\"94\"/><text fill=\"#000000\" font-family=\"sans-serif\" font-size=\"12\" lengthAdjust=\"spacingAndGlyphs\" textLength=\"40\" x=\"24.5\" y=\"115.1387\">fd 100</text><rect fill=\"#FEFECE\" filter=\"url(#f1)\" height=\"33.9688\" rx=\"12.5\" ry=\"12.5\" style=\"stroke: #A80036; stroke-width: 1.5;\" width=\"69\" x=\"10\" y=\"147.9688\"/><text fill=\"#000000\" font-family=\"sans-serif\" font-size=\"12\" lengthAdjust=\"spacingAndGlyphs\" textLength=\"49\" x=\"20\" y=\"169.1074\">right 90</text><polygon fill=\"#FEFECE\" filter=\"url(#f1)\" points=\"44.5,50,56.5,62,44.5,74,32.5,62,44.5,50\" style=\"stroke: #A80036; stroke-width: 1.5;\"/><polygon fill=\"#FEFECE\" filter=\"url(#f1)\" points=\"32.5,201.9375,56.5,201.9375,68.5,213.9375,56.5,225.9375,32.5,225.9375,20.5,213.9375,32.5,201.9375\" style=\"stroke: #A80036; stroke-width: 1.5;\"/><text fill=\"#000000\" font-family=\"sans-serif\" font-size=\"11\" lengthAdjust=\"spacingAndGlyphs\" textLength=\"7\" x=\"41\" y=\"217.7456\">4</text><ellipse cx=\"44.5\" cy=\"255.9375\" fill=\"none\" filter=\"url(#f1)\" rx=\"10\" ry=\"10\" style=\"stroke: #000000; stroke-width: 1.0;\"/><ellipse cx=\"45\" cy=\"256.4375\" fill=\"#000000\" filter=\"url(#f1)\" rx=\"6\" ry=\"6\" style=\"stroke: none; stroke-width: 1.0;\"/><line style=\"stroke: #A80036; stroke-width: 1.5;\" x1=\"44.5\" x2=\"44.5\" y1=\"127.9688\" y2=\"147.9688\"/><polygon fill=\"#A80036\" points=\"40.5,137.9688,44.5,147.9688,48.5,137.9688,44.5,141.9688\" style=\"stroke: #A80036; stroke-width: 1.0;\"/><line style=\"stroke: #A80036; stroke-width: 1.5;\" x1=\"44.5\" x2=\"44.5\" y1=\"74\" y2=\"94\"/><polygon fill=\"#A80036\" points=\"40.5,84,44.5,94,48.5,84,44.5,88\" style=\"stroke: #A80036; stroke-width: 1.0;\"/><line style=\"stroke: #A80036; stroke-width: 1.5;\" x1=\"68.5\" x2=\"91\" y1=\"213.9375\" y2=\"213.9375\"/><polygon fill=\"#A80036\" points=\"87,164.4688,91,154.4688,95,164.4688,91,160.4688\" style=\"stroke: #A80036; stroke-width: 1.5;\"/><line style=\"stroke: #A80036; stroke-width: 1.5;\" x1=\"91\" x2=\"91\" y1=\"62\" y2=\"213.9375\"/><line style=\"stroke: #A80036; stroke-width: 1.5;\" x1=\"91\" x2=\"56.5\" y1=\"62\" y2=\"62\"/><polygon fill=\"#A80036\" points=\"66.5,58,56.5,62,66.5,66,62.5,62\" style=\"stroke: #A80036; stroke-width: 1.0;\"/><line style=\"stroke: #A80036; stroke-width: 1.5;\" x1=\"44.5\" x2=\"44.5\" y1=\"181.9375\" y2=\"201.9375\"/><polygon fill=\"#A80036\" points=\"40.5,191.9375,44.5,201.9375,48.5,191.9375,44.5,195.9375\" style=\"stroke: #A80036; stroke-width: 1.0;\"/><line style=\"stroke: #A80036; stroke-width: 1.5;\" x1=\"44.5\" x2=\"44.5\" y1=\"30\" y2=\"50\"/><polygon fill=\"#A80036\" points=\"40.5,40,44.5,50,48.5,40,44.5,44\" style=\"stroke: #A80036; stroke-width: 1.0;\"/><line style=\"stroke: #A80036; stroke-width: 1.5;\" x1=\"44.5\" x2=\"44.5\" y1=\"225.9375\" y2=\"245.9375\"/><polygon fill=\"#A80036\" points=\"40.5,235.9375,44.5,245.9375,48.5,235.9375,44.5,239.9375\" style=\"stroke: #A80036; stroke-width: 1.0;\"/></g></svg>"
      ],
      "text/plain": [
       "<IPython.core.display.SVG object>"
      ]
     },
     "execution_count": 35,
     "metadata": {},
     "output_type": "execute_result"
    }
   ],
   "source": [
    "%%plantuml\n",
    "@startuml\n",
    "start\n",
    "\n",
    "repeat\n",
    ":fd 100;\n",
    ":right 90;\n",
    "repeat while(4)\n",
    "\n",
    "stop\n",
    "@enduml"
   ]
  },
  {
   "cell_type": "code",
   "execution_count": 21,
   "metadata": {
    "collapsed": true
   },
   "outputs": [],
   "source": [
    "t1.home()\n",
    "t1.clear()\n",
    "\n",
    "# 반복을 이용\n",
    "for i in range(0,4):\n",
    "    t1.forward(100)\n",
    "    t1.right(90)"
   ]
  },
  {
   "cell_type": "markdown",
   "metadata": {},
   "source": [
    "* 기계적으로 함수 만들어보기\n",
    "    * 중복을 찾는다\n",
    "    * 중복을 묶고 함수명을 준다 -> drawSquare\n",
    "    * 변경되는 것을 찾는다 -> size 250, 나머지는 변하지 않는다.\n",
    "    * 인자로 빼준다 -> size 정수"
   ]
  },
  {
   "cell_type": "code",
   "execution_count": 22,
   "metadata": {
    "collapsed": true
   },
   "outputs": [],
   "source": [
    "def drawSquare(size):\n",
    "    for i in range(0,4):\n",
    "        t1.forward(size)\n",
    "        t1.right(90)\n",
    "\n",
    "t1.home()\n",
    "t1.clear()\n",
    "drawSquare(100)"
   ]
  },
  {
   "cell_type": "code",
   "execution_count": 23,
   "metadata": {
    "collapsed": true
   },
   "outputs": [],
   "source": [
    "# 삼각형 그리기\n",
    "def drawTriangle(size):\n",
    "    for i in range(0,3):\n",
    "        t1.forward(size)\n",
    "        t1.right(120)\n",
    "\n",
    "t1.home()\n",
    "t1.clear()\n",
    "drawTriangle(120)"
   ]
  },
  {
   "cell_type": "code",
   "execution_count": 25,
   "metadata": {
    "collapsed": true
   },
   "outputs": [],
   "source": [
    "def drawSquareAt(size, pos):\n",
    "    t1.penup()\n",
    "    t1.setpos(pos)\n",
    "    t1.pendown()\n",
    "    for i in range(0,4):\n",
    "        t1.forward(size)\n",
    "        t1.right(90)\n",
    "\n",
    "t1.home()\n",
    "t1.clear()\n",
    "drawSquareAt(100,(100,100))"
   ]
  },
  {
   "cell_type": "code",
   "execution_count": 28,
   "metadata": {
    "collapsed": true
   },
   "outputs": [],
   "source": [
    "t1.home()\n",
    "t1.clear()\n",
    "# star\n",
    "for i in range(5):\n",
    "    t1.forward(100)\n",
    "    t1.right(144)"
   ]
  },
  {
   "cell_type": "code",
   "execution_count": 33,
   "metadata": {
    "collapsed": true
   },
   "outputs": [],
   "source": [
    "def drawStarFill(size, color):\n",
    "    angle = 144\n",
    "    t1.fillcolor(color)\n",
    "    t1.begin_fill()\n",
    "    for side in range(5):\n",
    "        t1.forward(size)\n",
    "        t1.right(angle)\n",
    "    t1.end_fill()\n",
    "\n",
    "t1.home()\n",
    "t1.clear()\n",
    "drawStarFill(100, \"purple\")\n"
   ]
  },
  {
   "cell_type": "code",
   "execution_count": 31,
   "metadata": {
    "collapsed": true
   },
   "outputs": [],
   "source": [
    "# polygon\n",
    "def drawPolygon(size,tilt,sides):\n",
    "    t1.right(tilt)\n",
    "    for i in range(0,sides):\n",
    "        t1.forward(size)\n",
    "        t1.right(360/sides)\n",
    "\n",
    "t1.home()\n",
    "t1.clear()\n",
    "drawPolygon(100,30,6)\n",
    "drawPolygon(100,60,4)"
   ]
  },
  {
   "cell_type": "markdown",
   "metadata": {},
   "source": [
    "## 제어-2: 사용자 입력을 받아서 해당하는 도형을 그리기\n",
    "\n",
    "* 사용자에게 입력을 받아서, 삼각형 사각형을 그린다.\n",
    "* 삼각형, 사각형 함수를 1개로 만든다.\n",
    "    * 인자는 size, sides, angle로 한다.\n",
    "    * 삼각형은 3면, 사각형은 4면을 가진다.\n",
    "    * 삼각형은 120, 사각형은 90도 회전을 한다.\n",
    "* 절차\n",
    "    * 다이어그램을 그린다.\n",
    "    * 다이어그램에 표현한 절차에 따라 프로그램으로 만들어 본다.\n",
    "\n",
    "* 프로그래밍 요소:\n",
    "    * 사용자 입력을 받는다.\n",
    "    * 변수를 사용한다.\n",
    "    * 조건문을 사용한다.\n",
    "    * 다이어그램을 사용한다.\n"
   ]
  },
  {
   "cell_type": "code",
   "execution_count": 36,
   "metadata": {
    "collapsed": false
   },
   "outputs": [
    {
     "data": {
      "image/svg+xml": [
       "<svg height=\"377px\" style=\"width:350px;height:377px;\" version=\"1.1\" viewBox=\"0 0 350 377\" width=\"350px\" xmlns=\"http://www.w3.org/2000/svg\" xmlns:xlink=\"http://www.w3.org/1999/xlink\"><defs><filter height=\"300%\" id=\"f1\" width=\"300%\" x=\"-1\" y=\"-1\"><feGaussianBlur result=\"blurOut\" stdDeviation=\"2.0\"/><feColorMatrix in=\"blurOut\" result=\"blurOut2\" type=\"matrix\" values=\"0 0 0 0 0 0 0 0 0 0 0 0 0 0 0 0 0 0 .4 0\"/><feOffset dx=\"4.0\" dy=\"4.0\" in=\"blurOut2\" result=\"blurOut3\"/><feBlend in=\"SourceGraphic\" in2=\"blurOut3\" mode=\"normal\"/></filter></defs><g><text fill=\"#000000\" font-family=\"sans-serif\" font-size=\"18\" lengthAdjust=\"spacingAndGlyphs\" textLength=\"339\" x=\"10\" y=\"26.708\">Conditional - Draw Triangle or Square</text><ellipse cx=\"177.5\" cy=\"40.9531\" fill=\"#000000\" filter=\"url(#f1)\" rx=\"10\" ry=\"10\" style=\"stroke: none; stroke-width: 1.0;\"/><rect fill=\"#FEFECE\" filter=\"url(#f1)\" height=\"33.9688\" rx=\"12.5\" ry=\"12.5\" style=\"stroke: #A80036; stroke-width: 1.5;\" width=\"159\" x=\"98\" y=\"70.9531\"/><text fill=\"#000000\" font-family=\"sans-serif\" font-size=\"12\" lengthAdjust=\"spacingAndGlyphs\" textLength=\"139\" x=\"108\" y=\"92.0918\">get user input (T or S)</text><polygon fill=\"#FEFECE\" filter=\"url(#f1)\" points=\"135.5,124.9219,219.5,124.9219,231.5,136.9219,219.5,148.9219,135.5,148.9219,123.5,136.9219,135.5,124.9219\" style=\"stroke: #A80036; stroke-width: 1.5;\"/><text fill=\"#000000\" font-family=\"sans-serif\" font-size=\"11\" lengthAdjust=\"spacingAndGlyphs\" textLength=\"84\" x=\"135.5\" y=\"140.73\">user input is S</text><text fill=\"#000000\" font-family=\"sans-serif\" font-size=\"11\" lengthAdjust=\"spacingAndGlyphs\" textLength=\"20\" x=\"103.5\" y=\"134.3276\">yes</text><text fill=\"#000000\" font-family=\"sans-serif\" font-size=\"11\" lengthAdjust=\"spacingAndGlyphs\" textLength=\"14\" x=\"231.5\" y=\"134.3276\">no</text><rect fill=\"#FEFECE\" filter=\"url(#f1)\" height=\"33.9688\" rx=\"12.5\" ry=\"12.5\" style=\"stroke: #A80036; stroke-width: 1.5;\" width=\"71\" x=\"78\" y=\"158.9219\"/><text fill=\"#000000\" font-family=\"sans-serif\" font-size=\"12\" lengthAdjust=\"spacingAndGlyphs\" textLength=\"51\" x=\"88\" y=\"180.0605\">sides=4</text><rect fill=\"#FEFECE\" filter=\"url(#f1)\" height=\"33.9688\" rx=\"12.5\" ry=\"12.5\" style=\"stroke: #A80036; stroke-width: 1.5;\" width=\"81\" x=\"73\" y=\"212.8906\"/><text fill=\"#000000\" font-family=\"sans-serif\" font-size=\"12\" lengthAdjust=\"spacingAndGlyphs\" textLength=\"61\" x=\"83\" y=\"234.0293\">angle=90</text><rect fill=\"#FEFECE\" filter=\"url(#f1)\" height=\"33.9688\" rx=\"12.5\" ry=\"12.5\" style=\"stroke: #A80036; stroke-width: 1.5;\" width=\"71\" x=\"206\" y=\"158.9219\"/><text fill=\"#000000\" font-family=\"sans-serif\" font-size=\"12\" lengthAdjust=\"spacingAndGlyphs\" textLength=\"51\" x=\"216\" y=\"180.0605\">sides=3</text><rect fill=\"#FEFECE\" filter=\"url(#f1)\" height=\"33.9688\" rx=\"12.5\" ry=\"12.5\" style=\"stroke: #A80036; stroke-width: 1.5;\" width=\"89\" x=\"197\" y=\"212.8906\"/><text fill=\"#000000\" font-family=\"sans-serif\" font-size=\"12\" lengthAdjust=\"spacingAndGlyphs\" textLength=\"69\" x=\"207\" y=\"234.0293\">angle=120</text><polygon fill=\"#FEFECE\" filter=\"url(#f1)\" points=\"177.5,252.8594,189.5,264.8594,177.5,276.8594,165.5,264.8594,177.5,252.8594\" style=\"stroke: #A80036; stroke-width: 1.5;\"/><rect fill=\"#FEFECE\" filter=\"url(#f1)\" height=\"33.9688\" rx=\"12.5\" ry=\"12.5\" style=\"stroke: #A80036; stroke-width: 1.5;\" width=\"202\" x=\"76.5\" y=\"296.8594\"/><text fill=\"#000000\" font-family=\"sans-serif\" font-size=\"12\" lengthAdjust=\"spacingAndGlyphs\" textLength=\"182\" x=\"86.5\" y=\"317.998\">draw shape with sides, angle</text><ellipse cx=\"177.5\" cy=\"360.8281\" fill=\"none\" filter=\"url(#f1)\" rx=\"10\" ry=\"10\" style=\"stroke: #000000; stroke-width: 1.0;\"/><ellipse cx=\"178\" cy=\"361.3281\" fill=\"#000000\" filter=\"url(#f1)\" rx=\"6\" ry=\"6\" style=\"stroke: none; stroke-width: 1.0;\"/><line style=\"stroke: #A80036; stroke-width: 1.5;\" x1=\"177.5\" x2=\"177.5\" y1=\"50.9531\" y2=\"70.9531\"/><polygon fill=\"#A80036\" points=\"173.5,60.9531,177.5,70.9531,181.5,60.9531,177.5,64.9531\" style=\"stroke: #A80036; stroke-width: 1.0;\"/><line style=\"stroke: #A80036; stroke-width: 1.5;\" x1=\"113.5\" x2=\"113.5\" y1=\"192.8906\" y2=\"212.8906\"/><polygon fill=\"#A80036\" points=\"109.5,202.8906,113.5,212.8906,117.5,202.8906,113.5,206.8906\" style=\"stroke: #A80036; stroke-width: 1.0;\"/><line style=\"stroke: #A80036; stroke-width: 1.5;\" x1=\"241.5\" x2=\"241.5\" y1=\"192.8906\" y2=\"212.8906\"/><polygon fill=\"#A80036\" points=\"237.5,202.8906,241.5,212.8906,245.5,202.8906,241.5,206.8906\" style=\"stroke: #A80036; stroke-width: 1.0;\"/><line style=\"stroke: #A80036; stroke-width: 1.5;\" x1=\"123.5\" x2=\"113.5\" y1=\"136.9219\" y2=\"136.9219\"/><line style=\"stroke: #A80036; stroke-width: 1.5;\" x1=\"113.5\" x2=\"113.5\" y1=\"136.9219\" y2=\"158.9219\"/><polygon fill=\"#A80036\" points=\"109.5,148.9219,113.5,158.9219,117.5,148.9219,113.5,152.9219\" style=\"stroke: #A80036; stroke-width: 1.0;\"/><line style=\"stroke: #A80036; stroke-width: 1.5;\" x1=\"231.5\" x2=\"241.5\" y1=\"136.9219\" y2=\"136.9219\"/><line style=\"stroke: #A80036; stroke-width: 1.5;\" x1=\"241.5\" x2=\"241.5\" y1=\"136.9219\" y2=\"158.9219\"/><polygon fill=\"#A80036\" points=\"237.5,148.9219,241.5,158.9219,245.5,148.9219,241.5,152.9219\" style=\"stroke: #A80036; stroke-width: 1.0;\"/><line style=\"stroke: #A80036; stroke-width: 1.5;\" x1=\"113.5\" x2=\"113.5\" y1=\"246.8594\" y2=\"264.8594\"/><line style=\"stroke: #A80036; stroke-width: 1.5;\" x1=\"113.5\" x2=\"165.5\" y1=\"264.8594\" y2=\"264.8594\"/><polygon fill=\"#A80036\" points=\"155.5,260.8594,165.5,264.8594,155.5,268.8594,159.5,264.8594\" style=\"stroke: #A80036; stroke-width: 1.0;\"/><line style=\"stroke: #A80036; stroke-width: 1.5;\" x1=\"241.5\" x2=\"241.5\" y1=\"246.8594\" y2=\"264.8594\"/><line style=\"stroke: #A80036; stroke-width: 1.5;\" x1=\"241.5\" x2=\"189.5\" y1=\"264.8594\" y2=\"264.8594\"/><polygon fill=\"#A80036\" points=\"199.5,260.8594,189.5,264.8594,199.5,268.8594,195.5,264.8594\" style=\"stroke: #A80036; stroke-width: 1.0;\"/><line style=\"stroke: #A80036; stroke-width: 1.5;\" x1=\"177.5\" x2=\"177.5\" y1=\"104.9219\" y2=\"124.9219\"/><polygon fill=\"#A80036\" points=\"173.5,114.9219,177.5,124.9219,181.5,114.9219,177.5,118.9219\" style=\"stroke: #A80036; stroke-width: 1.0;\"/><line style=\"stroke: #A80036; stroke-width: 1.5;\" x1=\"177.5\" x2=\"177.5\" y1=\"276.8594\" y2=\"296.8594\"/><polygon fill=\"#A80036\" points=\"173.5,286.8594,177.5,296.8594,181.5,286.8594,177.5,290.8594\" style=\"stroke: #A80036; stroke-width: 1.0;\"/><line style=\"stroke: #A80036; stroke-width: 1.5;\" x1=\"177.5\" x2=\"177.5\" y1=\"330.8281\" y2=\"350.8281\"/><polygon fill=\"#A80036\" points=\"173.5,340.8281,177.5,350.8281,181.5,340.8281,177.5,344.8281\" style=\"stroke: #A80036; stroke-width: 1.0;\"/></g></svg>"
      ],
      "text/plain": [
       "<IPython.core.display.SVG object>"
      ]
     },
     "execution_count": 36,
     "metadata": {},
     "output_type": "execute_result"
    }
   ],
   "source": [
    "%%plantuml\n",
    "@startuml\n",
    "\n",
    "title Conditional - Draw Triangle or Square\n",
    "\n",
    "\n",
    "start\n",
    "\n",
    ":get user input (T or S); \n",
    "\n",
    "if (user input is S) then (yes)\n",
    "  :sides=4;\n",
    "  :angle=90;\n",
    "else (no)\n",
    "  :sides=3;\n",
    "  :angle=120;\n",
    "endif\n",
    "\n",
    ":draw shape with sides, angle;\n",
    "\n",
    "stop\n",
    "\n",
    "@enduml"
   ]
  },
  {
   "cell_type": "markdown",
   "metadata": {},
   "source": [
    "* raw_input함수\n",
    "    * 인자는 문자열\n",
    "    * 입력 값을 돌려주는 함수\n",
    "        * 돌려받은 값이 숫자이더라도 연산을 하면 되지 않는 이유를 생각해 본다.\n",
    "    * 입력값은 sel에 저장된다."
   ]
  },
  {
   "cell_type": "code",
   "execution_count": 21,
   "metadata": {
    "collapsed": false
   },
   "outputs": [
    {
     "name": "stdout",
     "output_type": "stream",
     "text": [
      "Triange or Square (T or S): hello\n",
      "hello\n"
     ]
    }
   ],
   "source": [
    "# 사용자 입력받기\n",
    "sel=raw_input(\"Triange or Square (T or S): \")\n",
    "print sel"
   ]
  },
  {
   "cell_type": "code",
   "execution_count": null,
   "metadata": {
    "collapsed": true
   },
   "outputs": [],
   "source": [
    "sel=raw_input(\"Triange or Square (T or S): \")\n",
    "size=100\n",
    "if sel=='T':\n",
    "    sides=3\n",
    "    angle=120\n",
    "elif sel=='S':\n",
    "    sides=4\n",
    "    angle=90\n",
    "for i in range(0,sides):\n",
    "    t1.forward(size)\n",
    "    t1.right(angle)"
   ]
  },
  {
   "cell_type": "code",
   "execution_count": 44,
   "metadata": {
    "collapsed": false
   },
   "outputs": [
    {
     "name": "stdout",
     "output_type": "stream",
     "text": [
      "Appending to src/pfun.py\n"
     ]
    }
   ],
   "source": [
    "\n",
    "def drawSquareOrTriangle(size,sides,angle):\n",
    "    t1.home()\n",
    "    t1.clear()\n",
    "    for i in range(0,sides):\n",
    "        t1.forward(size)\n",
    "        t1.right(angle)\n",
    "\n",
    "sel=raw_input(\"Triange or Square (T or S): \")\n",
    "size=100\n",
    "if sel=='T':\n",
    "    sides=3\n",
    "    angle=120\n",
    "elif sel=='S':\n",
    "    sides=4\n",
    "    angle=90\n",
    "drawSquareOrTriangle(100, sides, angle)"
   ]
  },
  {
   "cell_type": "markdown",
   "metadata": {},
   "source": [
    "## 제어-3 바람개비 도형 그리기\n",
    "\n",
    "* 바람개비는 반복을 한다. 반복문 for를 사용한다.\n",
    "* 경우에 따라서 크기를 키워야 한다. 조건문 if를 사용한다.\n",
    "* 바람개비 모양\n",
    "    * 커지는 패턴을 확인한다.\n",
    "    * 짝수 마다 크기를 늘려주기로 한다.\n",
    "* 함수\n",
    "    * makeSwirlSquare(size,bigger,turns,angle)"
   ]
  },
  {
   "cell_type": "code",
   "execution_count": 39,
   "metadata": {
    "collapsed": false
   },
   "outputs": [
    {
     "data": {
      "image/svg+xml": [
       "<svg height=\"567px\" style=\"width:231px;height:567px;\" version=\"1.1\" viewBox=\"0 0 231 567\" width=\"231px\" xmlns=\"http://www.w3.org/2000/svg\" xmlns:xlink=\"http://www.w3.org/1999/xlink\"><defs><filter height=\"300%\" id=\"f1\" width=\"300%\" x=\"-1\" y=\"-1\"><feGaussianBlur result=\"blurOut\" stdDeviation=\"2.0\"/><feColorMatrix in=\"blurOut\" result=\"blurOut2\" type=\"matrix\" values=\"0 0 0 0 0 0 0 0 0 0 0 0 0 0 0 0 0 0 .4 0\"/><feOffset dx=\"4.0\" dy=\"4.0\" in=\"blurOut2\" result=\"blurOut3\"/><feBlend in=\"SourceGraphic\" in2=\"blurOut3\" mode=\"normal\"/></filter></defs><g><ellipse cx=\"123.5\" cy=\"20\" fill=\"#000000\" filter=\"url(#f1)\" rx=\"10\" ry=\"10\" style=\"stroke: none; stroke-width: 1.0;\"/><rect fill=\"#FEFECE\" filter=\"url(#f1)\" height=\"33.9688\" rx=\"12.5\" ry=\"12.5\" style=\"stroke: #A80036; stroke-width: 1.5;\" width=\"143\" x=\"52\" y=\"50\"/><text fill=\"#000000\" font-family=\"sans-serif\" font-size=\"12\" lengthAdjust=\"spacingAndGlyphs\" textLength=\"123\" x=\"62\" y=\"71.1387\">set how many turns</text><rect fill=\"#FEFECE\" filter=\"url(#f1)\" height=\"33.9688\" rx=\"12.5\" ry=\"12.5\" style=\"stroke: #A80036; stroke-width: 1.5;\" width=\"202\" x=\"22.5\" y=\"103.9688\"/><text fill=\"#000000\" font-family=\"sans-serif\" font-size=\"12\" lengthAdjust=\"spacingAndGlyphs\" textLength=\"182\" x=\"32.5\" y=\"125.1074\">set how much to grow bigger</text><rect fill=\"#FEFECE\" filter=\"url(#f1)\" height=\"33.9688\" rx=\"12.5\" ry=\"12.5\" style=\"stroke: #A80036; stroke-width: 1.5;\" width=\"79\" x=\"84\" y=\"157.9375\"/><text fill=\"#000000\" font-family=\"sans-serif\" font-size=\"12\" lengthAdjust=\"spacingAndGlyphs\" textLength=\"59\" x=\"94\" y=\"179.0762\">set angle</text><rect fill=\"#FEFECE\" filter=\"url(#f1)\" height=\"33.9688\" rx=\"12.5\" ry=\"12.5\" style=\"stroke: #A80036; stroke-width: 1.5;\" width=\"101\" x=\"73\" y=\"211.9063\"/><text fill=\"#000000\" font-family=\"sans-serif\" font-size=\"12\" lengthAdjust=\"spacingAndGlyphs\" textLength=\"81\" x=\"83\" y=\"233.0449\">set start size</text><polygon fill=\"#FEFECE\" filter=\"url(#f1)\" points=\"79,309.875,168,309.875,180,321.875,168,333.875,79,333.875,67,321.875,79,309.875\" style=\"stroke: #A80036; stroke-width: 1.5;\"/><text fill=\"#000000\" font-family=\"sans-serif\" font-size=\"11\" lengthAdjust=\"spacingAndGlyphs\" textLength=\"89\" x=\"79\" y=\"325.6831\">i is divided by 2</text><rect fill=\"#FEFECE\" filter=\"url(#f1)\" height=\"33.9688\" rx=\"12.5\" ry=\"12.5\" style=\"stroke: #A80036; stroke-width: 1.5;\" width=\"94\" x=\"10\" y=\"343.875\"/><text fill=\"#000000\" font-family=\"sans-serif\" font-size=\"12\" lengthAdjust=\"spacingAndGlyphs\" textLength=\"74\" x=\"20\" y=\"365.0137\">grow bigger</text><polygon fill=\"#FEFECE\" filter=\"url(#f1)\" points=\"123.5,383.8438,135.5,395.8438,123.5,407.8438,111.5,395.8438,123.5,383.8438\" style=\"stroke: #A80036; stroke-width: 1.5;\"/><rect fill=\"#FEFECE\" filter=\"url(#f1)\" height=\"33.9688\" rx=\"12.5\" ry=\"12.5\" style=\"stroke: #A80036; stroke-width: 1.5;\" width=\"50\" x=\"98.5\" y=\"442.8438\"/><text fill=\"#000000\" font-family=\"sans-serif\" font-size=\"12\" lengthAdjust=\"spacingAndGlyphs\" textLength=\"30\" x=\"108.5\" y=\"463.9824\">draw</text><polygon fill=\"#FEFECE\" filter=\"url(#f1)\" points=\"123.5,265.875,135.5,277.875,123.5,289.875,111.5,277.875,123.5,265.875\" style=\"stroke: #A80036; stroke-width: 1.5;\"/><polygon fill=\"#FEFECE\" filter=\"url(#f1)\" points=\"108.5,496.8125,138.5,496.8125,150.5,508.8125,138.5,520.8125,108.5,520.8125,96.5,508.8125,108.5,496.8125\" style=\"stroke: #A80036; stroke-width: 1.5;\"/><text fill=\"#000000\" font-family=\"sans-serif\" font-size=\"11\" lengthAdjust=\"spacingAndGlyphs\" textLength=\"30\" x=\"108.5\" y=\"512.6206\">turns</text><ellipse cx=\"123.5\" cy=\"550.8125\" fill=\"none\" filter=\"url(#f1)\" rx=\"10\" ry=\"10\" style=\"stroke: #000000; stroke-width: 1.0;\"/><ellipse cx=\"124\" cy=\"551.3125\" fill=\"#000000\" filter=\"url(#f1)\" rx=\"6\" ry=\"6\" style=\"stroke: none; stroke-width: 1.0;\"/><line style=\"stroke: #A80036; stroke-width: 1.5;\" x1=\"123.5\" x2=\"123.5\" y1=\"30\" y2=\"50\"/><polygon fill=\"#A80036\" points=\"119.5,40,123.5,50,127.5,40,123.5,44\" style=\"stroke: #A80036; stroke-width: 1.0;\"/><line style=\"stroke: #A80036; stroke-width: 1.5;\" x1=\"123.5\" x2=\"123.5\" y1=\"83.9688\" y2=\"103.9688\"/><polygon fill=\"#A80036\" points=\"119.5,93.9688,123.5,103.9688,127.5,93.9688,123.5,97.9688\" style=\"stroke: #A80036; stroke-width: 1.0;\"/><line style=\"stroke: #A80036; stroke-width: 1.5;\" x1=\"123.5\" x2=\"123.5\" y1=\"137.9375\" y2=\"157.9375\"/><polygon fill=\"#A80036\" points=\"119.5,147.9375,123.5,157.9375,127.5,147.9375,123.5,151.9375\" style=\"stroke: #A80036; stroke-width: 1.0;\"/><line style=\"stroke: #A80036; stroke-width: 1.5;\" x1=\"123.5\" x2=\"123.5\" y1=\"191.9063\" y2=\"211.9063\"/><polygon fill=\"#A80036\" points=\"119.5,201.9063,123.5,211.9063,127.5,201.9063,123.5,205.9063\" style=\"stroke: #A80036; stroke-width: 1.0;\"/><line style=\"stroke: #A80036; stroke-width: 1.5;\" x1=\"67\" x2=\"57\" y1=\"321.875\" y2=\"321.875\"/><line style=\"stroke: #A80036; stroke-width: 1.5;\" x1=\"57\" x2=\"57\" y1=\"321.875\" y2=\"343.875\"/><polygon fill=\"#A80036\" points=\"53,333.875,57,343.875,61,333.875,57,337.875\" style=\"stroke: #A80036; stroke-width: 1.0;\"/><line style=\"stroke: #A80036; stroke-width: 1.5;\" x1=\"180\" x2=\"190\" y1=\"321.875\" y2=\"321.875\"/><polygon fill=\"#A80036\" points=\"186,348.8594,190,358.8594,194,348.8594,190,352.8594\" style=\"stroke: #A80036; stroke-width: 1.5;\"/><line style=\"stroke: #A80036; stroke-width: 1.5;\" x1=\"190\" x2=\"190\" y1=\"321.875\" y2=\"395.8438\"/><line style=\"stroke: #A80036; stroke-width: 1.5;\" x1=\"190\" x2=\"135.5\" y1=\"395.8438\" y2=\"395.8438\"/><polygon fill=\"#A80036\" points=\"145.5,391.8438,135.5,395.8438,145.5,399.8438,141.5,395.8438\" style=\"stroke: #A80036; stroke-width: 1.0;\"/><line style=\"stroke: #A80036; stroke-width: 1.5;\" x1=\"57\" x2=\"57\" y1=\"377.8438\" y2=\"395.8438\"/><line style=\"stroke: #A80036; stroke-width: 1.5;\" x1=\"57\" x2=\"111.5\" y1=\"395.8438\" y2=\"395.8438\"/><polygon fill=\"#A80036\" points=\"101.5,391.8438,111.5,395.8438,101.5,399.8438,105.5,395.8438\" style=\"stroke: #A80036; stroke-width: 1.0;\"/><line style=\"stroke: #A80036; stroke-width: 1.5;\" x1=\"123.5\" x2=\"123.5\" y1=\"407.8438\" y2=\"442.8438\"/><polygon fill=\"#A80036\" points=\"119.5,432.8438,123.5,442.8438,127.5,432.8438,123.5,436.8438\" style=\"stroke: #A80036; stroke-width: 1.0;\"/><line style=\"stroke: #A80036; stroke-width: 1.5;\" x1=\"123.5\" x2=\"123.5\" y1=\"289.875\" y2=\"309.875\"/><polygon fill=\"#A80036\" points=\"119.5,299.875,123.5,309.875,127.5,299.875,123.5,303.875\" style=\"stroke: #A80036; stroke-width: 1.0;\"/><line style=\"stroke: #A80036; stroke-width: 1.5;\" x1=\"150.5\" x2=\"227\" y1=\"508.8125\" y2=\"508.8125\"/><polygon fill=\"#A80036\" points=\"223,427.3438,227,417.3438,231,427.3438,227,423.3438\" style=\"stroke: #A80036; stroke-width: 1.5;\"/><line style=\"stroke: #A80036; stroke-width: 1.5;\" x1=\"227\" x2=\"227\" y1=\"277.875\" y2=\"508.8125\"/><line style=\"stroke: #A80036; stroke-width: 1.5;\" x1=\"227\" x2=\"135.5\" y1=\"277.875\" y2=\"277.875\"/><polygon fill=\"#A80036\" points=\"145.5,273.875,135.5,277.875,145.5,281.875,141.5,277.875\" style=\"stroke: #A80036; stroke-width: 1.0;\"/><line style=\"stroke: #A80036; stroke-width: 1.5;\" x1=\"123.5\" x2=\"123.5\" y1=\"476.8125\" y2=\"496.8125\"/><polygon fill=\"#A80036\" points=\"119.5,486.8125,123.5,496.8125,127.5,486.8125,123.5,490.8125\" style=\"stroke: #A80036; stroke-width: 1.0;\"/><line style=\"stroke: #A80036; stroke-width: 1.5;\" x1=\"123.5\" x2=\"123.5\" y1=\"245.875\" y2=\"265.875\"/><polygon fill=\"#A80036\" points=\"119.5,255.875,123.5,265.875,127.5,255.875,123.5,259.875\" style=\"stroke: #A80036; stroke-width: 1.0;\"/><line style=\"stroke: #A80036; stroke-width: 1.5;\" x1=\"123.5\" x2=\"123.5\" y1=\"520.8125\" y2=\"540.8125\"/><polygon fill=\"#A80036\" points=\"119.5,530.8125,123.5,540.8125,127.5,530.8125,123.5,534.8125\" style=\"stroke: #A80036; stroke-width: 1.0;\"/></g></svg>"
      ],
      "text/plain": [
       "<IPython.core.display.SVG object>"
      ]
     },
     "execution_count": 39,
     "metadata": {},
     "output_type": "execute_result"
    }
   ],
   "source": [
    "%%plantuml\n",
    "@startuml\n",
    "start\n",
    ":set how many turns;\n",
    ":set how much to grow bigger;\n",
    ":set angle;\n",
    ":set start size;\n",
    "repeat\n",
    "if (i is divided by 2) then\n",
    "    :grow bigger;\n",
    "endif\n",
    ":draw;\n",
    "repeat while(turns)\n",
    "stop\n",
    "@enduml"
   ]
  },
  {
   "cell_type": "markdown",
   "metadata": {},
   "source": [
    "* % 연산자 (modulo)\n",
    "    * 나머지가 있으면 1\n",
    "    * 나머지가 없으면 0\n",
    "* if문과 modulo\n",
    "    * 나머지가 있으면 TRUE\n",
    "    * 나머지가 없으면 FALSE\n",
    "* if 문에 not 연산자를 섞어쓰면 이해하기 어려워진다."
   ]
  },
  {
   "cell_type": "code",
   "execution_count": 14,
   "metadata": {
    "collapsed": false
   },
   "outputs": [
    {
     "name": "stdout",
     "output_type": "stream",
     "text": [
      "there is no remainder!\n"
     ]
    }
   ],
   "source": [
    "if 6%2:\n",
    "    print \"there is a remainder!\"\n",
    "else:\n",
    "    print \"there is no remainder!\""
   ]
  },
  {
   "cell_type": "code",
   "execution_count": 15,
   "metadata": {
    "collapsed": false
   },
   "outputs": [
    {
     "name": "stdout",
     "output_type": "stream",
     "text": [
      "there is no remainder!\n"
     ]
    }
   ],
   "source": [
    "if not 6%2:\n",
    "    print \"there is no remainder!\"\n",
    "else:\n",
    "    print \"there is a remainder!\""
   ]
  },
  {
   "cell_type": "code",
   "execution_count": 16,
   "metadata": {
    "collapsed": false
   },
   "outputs": [
    {
     "name": "stdout",
     "output_type": "stream",
     "text": [
      "1 3 5 7 9\n"
     ]
    }
   ],
   "source": [
    "#for문과 결합해서 해 본다.\n",
    "x=range(0,10)\n",
    "for i in x:\n",
    "    if i%2:\n",
    "        print i,"
   ]
  },
  {
   "cell_type": "code",
   "execution_count": 21,
   "metadata": {
    "collapsed": false
   },
   "outputs": [
    {
     "name": "stdout",
     "output_type": "stream",
     "text": [
      "0 20\n",
      "1 20\n",
      "2 35\n",
      "3 35\n",
      "4 50\n",
      "5 50\n",
      "6 65\n",
      "7 65\n",
      "8 80\n",
      "9 80\n"
     ]
    }
   ],
   "source": [
    "sides=10\n",
    "size=5\n",
    "bigger=15\n",
    "for i in range(0,10):\n",
    "    if not (i%2):\n",
    "        size+=bigger\n",
    "    print i, size"
   ]
  },
  {
   "cell_type": "code",
   "execution_count": 23,
   "metadata": {
    "collapsed": true
   },
   "outputs": [],
   "source": [
    "turns=20\n",
    "angle=90\n",
    "size=5\n",
    "bigger=15\n",
    "t1.home()\n",
    "t1.clear()\n",
    "for i in range(0,turns):\n",
    "    if not (i%2):\n",
    "        size+=bigger\n",
    "    t1.forward(size)\n",
    "    t1.right(angle)"
   ]
  },
  {
   "cell_type": "code",
   "execution_count": 27,
   "metadata": {
    "collapsed": false
   },
   "outputs": [],
   "source": [
    "def makeSwirlSquare(size,bigger,turns,angle):\n",
    "    nBigger=2\n",
    "    for i in range(0,turns):\n",
    "        #if divided by nBigger, make it bigger\n",
    "        if not i%nBigger:\n",
    "            size+=bigger\n",
    "        t1.forward(size)\n",
    "        t1.right(angle)\n",
    "\n",
    "turns=20\n",
    "size=5\n",
    "bigger=15\n",
    "angle=90\n",
    "t1.home()\n",
    "t1.clear()\n",
    "makeSwirlSquare(size,bigger,turns,angle)"
   ]
  },
  {
   "cell_type": "markdown",
   "metadata": {
    "slideshow": {
     "slide_type": "slide"
    }
   },
   "source": [
    "## 제어-4: 온도를 입력받아서 F-C 변환\n",
    "\n",
    "* 프로그래밍 요소\n",
    "    * 다분기 if-elseif를 이해한다.\n",
    "    * 사용자 입력을 이해한다.\n",
    "    * 데이터형 (문자열, 정수, 소수)을 이해한다.\n",
    "    * 화면출력을 이해한다.\n",
    "\n",
    "* 앞서 배운 변수를 이해하고, 사용자에게서 받은 변수에 따라 프로그램의 반응이 달라진다."
   ]
  },
  {
   "cell_type": "code",
   "execution_count": 6,
   "metadata": {
    "collapsed": false,
    "slideshow": {
     "slide_type": "slide"
    }
   },
   "outputs": [
    {
     "data": {
      "image/svg+xml": [
       "<svg height=\"370px\" style=\"width:405px;height:370px;\" version=\"1.1\" viewBox=\"0 0 405 370\" width=\"405px\" xmlns=\"http://www.w3.org/2000/svg\" xmlns:xlink=\"http://www.w3.org/1999/xlink\"><defs><filter height=\"300%\" id=\"f1\" width=\"300%\" x=\"-1\" y=\"-1\"><feGaussianBlur result=\"blurOut\" stdDeviation=\"2.0\"/><feColorMatrix in=\"blurOut\" result=\"blurOut2\" type=\"matrix\" values=\"0 0 0 0 0 0 0 0 0 0 0 0 0 0 0 0 0 0 .4 0\"/><feOffset dx=\"4.0\" dy=\"4.0\" in=\"blurOut2\" result=\"blurOut3\"/><feBlend in=\"SourceGraphic\" in2=\"blurOut3\" mode=\"normal\"/></filter></defs><g><ellipse cx=\"204\" cy=\"20\" fill=\"#000000\" filter=\"url(#f1)\" rx=\"10\" ry=\"10\" style=\"stroke: none; stroke-width: 1.0;\"/><rect fill=\"#FEFECE\" filter=\"url(#f1)\" height=\"34.1328\" rx=\"12.5\" ry=\"12.5\" style=\"stroke: #A80036; stroke-width: 1.5;\" width=\"138\" x=\"135\" y=\"50\"/><text fill=\"#000000\" font-family=\"sans-serif\" font-size=\"12\" lengthAdjust=\"spacingAndGlyphs\" textLength=\"118\" x=\"145\" y=\"71.6016\">get user input F or C</text><rect fill=\"#FEFECE\" filter=\"url(#f1)\" height=\"34.1328\" rx=\"12.5\" ry=\"12.5\" style=\"stroke: #A80036; stroke-width: 1.5;\" width=\"176\" x=\"116\" y=\"104.1328\"/><text fill=\"#000000\" font-family=\"sans-serif\" font-size=\"12\" lengthAdjust=\"spacingAndGlyphs\" textLength=\"156\" x=\"126\" y=\"125.7344\">get user input temperature</text><polygon fill=\"#FEFECE\" filter=\"url(#f1)\" points=\"27.5,158.2656,91.5,158.2656,103.5,170.2656,91.5,182.2656,27.5,182.2656,15.5,170.2656,27.5,158.2656\" style=\"stroke: #A80036; stroke-width: 1.5;\"/><text fill=\"#000000\" font-family=\"sans-serif\" font-size=\"11\" lengthAdjust=\"spacingAndGlyphs\" textLength=\"6\" x=\"63.5\" y=\"192.9004\">F</text><text fill=\"#000000\" font-family=\"sans-serif\" font-size=\"11\" lengthAdjust=\"spacingAndGlyphs\" textLength=\"64\" x=\"27.5\" y=\"174.4229\">user input F</text><rect fill=\"#FEFECE\" filter=\"url(#f1)\" height=\"34.1328\" rx=\"12.5\" ry=\"12.5\" style=\"stroke: #A80036; stroke-width: 1.5;\" width=\"99\" x=\"10\" y=\"215.2207\"/><text fill=\"#000000\" font-family=\"sans-serif\" font-size=\"12\" lengthAdjust=\"spacingAndGlyphs\" textLength=\"79\" x=\"20\" y=\"236.8223\">convert F to C</text><polygon fill=\"#FEFECE\" filter=\"url(#f1)\" points=\"145.5,158.2656,211.5,158.2656,223.5,170.2656,211.5,182.2656,145.5,182.2656,133.5,170.2656,145.5,158.2656\" style=\"stroke: #A80036; stroke-width: 1.5;\"/><text fill=\"#000000\" font-family=\"sans-serif\" font-size=\"11\" lengthAdjust=\"spacingAndGlyphs\" textLength=\"8\" x=\"182.5\" y=\"192.9004\">C</text><text fill=\"#000000\" font-family=\"sans-serif\" font-size=\"11\" lengthAdjust=\"spacingAndGlyphs\" textLength=\"66\" x=\"145.5\" y=\"174.4229\">user input C</text><text fill=\"#000000\" font-family=\"sans-serif\" font-size=\"11\" lengthAdjust=\"spacingAndGlyphs\" textLength=\"80\" x=\"223.5\" y=\"167.9453\">neither F nor C</text><rect fill=\"#FEFECE\" filter=\"url(#f1)\" height=\"34.1328\" rx=\"12.5\" ry=\"12.5\" style=\"stroke: #A80036; stroke-width: 1.5;\" width=\"99\" x=\"129\" y=\"215.2207\"/><text fill=\"#000000\" font-family=\"sans-serif\" font-size=\"12\" lengthAdjust=\"spacingAndGlyphs\" textLength=\"79\" x=\"139\" y=\"236.8223\">convert C to F</text><rect fill=\"#FEFECE\" filter=\"url(#f1)\" height=\"34.1328\" rx=\"12.5\" ry=\"12.5\" style=\"stroke: #A80036; stroke-width: 1.5;\" width=\"150\" x=\"248\" y=\"211.7432\"/><text fill=\"#000000\" font-family=\"sans-serif\" font-size=\"12\" lengthAdjust=\"spacingAndGlyphs\" textLength=\"130\" x=\"258\" y=\"233.3447\">print &quot;user input error&quot;</text><rect fill=\"#FEFECE\" filter=\"url(#f1)\" height=\"34.1328\" rx=\"12.5\" ry=\"12.5\" style=\"stroke: #A80036; stroke-width: 1.5;\" width=\"83\" x=\"162.5\" y=\"289.3535\"/><text fill=\"#000000\" font-family=\"sans-serif\" font-size=\"12\" lengthAdjust=\"spacingAndGlyphs\" textLength=\"63\" x=\"172.5\" y=\"310.9551\">print result</text><ellipse cx=\"204\" cy=\"353.4863\" fill=\"none\" filter=\"url(#f1)\" rx=\"10\" ry=\"10\" style=\"stroke: #000000; stroke-width: 1.0;\"/><ellipse cx=\"204.5\" cy=\"353.9863\" fill=\"#000000\" filter=\"url(#f1)\" rx=\"6\" ry=\"6\" style=\"stroke: none; stroke-width: 1.0;\"/><line style=\"stroke: #A80036; stroke-width: 1.5;\" x1=\"204\" x2=\"204\" y1=\"30\" y2=\"50\"/><polygon fill=\"#A80036\" points=\"200,40,204,50,208,40,204,44\" style=\"stroke: #A80036; stroke-width: 1.0;\"/><line style=\"stroke: #A80036; stroke-width: 1.5;\" x1=\"204\" x2=\"204\" y1=\"84.1328\" y2=\"104.1328\"/><polygon fill=\"#A80036\" points=\"200,94.1328,204,104.1328,208,94.1328,204,98.1328\" style=\"stroke: #A80036; stroke-width: 1.0;\"/><line style=\"stroke: #A80036; stroke-width: 1.5;\" x1=\"59.5\" x2=\"59.5\" y1=\"182.2656\" y2=\"215.2207\"/><polygon fill=\"#A80036\" points=\"55.5,205.2207,59.5,215.2207,63.5,205.2207,59.5,209.2207\" style=\"stroke: #A80036; stroke-width: 1.0;\"/><line style=\"stroke: #A80036; stroke-width: 1.5;\" x1=\"59.5\" x2=\"59.5\" y1=\"249.3535\" y2=\"269.3535\"/><polygon fill=\"#A80036\" points=\"55.5,259.3535,59.5,269.3535,63.5,259.3535,59.5,263.3535\" style=\"stroke: #A80036; stroke-width: 1.0;\"/><line style=\"stroke: #A80036; stroke-width: 1.5;\" x1=\"178.5\" x2=\"178.5\" y1=\"182.2656\" y2=\"215.2207\"/><polygon fill=\"#A80036\" points=\"174.5,205.2207,178.5,215.2207,182.5,205.2207,178.5,209.2207\" style=\"stroke: #A80036; stroke-width: 1.0;\"/><line style=\"stroke: #A80036; stroke-width: 1.5;\" x1=\"178.5\" x2=\"178.5\" y1=\"249.3535\" y2=\"269.3535\"/><polygon fill=\"#A80036\" points=\"174.5,259.3535,178.5,269.3535,182.5,259.3535,178.5,263.3535\" style=\"stroke: #A80036; stroke-width: 1.0;\"/><line style=\"stroke: #A80036; stroke-width: 1.5;\" x1=\"103.5\" x2=\"133.5\" y1=\"170.2656\" y2=\"170.2656\"/><polygon fill=\"#A80036\" points=\"123.5,166.2656,133.5,170.2656,123.5,174.2656,127.5,170.2656\" style=\"stroke: #A80036; stroke-width: 1.0;\"/><line style=\"stroke: #A80036; stroke-width: 1.5;\" x1=\"204\" x2=\"204\" y1=\"138.2656\" y2=\"143.2656\"/><line style=\"stroke: #A80036; stroke-width: 1.5;\" x1=\"204\" x2=\"59.5\" y1=\"143.2656\" y2=\"143.2656\"/><line style=\"stroke: #A80036; stroke-width: 1.5;\" x1=\"59.5\" x2=\"59.5\" y1=\"143.2656\" y2=\"158.2656\"/><polygon fill=\"#A80036\" points=\"55.5,148.2656,59.5,158.2656,63.5,148.2656,59.5,152.2656\" style=\"stroke: #A80036; stroke-width: 1.0;\"/><line style=\"stroke: #A80036; stroke-width: 1.5;\" x1=\"223.5\" x2=\"323\" y1=\"170.2656\" y2=\"170.2656\"/><line style=\"stroke: #A80036; stroke-width: 1.5;\" x1=\"323\" x2=\"323\" y1=\"170.2656\" y2=\"211.7432\"/><polygon fill=\"#A80036\" points=\"319,201.7432,323,211.7432,327,201.7432,323,205.7432\" style=\"stroke: #A80036; stroke-width: 1.0;\"/><line style=\"stroke: #A80036; stroke-width: 1.5;\" x1=\"323\" x2=\"323\" y1=\"245.876\" y2=\"269.3535\"/><polygon fill=\"#A80036\" points=\"319,259.3535,323,269.3535,327,259.3535,323,263.3535\" style=\"stroke: #A80036; stroke-width: 1.0;\"/><line style=\"stroke: #A80036; stroke-width: 1.5;\" x1=\"59.5\" x2=\"323\" y1=\"269.3535\" y2=\"269.3535\"/><line style=\"stroke: #A80036; stroke-width: 1.5;\" x1=\"204\" x2=\"204\" y1=\"269.3535\" y2=\"289.3535\"/><polygon fill=\"#A80036\" points=\"200,279.3535,204,289.3535,208,279.3535,204,283.3535\" style=\"stroke: #A80036; stroke-width: 1.0;\"/><line style=\"stroke: #A80036; stroke-width: 1.5;\" x1=\"204\" x2=\"204\" y1=\"323.4863\" y2=\"343.4863\"/><polygon fill=\"#A80036\" points=\"200,333.4863,204,343.4863,208,333.4863,204,337.4863\" style=\"stroke: #A80036; stroke-width: 1.0;\"/></g></svg>"
      ],
      "text/plain": [
       "<IPython.core.display.SVG object>"
      ]
     },
     "execution_count": 6,
     "metadata": {},
     "output_type": "execute_result"
    }
   ],
   "source": [
    "%%plantuml\n",
    "@startuml\n",
    "start\n",
    ":get user input F or C;\n",
    ":get user input temperature;\n",
    "if (user input F) then (F)\n",
    "    :convert F to C;\n",
    "elseif(user input C) then(C)\n",
    "    :convert C to F;\n",
    "else(neither F nor C)\n",
    ":print \"user input error\";\n",
    "endif\n",
    ":print result;\n",
    "stophttp://localhost:8888/notebooks/4_5_controlstructure.ipynb#\n",
    "@enduml"
   ]
  },
  {
   "cell_type": "markdown",
   "metadata": {
    "slideshow": {
     "slide_type": "slide"
    }
   },
   "source": [
    "### 변수의 이해\n",
    "\n",
    "* 변수는 메모리에 저장된 값에 대한 명칭이다.\n",
    "* 변수를 저장하는 이유는, 다시 사용하려고 하기 때문이다."
   ]
  },
  {
   "cell_type": "markdown",
   "metadata": {
    "slideshow": {
     "slide_type": "slide"
    }
   },
   "source": [
    "### 사용자에게서 입력 받기\n",
    "\n",
    "* 사용자에게 입력을 받는 것은 컴퓨터에게서 받는 것보다 어렵다.\n",
    "    * 사용자는 예상하지 못한 입력을 넣는 경우가 있기 때문에 오류를 확인하는 것이 필수적이다.\n",
    "        * 숫자를 넣으라고 하면, 문자를 넣거나\n",
    "        * 문자만을 넣으라고 하면, 특수문자를 넣거나\n",
    "* input\n",
    "    * 사용자 입력 값을 받아서 파이썬 명령어로 실행.\n",
    "    * eval(raw_input(prompt))와 동일한 의미. 사용자에게 입력을 받아서 파이썬 명령어로 실행한다는 의미.\n",
    "    * 수를 입력할 경우에는 그냥, 문자는 따옴표\n",
    "    * 사용자가 입력을 잘 못하면 오류가 남\n",
    "* raw_input\n",
    "    * 사용자 입력 값을 받아서 문자열로 그 값을 돌려줌.\n",
    "* 2+1을 입력하면 input은 연산을 해서 그 결과 3을, 그러나 raw_input은 연산을 하지 않고 '2+1'을 문자열로 돌려줌."
   ]
  },
  {
   "cell_type": "code",
   "execution_count": 41,
   "metadata": {
    "collapsed": false,
    "slideshow": {
     "slide_type": "slide"
    }
   },
   "outputs": [
    {
     "name": "stdout",
     "output_type": "stream",
     "text": [
      "입력하세요: 1+2\n",
      "3\n",
      "입력을 고르세요:1+2\n",
      "1+2\n"
     ]
    }
   ],
   "source": [
    "cmd =input(\"입력하세요: \")\n",
    "print cmd\n",
    "sel = raw_input('입력을 고르세요:')\n",
    "print sel"
   ]
  },
  {
   "cell_type": "markdown",
   "metadata": {
    "slideshow": {
     "slide_type": "slide"
    }
   },
   "source": [
    "### 화면출력 값의 이해\n",
    "* print \"%d\", 12.3는 정수로 형변환을 해서 출력을 하므로 12.\n",
    "* print \"%s\", 12.3는 문자열로 형변환을 해서 출력하므로 숫자가 아닌 문자열 12.3.\n",
    "* print \"%.2f\", 12.3는 소수점 2자리로 출력을 하므로 12.30.\n",
    "* 파이썬 2.6부터는 .format이란 명령어 지원\n",
    "    * {0:d} 0번째 입력 값을 정수로 출력\n",
    "    * {1:s} 1번째 입력 값을 문자열로 출력\n",
    "    * {2:.2f} 2번째 입력 값을 소수점 2자리로 출력\n",
    "    * 단 입력 값의 데이터형이 맞지 않을 경우 오류가 발생하므로, 형변환을 해주어야 함."
   ]
  },
  {
   "cell_type": "code",
   "execution_count": 27,
   "metadata": {
    "collapsed": false,
    "slideshow": {
     "slide_type": "slide"
    }
   },
   "outputs": [
    {
     "name": "stdout",
     "output_type": "stream",
     "text": [
      "12\n",
      "12.3\n",
      "12.30\n",
      "첫 번째 12 두 번째 12.3 세 번째12.30\n"
     ]
    }
   ],
   "source": [
    "print \"%d\" % 12.3\n",
    "print \"%s\" %12.3\n",
    "print \"%.2f\" % 12.3\n",
    "print \"첫 번째 {0:d} 두 번째 {1:s} 세 번째 {2:.2f}\".format(int(12.3),str(12.3),12.3)"
   ]
  },
  {
   "cell_type": "code",
   "execution_count": 5,
   "metadata": {
    "collapsed": false,
    "slideshow": {
     "slide_type": "slide"
    }
   },
   "outputs": [
    {
     "name": "stdout",
     "output_type": "stream",
     "text": [
      "입력하세요 (F 또는 C): F\n",
      "온도를 입력하세요: 10\n",
      "선택한 값은:  F\n",
      "입력한 온도는: 10\n"
     ]
    }
   ],
   "source": [
    "sel = raw_input('입력하세요 (F 또는 C): ')\n",
    "temp = raw_input('온도를 입력하세요: ')\n",
    "print \"선택한 값은: \",sel\n",
    "print \"입력한 온도는: %s\" % temp"
   ]
  },
  {
   "cell_type": "code",
   "execution_count": 31,
   "metadata": {
    "collapsed": false,
    "slideshow": {
     "slide_type": "slide"
    }
   },
   "outputs": [
    {
     "name": "stdout",
     "output_type": "stream",
     "text": [
      "입력하세요 (F 또는 C):F\n",
      "온도를 입력하세요:50\n",
      "50F를 변환하면 10.00입니다\n"
     ]
    }
   ],
   "source": [
    "sel = raw_input('입력하세요 (F 또는 C):')\n",
    "temp = raw_input('온도를 입력하세요:')\n",
    "temperature = int(temp)\n",
    "if sel=='F':\n",
    "    res=(temperature-32)*5/9.0\n",
    "elif sel=='C':\n",
    "    res=temperature*9.0/5.0+32\n",
    "else:\n",
    "    print \"선택은 F또는 C이어야 합니다.\"\n",
    "print \"{0:d}{1:s}를 변환하면 {2:.2f}입니다\".format(temperature,sel,res)"
   ]
  },
  {
   "cell_type": "markdown",
   "metadata": {
    "slideshow": {
     "slide_type": "slide"
    }
   },
   "source": [
    "### 함수로 변환\n",
    "\n",
    "* 함수의 입력 값, 출력 값을 정의해 줌. 입력 변수명, 출력 변수명이 반드시 같을 필요가 없슴.\n",
    "* 함수를 사용하면 재사용할 수 있게 된다.\n",
    "* 아래에서 res를 미리 선언하여, 초기화하는 것이 좋음.\n",
    "    * 파이썬은 변수의 선언이 별도로 필요하지 않은 언어이지만 다른 언어에서는 그렇게 함.\n",
    "    * 초기화한다는 것은 데이터형에 맞는 바이트만큼의 크기를 할당한다는 의미."
   ]
  },
  {
   "cell_type": "code",
   "execution_count": 34,
   "metadata": {
    "collapsed": false,
    "slideshow": {
     "slide_type": "slide"
    }
   },
   "outputs": [
    {
     "name": "stdout",
     "output_type": "stream",
     "text": [
      "입력하세요 (F 또는 C):F\n",
      "온도를 입력하세요:100\n",
      "100F를 변환하면 37.78입니다\n",
      "100F를 변환하면 37.78입니다\n"
     ]
    }
   ],
   "source": [
    "#%%writefile /Users/media/Code/git/p2/src/pfun.py -a\n",
    "sel = raw_input('입력하세요 (F 또는 C):')\n",
    "temp = raw_input('온도를 입력하세요:')\n",
    "temperature = int(temp)\n",
    "\n",
    "def computeTemperature(sel,temperature):\n",
    "    res=0.0\n",
    "    if sel=='F':\n",
    "        res=(temperature-32)*5/9.0\n",
    "    elif sel=='C':\n",
    "        res=temperature*9.0/5.0+32\n",
    "    else:\n",
    "        print \"선택은 F또는 C이어야 합니다.\"\n",
    "    print \"{0:d}{1:s}를 변환하면 {2:.2f}입니다\".format(temperature,sel,res)\n",
    "    return res\n",
    "\n",
    "result=computeTemperature(sel,temperature)\n",
    "print \"{0:d}{1:s}를 변환하면 {2:.2f}입니다\".format(temperature,sel,result)"
   ]
  },
  {
   "cell_type": "markdown",
   "metadata": {
    "slideshow": {
     "slide_type": "slide"
    }
   },
   "source": [
    "### 고려할 점\n",
    "* 대소문자입력 - 사용자가 소문자 f c를 입력하는 경우\n",
    "* 연산할 경우 소수점 처리: 정수끼리 나누면 출력 값은 정수\n",
    "* 연산의 우선순위\n",
    "* 결과 값이 섭씨(C)인지 화씨(F)인지 표시."
   ]
  },
  {
   "cell_type": "markdown",
   "metadata": {
    "collapsed": false,
    "slideshow": {
     "slide_type": "slide"
    }
   },
   "source": [
    "## 제어-5: 성적을 입력받아 A~F 학점 처리\n",
    "\n",
    "* 문제 1-2 온도변환 참조\n",
    "* 프로그래밍 요소\n",
    "    * 다분기 조건을 사용한다.\n",
    "    * 사용자 입력을 받는다.\n",
    "    * 사용자 입력 값을 연산하려면 소수로 받는다.\n",
    "    * 값을 형식에 맞추어 출력한다.\n"
   ]
  },
  {
   "cell_type": "markdown",
   "metadata": {
    "slideshow": {
     "slide_type": "slide"
    }
   },
   "source": [
    "### 입력 값의 처리\n",
    "\n",
    "* 사용자 입력 값: 앞의 예는 정수로 변환. 점수는 소수점으로 변환.\n",
    "* if문은 다분기, 구간별 조건.\n",
    "* 사용자 입력이 100점 이상, 0점 이하인 경우는 else문에서 처리.\n",
    "* 사용자 입력이 문자, 특수문자를 포함할 경우 처리하지 않고 있슴."
   ]
  },
  {
   "cell_type": "code",
   "execution_count": 4,
   "metadata": {
    "collapsed": false,
    "slideshow": {
     "slide_type": "slide"
    }
   },
   "outputs": [
    {
     "name": "stdout",
     "output_type": "stream",
     "text": [
      "성적을 입력하세요 (0~100):66\n",
      "입력 값은:  66.0\n"
     ]
    }
   ],
   "source": [
    "marksTmp = raw_input('성적을 입력하세요 (0~100):')\n",
    "marks = float(marksTmp)\n",
    "print \"입력 값은: \",marks"
   ]
  },
  {
   "cell_type": "markdown",
   "metadata": {
    "slideshow": {
     "slide_type": "slide"
    }
   },
   "source": [
    "### 함수로 변환\n",
    "\n",
    "* 함수의 입력은 marks, 출력은 grade.\n",
    "* 사용자 입력 값에 특수문자가 섞이면 정규식regexp로 처리 가능."
   ]
  },
  {
   "cell_type": "markdown",
   "metadata": {
    "slideshow": {
     "slide_type": "slide"
    }
   },
   "source": [
    "## 제어-6: 가위바위보\n",
    "\n",
    "* 난이도 1\n",
    "* 프로그래밍 요소: nested if\n",
    "    * 3개의 경우를 서로 비교하게 되는 경우의 if문"
   ]
  },
  {
   "cell_type": "markdown",
   "metadata": {
    "slideshow": {
     "slide_type": "slide"
    }
   },
   "source": [
    "### 한글을 비교하기\n",
    "\n",
    "* 한글은 유니코드unicde.\n",
    "* 지원: ipython notebook에서는 유니코드 지원. 다른 환경에서나, 파일을 읽어오는 경우 유니코드 별도 설정 필요."
   ]
  },
  {
   "cell_type": "code",
   "execution_count": 2,
   "metadata": {
    "collapsed": false,
    "slideshow": {
     "slide_type": "slide"
    }
   },
   "outputs": [
    {
     "name": "stdout",
     "output_type": "stream",
     "text": [
      "서로 비긴 거 알지?!\n"
     ]
    }
   ],
   "source": [
    "if '가위'=='가위':\n",
    "    print '서로 비긴 거 알지?!'"
   ]
  },
  {
   "cell_type": "markdown",
   "metadata": {
    "slideshow": {
     "slide_type": "slide"
    }
   },
   "source": [
    "## 제어-7: 삼각형 그리기"
   ]
  },
  {
   "cell_type": "markdown",
   "metadata": {
    "slideshow": {
     "slide_type": "slide"
    }
   },
   "source": [
    "### 상수의 사용\n",
    "* 프로그램의 재사용을 향상."
   ]
  },
  {
   "cell_type": "markdown",
   "metadata": {
    "slideshow": {
     "slide_type": "slide"
    }
   },
   "source": [
    "### 함수로 만들 경우\n",
    "\n",
    "* 출력 값이 없는 경우 return이 없다.\n",
    "* void 함수."
   ]
  },
  {
   "cell_type": "markdown",
   "metadata": {
    "slideshow": {
     "slide_type": "slide"
    }
   },
   "source": [
    "## 제어-8: BMI\n",
    "\n",
    "* 소수점 처리에 유의. 정수끼리의 연산은 정수."
   ]
  },
  {
   "cell_type": "code",
   "execution_count": 11,
   "metadata": {
    "collapsed": false,
    "slideshow": {
     "slide_type": "slide"
    }
   },
   "outputs": [
    {
     "name": "stdout",
     "output_type": "stream",
     "text": [
      "25.9515570934\n"
     ]
    }
   ],
   "source": [
    "# 170cm 75kg\n",
    "weight=75\n",
    "height=1.7\n",
    "bmi=float(weight/ height /height)\n",
    "print bmi"
   ]
  },
  {
   "cell_type": "markdown",
   "metadata": {
    "slideshow": {
     "slide_type": "slide"
    }
   },
   "source": [
    "### 함수로 만들 경우\n",
    "\n",
    "* 키, 몸무게를 함수의 패러미터로 설계. 결합성의 최소화.\n",
    "* 패러미터(매개변수)와 아규먼트(실인수)를 구분. 후자는 실제로 넘겨주는 인자 값. \n",
    "* 문자열을 return하여 출력할 수 있슴."
   ]
  },
  {
   "cell_type": "markdown",
   "metadata": {
    "slideshow": {
     "slide_type": "slide"
    }
   },
   "source": [
    "## 제어-9 추가\n",
    "\n",
    "* If we list all the natural numbers below 10 that are multiples of 3 or 5, we get 3, 5, 6 and 9. The sum of these multiples is 23.\n",
    "* Find the sum of all the multiples of 3 or 5 below 1000"
   ]
  },
  {
   "cell_type": "markdown",
   "metadata": {
    "slideshow": {
     "slide_type": "slide"
    }
   },
   "source": [
    "## 제어-7: 3, 5배수의 합계\n",
    "\n",
    "* 난이도 1\n",
    "* 프로그래밍 요소: if문과 for문을 같이 사용.\n",
    "* If we list all the natural numbers below 10 that are multiples of 3 or 5, we get 3, 5, 6 and 9. The sum of these multiples is 23.\n",
    "* Find the sum of all the multiples of 3 or 5 below 1000."
   ]
  },
  {
   "cell_type": "markdown",
   "metadata": {
    "slideshow": {
     "slide_type": "slide"
    }
   },
   "source": [
    "## 제어-8: \n",
    "\n",
    "* 20c 100년 동안 매 월 첫 날이 일요일인 경우가 몇 일 (출처 euler 19)\n",
    "* 윤년은 다음 문제 참조"
   ]
  },
  {
   "cell_type": "markdown",
   "metadata": {
    "collapsed": false,
    "slideshow": {
     "slide_type": "skip"
    }
   },
   "source": [
    "## 제어-9: \n",
    "\n",
    "* 연도를 입력하면 그 연도에 1월 1일이 무슨 요일인지 처리\n",
    "\n",
    "* 윤년은 2월에 29일 있는 해. 그 조건은\n",
    "    * 4로 나누어지면서 100으로 나누어지지 않거나\n",
    "    * 4로 나누어지면서 400으로 나누어짐\n",
    "    * (year%4 == 0) and (year%100 !=0 or year%400==0):\n",
    "*"
   ]
  },
  {
   "cell_type": "markdown",
   "metadata": {
    "slideshow": {
     "slide_type": "slide"
    }
   },
   "source": []
  }
 ],
 "metadata": {
  "celltoolbar": "Slideshow",
  "kernelspec": {
   "display_name": "Python 2",
   "language": "python",
   "name": "python2"
  },
  "language_info": {
   "codemirror_mode": {
    "name": "ipython",
    "version": 2
   },
   "file_extension": ".py",
   "mimetype": "text/x-python",
   "name": "python",
   "nbconvert_exporter": "python",
   "pygments_lexer": "ipython2",
   "version": "2.7.10"
  }
 },
 "nbformat": 4,
 "nbformat_minor": 0
}
