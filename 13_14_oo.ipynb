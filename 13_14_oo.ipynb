{
 "cells": [
  {
   "cell_type": "markdown",
   "metadata": {},
   "source": [
    "# 14. 객체지향\n",
    "\n",
    "## 14.1 학습내용\n",
    "\n",
    "### 14.1.1 목표\n",
    "\n",
    "* 함수프로그램과 다른 방식으로서, 객체를 만들고 사용할 수 있는 프로그램을 할 수 있다.\n",
    "\n",
    "### 14.1.2 문제\n",
    "\n",
    "* oo-1: Dog객체를 만들어 이름을 출력한다. \n",
    "* oo-2: \n",
    "* oo-3: 다형적으로 거북이 달리기 (삼각형, 사각형, 다각형)\n"
   ]
  },
  {
   "cell_type": "markdown",
   "metadata": {},
   "source": [
    "## 14.2 절차적 프로그램과 객체지향\n",
    "\n",
    "* 지난 학습 - 함수를 만들어 가면서 프로그래밍 (procedural programming)\n",
    "    * 변수를 사용\n",
    "        * 데이터를 저장해서 재사용하거나\n",
    "        * 매개변수로 활용\n",
    "    * 제어흐름을 사용\n",
    "        * 함수로 묶어서 재사용하거나\n",
    "        * 반복, 조건으로 흐름을 제어\n",
    "    * 저장\n",
    "        * 변수는 한 개의 값을 저장하지만, 구조를 만들어 여러 연관 값을 저장\n",
    "        * 외부에 저장해서 컴퓨터를 꺼도 나중에 불러 사용\n",
    "    * 알고리즘\n",
    "        * 문제에 대한 답\n",
    "        * 많이 사용하는 알고리즘은 찾기, 정렬...\n",
    "\n",
    "* 함수프로그램에서는 데이터와 함수가 별도로 떨어져 있었지만, 객체지향은 데이터와 함수를 묶어서 프로그래밍 한다."
   ]
  },
  {
   "cell_type": "code",
   "execution_count": 1,
   "metadata": {
    "collapsed": false
   },
   "outputs": [
    {
     "data": {
      "text/plain": [
       "['__add__',\n",
       " '__class__',\n",
       " '__contains__',\n",
       " '__delattr__',\n",
       " '__doc__',\n",
       " '__eq__',\n",
       " '__format__',\n",
       " '__ge__',\n",
       " '__getattribute__',\n",
       " '__getitem__',\n",
       " '__getnewargs__',\n",
       " '__getslice__',\n",
       " '__gt__',\n",
       " '__hash__',\n",
       " '__init__',\n",
       " '__le__',\n",
       " '__len__',\n",
       " '__lt__',\n",
       " '__mod__',\n",
       " '__mul__',\n",
       " '__ne__',\n",
       " '__new__',\n",
       " '__reduce__',\n",
       " '__reduce_ex__',\n",
       " '__repr__',\n",
       " '__rmod__',\n",
       " '__rmul__',\n",
       " '__setattr__',\n",
       " '__sizeof__',\n",
       " '__str__',\n",
       " '__subclasshook__',\n",
       " '_formatter_field_name_split',\n",
       " '_formatter_parser',\n",
       " 'capitalize',\n",
       " 'center',\n",
       " 'count',\n",
       " 'decode',\n",
       " 'encode',\n",
       " 'endswith',\n",
       " 'expandtabs',\n",
       " 'find',\n",
       " 'format',\n",
       " 'index',\n",
       " 'isalnum',\n",
       " 'isalpha',\n",
       " 'isdigit',\n",
       " 'islower',\n",
       " 'isspace',\n",
       " 'istitle',\n",
       " 'isupper',\n",
       " 'join',\n",
       " 'ljust',\n",
       " 'lower',\n",
       " 'lstrip',\n",
       " 'partition',\n",
       " 'replace',\n",
       " 'rfind',\n",
       " 'rindex',\n",
       " 'rjust',\n",
       " 'rpartition',\n",
       " 'rsplit',\n",
       " 'rstrip',\n",
       " 'split',\n",
       " 'splitlines',\n",
       " 'startswith',\n",
       " 'strip',\n",
       " 'swapcase',\n",
       " 'title',\n",
       " 'translate',\n",
       " 'upper',\n",
       " 'zfill']"
      ]
     },
     "execution_count": 1,
     "metadata": {},
     "output_type": "execute_result"
    }
   ],
   "source": [
    "h='hello world'\n",
    "dir(h)"
   ]
  },
  {
   "cell_type": "markdown",
   "metadata": {},
   "source": [
    "* 객체의 함수를 이용하려면\n",
    "    * 점을 이용한다. 점의 왼쪽은 객체, 오른쪽은 함수 또는 속성"
   ]
  },
  {
   "cell_type": "markdown",
   "metadata": {},
   "source": [
    "## 14.3 객체지향\n",
    "\n",
    "* 클래스와 객체\n",
    "    * 클래스는 복잡한 데이터형이라고 이해할 수 있다.\n",
    "    * 위치가 x,y 좌표로 이루어진 복잡한 데이터형\n",
    "    * 객체는 \n",
    "* returning objects\n",
    "    * 단일 데이터형을 반환하는 경우는 앞서 학습\n",
    "    * 객체를 돌려줄 수 있다.\n",
    "\n",
    "\n",
    "\n",
    "\n",
    "* self\n",
    "    * this\n",
    "    * 함수를 정의할 때\n",
    "\n",
    "* \\__init__\n",
    "    * 초기화\n",
    "\n",
    "* object는 최상위 base class\n",
    "    * 기본 함수를 제공\n",
    "    * \\__str\\__() \\__repr\\__() 등\n",
    "    \n",
    "* 관련 함수\n",
    "\n",
    "\n",
    " 요소 | 설명\n",
    "---|---\n",
    "\\__init__ | 생성자\n",
    "\\__dict__ | dict\n",
    "\\__doc__ |\n",
    "\\__name__ | 클래스 명\n",
    "\\__module__ | 모듈명\n",
    "\\__base__ | 하위클래스의 튜플"
   ]
  },
  {
   "cell_type": "markdown",
   "metadata": {},
   "source": [
    "## 14.4 상속\n",
    "\n",
    "* super()는 상위클래스의 __init__를 호출하는 것과 동일"
   ]
  },
  {
   "cell_type": "markdown",
   "metadata": {},
   "source": [
    "## 14.5 캡슐화\n",
    "\n",
    "* python은 가시성을 private를 지원\n",
    "* 속성, 함수에 __를 붙인다. -> private"
   ]
  },
  {
   "cell_type": "markdown",
   "metadata": {},
   "source": [
    "## 14.6 다형성\n"
   ]
  },
  {
   "cell_type": "markdown",
   "metadata": {},
   "source": [
    "## 14.7 상속과 연관"
   ]
  }
 ],
 "metadata": {
  "kernelspec": {
   "display_name": "Python 2",
   "language": "python",
   "name": "python2"
  },
  "language_info": {
   "codemirror_mode": {
    "name": "ipython",
    "version": 2
   },
   "file_extension": ".py",
   "mimetype": "text/x-python",
   "name": "python",
   "nbconvert_exporter": "python",
   "pygments_lexer": "ipython2",
   "version": "2.7.10"
  }
 },
 "nbformat": 4,
 "nbformat_minor": 0
}
