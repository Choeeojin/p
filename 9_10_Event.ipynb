{
 "cells": [
  {
   "cell_type": "markdown",
   "metadata": {},
   "source": [
    "# 이벤트\n",
    "\n",
    "## 1.1 학습내용\n",
    "\n",
    "### 1.1.1 목표\n",
    "\n",
    "* 사용자 이벤트를 처리하는 프로그래밍을 배운다.\n",
    "\n",
    "### 1.1.2 문제\n",
    "\n",
    "* 이벤트-1 키보드 방향키에 따라 거북이가 반응하기\n",
    "* 이벤트-2 마우스가 클릭하는 위치에 거북이를 이동하기"
   ]
  },
  {
   "cell_type": "markdown",
   "metadata": {},
   "source": [
    "## 1.2 소개\n",
    "\n",
    "### 1.2.1 이벤트 프로그래밍\n",
    "\n",
    "* 프로그램은 순서에 따라 실행되지만, 이벤트 프로그램은 사용자가 발생시키는 이벤트에 따라 실행된다.\n",
    "* 프로그램은 항상 '대기'상태로 있으면서, 사용자가 발생시키는 이벤트를 기다려야 한다.\n",
    "* '대기'는 무한으로 지속되고, 처리할 이벤트를 포착해서 프로그래밍한다. \n",
    "\n",
    "### 1.2.2 Event\n",
    "\n",
    "* 이벤트는 키보드와 마우스에서 발생할 수 있다.\n",
    "* 키보드 이벤트\n",
    "    * 자판에 있는 모든 키가 이벤트가 될 수 있다. 화살표, 철자 등 모든 키.\n",
    "* 마우스 이벤트\n",
    "    * 버튼 클릭 (왼쪽, 오른쪽), 놓기, 끌기. "
   ]
  },
  {
   "cell_type": "markdown",
   "metadata": {},
   "source": [
    "### 1.2.3 이벤트 프로그램의 구성\n",
    "\n",
    "* 화면을 만든다.\n",
    "    * 이벤트를 기다리는 화면의 예\n",
    "        * 웹 (자바스크립트)\n",
    "        * GUI는 화면, 뜨면서 사용자 입력을 기다리는 상태가 됨.\n",
    "            * infinite loop\n",
    "    * 사용자는 화면에서 이벤트를 통해 컴퓨터에게 명령을 준다.\n",
    "    ```\n",
    "    wn=turtle.Screen()\n",
    "    ```\n",
    "* 이벤트를 인식한다.\n",
    "    * 키보드\n",
    "    ```\n",
    "    onkey(..., \"Up\")\n",
    "    ```\n",
    "    * 마우스 \n",
    "        * onclick()\n",
    "        * onrelease()\n",
    "        * ondrag()\n",
    "    ```\n",
    "    wn.onclick(...)\n",
    "    ```\n",
    "* 이벤트를 처리하는 함수를 만든다.\n",
    "    * 키보드\n",
    "    ```\n",
    "    def keyup():\n",
    "        t1.forward(50)\n",
    "    ```\n",
    "    * 마우스\n",
    "    ```\n",
    "    def mousegoto(x,y):\n",
    "        t1.setpos(x,y)\n",
    "    ```\n",
    "* 이벤트와 이벤트처리를 연결한다.\n",
    "    * 키보드\n",
    "    ```\n",
    "    wn.onkey(keyup, \"Up\")\n",
    "    ```\n",
    "    * 마우스\n",
    "    ```\n",
    "    wn.onclick(mousegoto)\n",
    "    ```\n",
    "\n",
    "* 사용자 입력을 기다리는 상태로 만든다.\n",
    "    ```\n",
    "    wn.listen()\n",
    "    ```\n",
    "* 사용자가 윈도우를 닫을 때까지 대기한다.\n",
    "    ```\n",
    "    turtle.mainloop()\n",
    "    ```"
   ]
  },
  {
   "cell_type": "markdown",
   "metadata": {},
   "source": [
    "### 1.2.4 IPython Notebook에서의 이벤트 프로그래밍\n",
    "\n",
    "* 문제\n",
    "    * Event프로그래밍은 IPython Notebook에서 하기 어렵다.\n",
    "    * mainloop()함수를 사용하지 않으면 이벤트를 처리하지 못한다.\n",
    "    * mainloop()함수를 사용하면 셀이 실행상태(*)로 남게 된다.\n",
    "    * 그리고 다른 셀에서의 명령어는 실행하지 못하게 된다.\n",
    "    * q를 등록해도 잘 작동되지 않는다.\n",
    "* 해결\n",
    "    * 단순히 창을 닫고 시작\n",
    "    * 이 경우, 객체가 남아 있을 수 있으므로, 객체를 지우고 시작\n",
    "* changes in functions --> binding should be changed too"
   ]
  },
  {
   "cell_type": "markdown",
   "metadata": {},
   "source": [
    "## 이벤트-1: 아래, 위, 좌, 우 방향키에 따라 거북이가 반응하기\n",
    "\n"
   ]
  },
  {
   "cell_type": "markdown",
   "metadata": {},
   "source": [
    "## 이벤트-2: 마우스가 누르는 곳에 거북이를 이동하기"
   ]
  }
 ],
 "metadata": {
  "kernelspec": {
   "display_name": "Python 2",
   "language": "python",
   "name": "python2"
  },
  "language_info": {
   "codemirror_mode": {
    "name": "ipython",
    "version": 2
   },
   "file_extension": ".py",
   "mimetype": "text/x-python",
   "name": "python",
   "nbconvert_exporter": "python",
   "pygments_lexer": "ipython2",
   "version": "2.7.10"
  }
 },
 "nbformat": 4,
 "nbformat_minor": 0
}
