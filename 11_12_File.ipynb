{
 "cells": [
  {
   "cell_type": "markdown",
   "metadata": {
    "collapsed": true
   },
   "source": [
    "# File\n",
    "\n",
    "## 가. 학습내용\n",
    "\n",
    "### 1) 목표\n",
    "\n",
    "* 파일 (인터넷 파일)을 만들고/읽고/쓰고/검색하는 프로그래밍을 할 수 있다.\n",
    "* 데이터를 저장하는 방식.\n",
    "    * 데이터는 메모리, 파일, 데이터베이스에 저장할 수 있다.\n",
    "    * 데이터구조는 메모리를 사용한다. 컴퓨터를 off하게되면 없어지게 된다.\n",
    "    * 파일은 컴퓨터를 다시 켜도 저장한다. Persistence라고 한다.\n",
    "* 파일\n",
    "    * 로컬파일 열기\n",
    "    * 텍스트, 바이너리\n",
    "    * 인터넷파일 열기\n",
    "* 기능\n",
    "    * 열기\n",
    "    * 쓰기 (새로쓰기, 이어쓰기)\n",
    "* 입출력오류\n",
    "\n",
    "### 2) 문제\n",
    "\n",
    "* 프로그램 로직이 단순하므로, 다이어그램은 작성하지 않는다.\n",
    "* 파일-1: 파일을 읽기\n",
    "    * 한 줄씩 읽기\n",
    "    * 전체 읽기\n",
    "    * 검색 -> 함수로\n",
    "    * 오류의 처리  - 존재하지 않는 경우\n",
    "* 파일-2: 파일에 쓰기\n",
    "    * 대문자로 바꿔 쓰기\n",
    "    * 대문자로 파일 변경하기 -> 함수로\n",
    "    * 수정자, 수정시간 표시\n",
    "    * 표 형식으로 써보기 - 탭/줄바꿈\n",
    "* 파일-3: 거북이 파일데이터 읽어서 움직이기\n",
    "* 파일-4: 파일 합치기\n",
    "    * 두 파일을 합치기\n",
    "    * 붙여쓰기\n",
    "* 파일-5: 파일을 읽어서 자료구조에 넣기 (지난 교재 참조)\n",
    "    * 문자, 숫자 \n",
    "    * 2차원\n",
    "* 파일-6: 파일 인코딩 - 한글의 처리문제\n",
    "* 파일-7: 다양한 형식 - Web data\n",
    "    * urlopen\n",
    "    * json,xml\n",
    "    * csv\n",
    "\n",
    "### 3) 연습\n",
    "\n",
    "1. 파일검색기능을 재사용 함수로 프로그래밍\n",
    "    * 입력: 파일명, 검색단어\n",
    "    * 출력: 화면출력 (라인번호 + 라인내용)\n",
    "    ```\n",
    "        line 1: This is the first line\n",
    "        line 2: This is the second line\n",
    "        ...\n",
    "    ```\n",
    "2. 파일에 단어와 일치하는 경우, 그 단어를 대문자로 변경하는 재사용 함수 프로그래밍\n",
    "    * 입력: 파일명, 단어\n",
    "    * 출력: 변경파일명 p2OutputChanged.txt\n",
    "3. 1 - 100 사이의 무작위 수 50개 생성해서 2열(열1: 홀수 열2: 짝수) 표로 만드는 재사용함수 프로그래밍\n",
    "    * 입력: 50개 정도의 수 집합\n",
    "    * 출력: 파일명 (p3Output.txt)\n",
    "    ```\n",
    "        컬럼 1 컬럼 2\n",
    "        7      22\n",
    "        3      48\n",
    "        11     4\n",
    "        ...\n",
    "    ```\n"
   ]
  },
  {
   "cell_type": "markdown",
   "metadata": {},
   "source": [
    "## 파일을 배우기 전에 ipython notebook으로 읽고 쓰기\n",
    "\n",
    "* writefile 명령어\n",
    "* load 명령어\n",
    "    * 실행하고 나면, #을 붙여 comment 처리를 한다.\n",
    "* 앞에 %를 붙여 사용하면, ipython notebook의 magic commands\n",
    "* %%는 명령어의 효과가 그 셀에만 국한된다."
   ]
  },
  {
   "cell_type": "markdown",
   "metadata": {},
   "source": [
    "### python wiki 웹페이지에서 복사해서 줄바꿈 편집"
   ]
  },
  {
   "cell_type": "code",
   "execution_count": 5,
   "metadata": {
    "collapsed": false
   },
   "outputs": [
    {
     "name": "stdout",
     "output_type": "stream",
     "text": [
      "Writing jsl.txt\n"
     ]
    }
   ],
   "source": [
    "%%writefile jsl.txt\n",
    "Python is a widely used general-purpose, high-level programming language.[19][20]\n",
    "Its design philosophy emphasizes code readability, and\n",
    "its syntax allows programmers to express concepts in fewer lines of code than\n",
    "would be possible in languages such as C++ or Java.[21][22]\n"
   ]
  },
  {
   "cell_type": "code",
   "execution_count": null,
   "metadata": {
    "collapsed": false
   },
   "outputs": [],
   "source": [
    "# %load jsl.txt\n",
    "Python is a widely used general-purpose, high-level programming language.[19][20]\n",
    "Its design philosophy emphasizes code readability, and\n",
    "its syntax allows programmers to express concepts in fewer lines of code than\n",
    "would be possible in languages such as C++ or Java.[21][22]\n",
    "The language provides constructs intended to enable clear programs on both a small and large scale.[23]"
   ]
  },
  {
   "cell_type": "markdown",
   "metadata": {},
   "source": [
    "### 운영체제에 따른 파일 구성\n",
    "\n",
    "* 운영체제가 다르면 디렉토리, 파일 명의 구성에 차이가 있다.\n",
    "    * 디렉토리\n",
    "        * 윈도우 '\\' 그리고 드라이브 (예: 'C:\\')\n",
    "        * 리눅스/유닉스 계열: '/'\n",
    "    * 파일 명에 공백이 사용될 경우 주의\n",
    "* 파일명의 상대경로 vs 절대경로\n",
    "    * 상대경로: 현재디렉토리 (.) 또는 현재디렉토리의 상위 디렉토리 (..)\n",
    "    * 절대경로: 모든 경로를 명시\n",
    "* 운영체제를 자동으로 인식하기 (라이브러리를 이용해서)\n",
    "    * os.path.join(dir,'jsl.txt')\n",
    "    * os.path.isfile(jsl.txt)"
   ]
  },
  {
   "cell_type": "markdown",
   "metadata": {},
   "source": [
    "## 파일-1: 파일을 읽기\n",
    "\n",
    "* 한 줄씩 읽기\n",
    "* 전체 읽기\n",
    "* 검색 -> 함수로\n",
    "* 오류의 처리  - 존재하지 않는 경우"
   ]
  },
  {
   "cell_type": "markdown",
   "metadata": {},
   "source": [
    "### 한 줄씩 읽기\n",
    "\n",
    "* 파일 입출력은 시간이 메모리에서 작업하는 것보다 느리다. IO Bottleneck.\n",
    "* 파일을 읽을 경우, 줄마다 읽거나 또는 모든 내용을 읽어 메모리에서 작업할 수 있다.\n",
    "* 파일은 사용 후 닫는다.\n"
   ]
  },
  {
   "cell_type": "markdown",
   "metadata": {},
   "source": [
    "### EOF\n",
    "\n",
    "* 한 줄씩 읽을 경우, 파일 끝에 도달하면 종료 -> EOF(End of File)개념이 필요하지만, 파이썬에는 없다.\n",
    "* for문에서 파일 핸들 (file handle)을 그대로 사용\n",
    "* 또는 with 명령어를 사용 - 구문이 끝나면 자동으로 파일 닫음.\n"
   ]
  },
  {
   "cell_type": "markdown",
   "metadata": {},
   "source": [
    "### 전체 읽기\n",
    "\n",
    "* 전체 읽기는 줄바꿈하지 않음.\n",
    "* readlines()는 자료구조로 읽어 들인다."
   ]
  },
  {
   "cell_type": "markdown",
   "metadata": {},
   "source": [
    "### 파일의 검색\n",
    "\n",
    "* 찾지 못할 경우 -1을 반환\n",
    "    * !=-1 찾는 것을 실패하지 않으면 - 부정의 부정은 어렵다\n",
    "    * >=0 찾으면 -> 긍정으로"
   ]
  },
  {
   "cell_type": "markdown",
   "metadata": {},
   "source": [
    "### 오류의 처리\n",
    "\n",
    "* 존재하지 않는 파일 - 입출력 오류 IOError"
   ]
  },
  {
   "cell_type": "markdown",
   "metadata": {},
   "source": [
    "## 파일-2: 파일에 쓰기\n",
    "\n",
    "* 대문자로 바꿔 쓰기\n",
    "* 대문자로 파일 변경하기 -> 함수로\n",
    "* 수정자, 수정시간 표시\n",
    "* 표 형식으로 써보기 - 탭/줄바꿈"
   ]
  },
  {
   "cell_type": "markdown",
   "metadata": {},
   "source": [
    "### 간단한 연습 파일 쓰기"
   ]
  },
  {
   "cell_type": "markdown",
   "metadata": {},
   "source": [
    "### ipython notebook 기능을 이용해서 열어보기"
   ]
  },
  {
   "cell_type": "code",
   "execution_count": null,
   "metadata": {
    "collapsed": false
   },
   "outputs": [],
   "source": [
    "# %load ./output.txt\n",
    "first line\n",
    "second line"
   ]
  },
  {
   "cell_type": "markdown",
   "metadata": {},
   "source": [
    "### 대문자로 변경하기\n",
    "\n",
    "* with구문 사용 연습"
   ]
  },
  {
   "cell_type": "markdown",
   "metadata": {},
   "source": [
    "### 파일에 줄바꿈 넣기\n",
    "\n",
    "* 밖의 for문에 줄바꿈 기호 ('\\n')을 넣는다"
   ]
  },
  {
   "cell_type": "markdown",
   "metadata": {},
   "source": [
    "### 라이브러리 이용\n",
    "\n",
    "* 문자열 find\n",
    "* 문자열 replace"
   ]
  },
  {
   "cell_type": "markdown",
   "metadata": {},
   "source": [
    "### 수정자, 수정시간 표시하기\n",
    "\n",
    "* first line -> [수정자 edited 수정시간] first line\n",
    "* 수정시간 - time 라이브러리 이용"
   ]
  },
  {
   "cell_type": "markdown",
   "metadata": {
    "collapsed": true
   },
   "source": [
    "### 표 형식으로 쓰기\n",
    "\n",
    "* \\t 탭\n",
    "* \\t 넣으면 문자열 변환"
   ]
  },
  {
   "cell_type": "markdown",
   "metadata": {},
   "source": [
    "### 학생의 프로그래밍\n",
    "\n",
    "* 입력데이터에 \\t을 넣어 놓았다."
   ]
  },
  {
   "cell_type": "markdown",
   "metadata": {},
   "source": [
    "### 1줄 출력을 표 형식으로\n",
    "\n",
    "* enumerate는 인덱스를 추적"
   ]
  },
  {
   "cell_type": "markdown",
   "metadata": {},
   "source": [
    "## 파일-3: 파일 합치기\n",
    "\n",
    "* 파일\n",
    "\n",
    "파일 사용 모드 | 기능\n",
    "---|---\n",
    "r | read 읽기\n",
    "w | write 생성하거나 덮어쓰기(overwrite)\n",
    "a | append 원본에 붙여쓰기. 원본이 보존되지 않음.\n"
   ]
  },
  {
   "cell_type": "markdown",
   "metadata": {},
   "source": [
    "## 파일-4: 읽어서 자료구조\n",
    "\n",
    "* 숫자, 문자\n",
    "* 2차원"
   ]
  },
  {
   "cell_type": "markdown",
   "metadata": {},
   "source": [
    "## 파일-5: 파일 인코딩\n",
    "\n",
    "* 유니코드를 지원하지 않는 경우 한글처리 문제\n",
    "    * 안녕하세요의 유니코드를 보면, 암호같은 느낌이다.\n",
    "    * 유니코드는 코드앞에 u를 붙여 명시한다.\n",
    "    * 그렇게 하지 않으면 (유니코드가 아니면), 맞지 않는 인코딩을 할 경우 'ascii codec...' 에러를 만나게 된다."
   ]
  },
  {
   "cell_type": "markdown",
   "metadata": {},
   "source": [
    "### 유니코드로 파일에 쓸 경우\n",
    "\n",
    "* 유니코드를 사용하여 파일을 사용할 경우, codec을 사용한다.\n",
    "* 여기서는 codec을 사용하지 않고 쓰고, codec을 사용하여 읽어 본다.\n",
    "* codec을 사용하여 파일에 쓸 경우, 다음과 같이 한다.\n",
    "\n",
    "```\n",
    "with codecs.open(filename,'w',encoding='utf8') as f:\n",
    "    f.write(text)\n",
    "```"
   ]
  }
 ],
 "metadata": {
  "kernelspec": {
   "display_name": "Python 2",
   "language": "python",
   "name": "python2"
  },
  "language_info": {
   "codemirror_mode": {
    "name": "ipython",
    "version": 2
   },
   "file_extension": ".py",
   "mimetype": "text/x-python",
   "name": "python",
   "nbconvert_exporter": "python",
   "pygments_lexer": "ipython2",
   "version": "2.7.10"
  }
 },
 "nbformat": 4,
 "nbformat_minor": 0
}
