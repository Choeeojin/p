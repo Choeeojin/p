{
 "cells": [
  {
   "cell_type": "markdown",
   "metadata": {},
   "source": [
    "# File\n",
    "\n",
    "## 1.1 학습내용\n",
    "\n",
    "### 1.1.1 목표\n",
    "\n",
    "* 파일 (인터넷 파일)을 만들고/읽고/쓰고/검색하는 프로그래밍을 할 수 있다.\n",
    "\n",
    "### 1.2 문제\n",
    "\n",
    "\n",
    "* 파일-1: 파일을 읽어서, python단어가 있는 줄을 화면에 출력하기\n",
    "* 파일-2: 파일에 있는 python단어를 변경해서 쓰기\n",
    "* 파일-3: 2차원 데이터를 파일로 쓰기\n",
    "* 파일-4: 파일 합치기\n",
    "* 파일-5: 파일의 데이터를 읽어서 도형을 그리기\n",
    "* 파일-6: 한글파일을 읽기\n",
    "* 파일-7: 웹파일을 읽기\n",
    "    * urlopen\n",
    "    * json,xml\n",
    "    * csv\n",
    "\n",
    "### 3) 연습\n",
    "\n",
    "1. 파일검색기능을 재사용 함수로 프로그래밍\n",
    "    * 입력: 파일명, 검색단어\n",
    "    * 출력: 화면출력 (라인번호 + 라인내용)\n",
    "    ```\n",
    "        line 1: This is the first line\n",
    "        line 2: This is the second line\n",
    "        ...\n",
    "    ```\n",
    "2. 파일에 단어와 일치하는 경우, 그 단어를 대문자로 변경하는 재사용 함수 프로그래밍\n",
    "    * 입력: 파일명, 단어\n",
    "    * 출력: 변경파일명 p2OutputChanged.txt\n",
    "3. 1 - 100 사이의 무작위 수 50개 생성해서 2열(열1: 홀수 열2: 짝수) 표로 만드는 재사용함수 프로그래밍\n",
    "    * 입력: 50개 정도의 수 집합\n",
    "    * 출력: 파일명 (p3Output.txt)\n",
    "    ```\n",
    "        컬럼 1 컬럼 2\n",
    "        7      22\n",
    "        3      48\n",
    "        11     4\n",
    "        ...\n",
    "    ```"
   ]
  },
  {
   "cell_type": "markdown",
   "metadata": {},
   "source": [
    "## 1.2 파일\n",
    "\n",
    "### 1.2.1 파일이란?\n",
    "\n",
    "* 파일이란 데이터를 저장하는 수단으로, 컴퓨터 외부 매체 (하드디스크)에 저장되어서 컴퓨터 프로그램을 통해 읽거나, 쓸 수 있다.\n",
    "* 데이터는 메모리에도 저장될 수 있다. 메모리는 파일보다 빠르게 저장하고 읽을 수 있지만 컴퓨터 전원을 끄고 나면, 그 데이터를 잃어버리게 된다.\n",
    "* 반면에 파일은 전원이 꺼져도 그 정보는 계속 저장된 상태를 유지할 수 있다.\n",
    "* 노트나 칠판같은 곳에 적어 놓는 것과 비슷하다.\n",
    "* 파일은 컴퓨터 프로그램을 통해서 쓰고, 읽고한다는 점이 다르다.\n",
    "* 파일에 저장되는 정보를 보다 체계적으로 할 경우에는 데이터베이스를 사용하게 된다.\n",
    "\n",
    "### 1.2.2 파일의 종류\n",
    "\n",
    "* 텍스트 파일\n",
    "* 바이너리 파일\n",
    "* 인터넷 파일\n",
    "* 원격 파일\n",
    "\n",
    "### 1.2.3 배워야 할 기능\n",
    "\n",
    "* 저장하기\n",
    "* 읽기\n",
    "* 수정하기\n",
    "* 이어쓰기\n",
    "* 입출력 오류\n"
   ]
  },
  {
   "cell_type": "markdown",
   "metadata": {},
   "source": [
    "## 1.3 파일을 배우기 전에 ipython notebook으로 읽고 쓰기\n",
    "\n",
    "* writefile 명령어 - 셀의 내용을 파일에 쓴다.\n",
    "    ```\n",
    "    %%writefile myfile.txt\n",
    "    ```\n",
    "    * %%가 앞에 붙은 명령어의 효과가 해당 셀에만 국한된다.\n",
    "    * python wiki 페이지에서 복사해서, 줄바꿈 편집"
   ]
  },
  {
   "cell_type": "code",
   "execution_count": 29,
   "metadata": {
    "collapsed": false,
    "scrolled": true
   },
   "outputs": [
    {
     "name": "stdout",
     "output_type": "stream",
     "text": [
      "Overwriting python.txt\n"
     ]
    }
   ],
   "source": [
    "%%writefile python.txt\n",
    "Python is a widely used general-purpose, high-level programming language.[19][20]\n",
    "Its design philosophy emphasizes code readability, and\n",
    "its syntax allows programmers to express concepts in fewer lines of code than\n",
    "would be possible in languages such as C++ or Java.[21][22]"
   ]
  },
  {
   "cell_type": "markdown",
   "metadata": {},
   "source": [
    "* load 명령어\n",
    "    ```\n",
    "    %load myfile.txt\n",
    "    ```\n",
    "    * 앞에 %를 붙여 사용하면, ipython notebook의 magic commands\n",
    "    * load명령어를 실행하고 나면, #을 붙여 그 명령어를 comment로 전환하게 된다."
   ]
  },
  {
   "cell_type": "code",
   "execution_count": null,
   "metadata": {
    "collapsed": false
   },
   "outputs": [],
   "source": [
    "# %load python.txt\n",
    "Python is a widely used general-purpose, high-level programming language.[19][20]\n",
    "Its design philosophy emphasizes code readability, and\n",
    "its syntax allows programmers to express concepts in fewer lines of code than\n",
    "would be possible in languages such as C++ or Java.[21][22]"
   ]
  },
  {
   "cell_type": "markdown",
   "metadata": {},
   "source": [
    "### 운영체제에 따른 파일 구성\n",
    "\n",
    "* 파일을 저장하는 경로는 운영체제에 따라 주의할 점이 있다.\n",
    "    * 디렉토리\n",
    "        * 윈도우는 드라이브가 있고(예: 'C:\\'), 디렉토리 구분자가 리눅스와 다르다 ('\\').\n",
    "        * 리눅스/유닉스 계열에서는 드라이브가 없고, 디렉토리 구분자로 '/'가 쓰인다.\n",
    "    * 특히 윈도우 디렉토리 구분자가 리눅스에서는 escape character로 사용되어서 문제가 될 수 있다.\n",
    "    * 파일 명에 한글 또는 공백이 사용될 경우에도 주의한다."
   ]
  },
  {
   "cell_type": "markdown",
   "metadata": {},
   "source": [
    "* escape character\n",
    "    * '\\'를 말한다.\n",
    "    * escape character는 뒤 따르는 문자를 문자로 인식하지 않고, meta character로 인식한다.\n",
    "    * \\n은 backslash와 n으로 인식하지 않고 new line 줄바꾸기로 인식한다.\n",
    "    * n이 문자가 아니라 meta character라고 한다.\n",
    "    * '\\' -> '\\\\'를 바꿔 쓰려면 '\\'가 escape character라는 점에 주의한다."
   ]
  },
  {
   "cell_type": "markdown",
   "metadata": {},
   "source": [
    "* 윈도우 디렉토리 구분자를 변경하려면 주의가 필요하다.\n",
    "* 그 이유는 '\\'는 escape character라서, 2개를 겹쳐서 사용해야 한다."
   ]
  },
  {
   "cell_type": "code",
   "execution_count": 2,
   "metadata": {
    "collapsed": false
   },
   "outputs": [
    {
     "name": "stdout",
     "output_type": "stream",
     "text": [
      "c:\\\\myfile\n"
     ]
    }
   ],
   "source": [
    "print \"c:\\myfile\".replace('\\\\','\\\\\\\\')"
   ]
  },
  {
   "cell_type": "code",
   "execution_count": 4,
   "metadata": {
    "collapsed": false,
    "scrolled": false
   },
   "outputs": [
    {
     "name": "stdout",
     "output_type": "stream",
     "text": [
      "c://myfile\n"
     ]
    }
   ],
   "source": [
    "print \"c:\\myfile\".replace('\\\\','//')"
   ]
  },
  {
   "cell_type": "markdown",
   "metadata": {},
   "source": [
    "* 파일명을 만드는 3가지 방식\n",
    "    * 상대경로\n",
    "        * 현재 작업하고 있는 디렉토리에서부터의 경로\n",
    "        * 현재디렉토리 (.) 또는 현재디렉토리의 상위 디렉토리 (..)\n",
    "        * 현재디렉토리의 python.txt를 말한다.\n",
    "        ```\n",
    "        ./python.txt\n",
    "        ```\n",
    "    * 절대경로: 모든 경로를 표시\n",
    "    * 운로영체제 독립적인 경로"
   ]
  },
  {
   "cell_type": "markdown",
   "metadata": {},
   "source": [
    "* 절대경로는 절대 디렉토리명과 파일명을 붙여서 만든다. "
   ]
  },
  {
   "cell_type": "code",
   "execution_count": 4,
   "metadata": {
    "collapsed": false
   },
   "outputs": [
    {
     "name": "stdout",
     "output_type": "stream",
     "text": [
      "/Users/media/Code/git/p2\n"
     ]
    }
   ],
   "source": [
    "import os\n",
    "mydir=os.getcwd()\n",
    "print mydir"
   ]
  },
  {
   "cell_type": "code",
   "execution_count": 5,
   "metadata": {
    "collapsed": false
   },
   "outputs": [
    {
     "name": "stdout",
     "output_type": "stream",
     "text": [
      "/Users/media/Code/git/p2/python.txt\n"
     ]
    }
   ],
   "source": [
    "filename='python.txt'\n",
    "linfilename=mydir+'/'+filename\n",
    "print linfilename"
   ]
  },
  {
   "cell_type": "code",
   "execution_count": 6,
   "metadata": {
    "collapsed": false,
    "scrolled": true
   },
   "outputs": [
    {
     "name": "stdout",
     "output_type": "stream",
     "text": [
      "windows dir:\t\\\\Users\\\\media\\\\Code\\\\git\\\\p2\\\\python.txt\n"
     ]
    }
   ],
   "source": [
    "winfilename=linfilename.replace('/','\\\\\\\\')\n",
    "print \"windows dir:\\t\",winfilename"
   ]
  },
  {
   "cell_type": "markdown",
   "metadata": {
    "collapsed": true
   },
   "source": [
    "* 운영체제 독립적인 경로\n",
    "    * join()함수를 사용하면 디렉토리 구분자를 운영체제에 맞게 넣어준다."
   ]
  },
  {
   "cell_type": "code",
   "execution_count": 7,
   "metadata": {
    "collapsed": false
   },
   "outputs": [
    {
     "name": "stdout",
     "output_type": "stream",
     "text": [
      "/home/jsl/Code/git/gh/8a5b8f912a337ef552eb/python.txt\n"
     ]
    }
   ],
   "source": [
    "myfilename=os.path.join(mydir,filename)\n",
    "print myfilename"
   ]
  },
  {
   "cell_type": "markdown",
   "metadata": {},
   "source": [
    "* 입출력 오류\n",
    "    * 파일은 허용되지 않는 문자를 섞어 파일명을 만들거나, 존재하지 않거나, 경로에 문제가 있거나 입출력은 오류가 발생할 수 있다."
   ]
  },
  {
   "cell_type": "code",
   "execution_count": 2,
   "metadata": {
    "collapsed": false
   },
   "outputs": [
    {
     "name": "stdout",
     "output_type": "stream",
     "text": [
      "True\n",
      "False\n"
     ]
    }
   ],
   "source": [
    "import os\n",
    "print os.path.isfile('python.txt')\n",
    "print os.path.isfile('noname.txt')"
   ]
  },
  {
   "cell_type": "code",
   "execution_count": 10,
   "metadata": {
    "collapsed": false
   },
   "outputs": [
    {
     "name": "stdout",
     "output_type": "stream",
     "text": [
      "[Errno 2] No such file or directory: 'noname.txt'\n"
     ]
    }
   ],
   "source": [
    "try:\n",
    "    open('noname.txt')\n",
    "except IOError as e:\n",
    "    print e"
   ]
  },
  {
   "cell_type": "markdown",
   "metadata": {},
   "source": [
    "* 읽기\n",
    "    1. open(파일명,'r')\n",
    "    2. 읽기\n",
    "        * read()\n",
    "        * readlines()\n",
    "        * readline()\n",
    "    3. 닫기\n",
    "\n",
    "* 쓰기\n",
    "    1. open(파일명, 'w')\n",
    "    2. 쓰기\n",
    "        * write()\n",
    "        * write with metacharacter ('\\n' '\\t')\n",
    "    3. 닫기"
   ]
  },
  {
   "cell_type": "code",
   "execution_count": null,
   "metadata": {
    "collapsed": true
   },
   "outputs": [],
   "source": [
    "myfile=open('python.txt')\n",
    "line=myfile.readline()\n",
    "myfile.close()"
   ]
  },
  {
   "cell_type": "code",
   "execution_count": null,
   "metadata": {
    "collapsed": true
   },
   "outputs": [],
   "source": [
    "myfile=open('C:/Users/Administrator/Documents/jsl/Code/8a5b8f912a337ef552eb/python.txt')\n",
    "line=myfile.readline()\n",
    "myfile.close()"
   ]
  },
  {
   "cell_type": "code",
   "execution_count": null,
   "metadata": {
    "collapsed": true
   },
   "outputs": [],
   "source": [
    "mydir=os.getcwd()\n",
    "filename='python.txt'\n",
    "myfilename=os.path.join(mydir,filename)\n",
    "myfile=open(myfilename)\n",
    "line=myfile.readline()\n",
    "myfile.close()\n"
   ]
  },
  {
   "cell_type": "markdown",
   "metadata": {},
   "source": [
    "## 파일-1: 파일을 읽어서, python단어가 있는 줄을 화면에 출력하기\n",
    "\n",
    "* python wiki를 검색해서, 몇 문장을 python.txt로 저장한다.\n",
    "* 읽어서 'python' 단어를 찾는다.\n",
    "\n",
    "* 프로그래밍 요소\n",
    "    * 파일을 열고, 읽고, 검색할 수 있다.\n",
    "        1. 파일을 열고 open()\n",
    "        2. 읽고\n",
    "            * read()\n",
    "            * readline()\n",
    "            * readlines()\n",
    "        3. 닫고 close()\n",
    "    * 파일 입출력 오류의 처리  - 존재하지 않는 경우"
   ]
  },
  {
   "cell_type": "markdown",
   "metadata": {},
   "source": [
    "### 한 줄씩 읽기\n",
    "\n",
    "* 파일 입출력은 시간이 메모리에서 작업하는 것보다 느리다. IO Bottleneck.\n",
    "* 파일을 읽을 경우, 줄마다 읽거나 또는 모든 내용을 읽어 메모리에서 작업할 수 있다.\n",
    "* 파일은 사용 후 닫는다."
   ]
  },
  {
   "cell_type": "code",
   "execution_count": 3,
   "metadata": {
    "collapsed": false,
    "scrolled": true
   },
   "outputs": [
    {
     "name": "stdout",
     "output_type": "stream",
     "text": [
      "Python is a widely used general-purpose, high-level programming language.[19][20]\n",
      "\n"
     ]
    }
   ],
   "source": [
    "myfile=open('python.txt','r')\n",
    "line=myfile.readline()\n",
    "myfile.close()\n",
    "print line"
   ]
  },
  {
   "cell_type": "markdown",
   "metadata": {},
   "source": [
    "### EOF\n",
    "\n",
    "* 한 줄씩 읽을 경우, 파일 끝에 도달하면 종료 -> EOF(End of File)개념이 필요하지만, 파이썬에는 없다.\n",
    "* for문에서 파일 핸들 (file handle)을 그대로 사용\n",
    "* 또는 with 명령어를 사용 - 구문이 끝나면 자동으로 파일 닫음.\n"
   ]
  },
  {
   "cell_type": "code",
   "execution_count": 6,
   "metadata": {
    "collapsed": false
   },
   "outputs": [
    {
     "name": "stdout",
     "output_type": "stream",
     "text": [
      "Python is a widely used general-purpose, high-level programming language.[19][20]\n",
      "\n",
      "Its design philosophy emphasizes code readability, and\n",
      "\n",
      "its syntax allows programmers to express concepts in fewer lines of code than\n",
      "\n",
      "would be possible in languages such as C++ or Java.[21][22]\n",
      "\n"
     ]
    }
   ],
   "source": [
    "myfile = open('python.txt','r')\n",
    "while(line):\n",
    "    line=myfile.readline()\n",
    "    print line\n",
    "myfile.close()"
   ]
  },
  {
   "cell_type": "markdown",
   "metadata": {},
   "source": [
    "* readlines()를 반복문 안에서 사용할 수 있다."
   ]
  },
  {
   "cell_type": "code",
   "execution_count": 5,
   "metadata": {
    "collapsed": false
   },
   "outputs": [
    {
     "name": "stdout",
     "output_type": "stream",
     "text": [
      "Python is a widely used general-purpose, high-level programming language.[19][20]\n",
      "\n",
      "Its design philosophy emphasizes code readability, and\n",
      "\n",
      "its syntax allows programmers to express concepts in fewer lines of code than\n",
      "\n",
      "would be possible in languages such as C++ or Java.[21][22]\n"
     ]
    }
   ],
   "source": [
    "myfile=open('python.txt')\n",
    "for line in myfile.readlines():\n",
    "    print line\n",
    "myfile.close()"
   ]
  },
  {
   "cell_type": "code",
   "execution_count": 15,
   "metadata": {
    "collapsed": false
   },
   "outputs": [
    {
     "name": "stdout",
     "output_type": "stream",
     "text": [
      "Python is a widely used general-purpose, high-level programming language.[19][20]\n",
      "\n",
      "Its design philosophy emphasizes code readability, and\n",
      "\n",
      "its syntax allows programmers to express concepts in fewer lines of code than\n",
      "\n",
      "would be possible in languages such as C++ or Java.[21][22]\n"
     ]
    }
   ],
   "source": [
    "with open('python.txt','r') as f:\n",
    "    for line in f:\n",
    "        print line"
   ]
  },
  {
   "cell_type": "markdown",
   "metadata": {},
   "source": [
    "### 전체 읽기\n",
    "\n",
    "* read() 전체 vs readline() 한 줄 vs readlines() 자료구조로\n",
    "* 전체 읽기는 줄바꿈하지 않음.\n",
    "* readlines()함수는 readline()을 사용하여 파일의 끝까지 읽고, 그 결과를 리스트로 만든다."
   ]
  },
  {
   "cell_type": "code",
   "execution_count": 16,
   "metadata": {
    "collapsed": false
   },
   "outputs": [
    {
     "name": "stdout",
     "output_type": "stream",
     "text": [
      "Python is a widely used general-purpose, high-level programming language.[19][20]\n",
      "Its design philosophy emphasizes code readability, and\n",
      "its syntax allows programmers to express concepts in fewer lines of code than\n",
      "would be possible in languages such as C++ or Java.[21][22]\n"
     ]
    }
   ],
   "source": [
    "myfile = open('python.txt','r')\n",
    "contents=myfile.read()\n",
    "myfile.close()\n",
    "print contents"
   ]
  },
  {
   "cell_type": "code",
   "execution_count": 17,
   "metadata": {
    "collapsed": false
   },
   "outputs": [
    {
     "name": "stdout",
     "output_type": "stream",
     "text": [
      "['Python is a widely used general-purpose, high-level programming language.[19][20]\\n', 'Its design philosophy emphasizes code readability, and\\n', 'its syntax allows programmers to express concepts in fewer lines of code than\\n', 'would be possible in languages such as C++ or Java.[21][22]']\n"
     ]
    }
   ],
   "source": [
    "myfile = open('python.txt','r')\n",
    "contents=myfile.readlines()\n",
    "myfile.close()\n",
    "print contents"
   ]
  },
  {
   "cell_type": "markdown",
   "metadata": {},
   "source": [
    "### 파일의 검색\n",
    "\n",
    "* 찾지 못할 경우 -1을 반환\n",
    "    * !=-1 찾는 것을 실패하지 않으면 - 부정의 부정은 어렵다\n",
    "    * \\>=0 찾으면 -> 긍정으로"
   ]
  },
  {
   "cell_type": "code",
   "execution_count": 19,
   "metadata": {
    "collapsed": false
   },
   "outputs": [
    {
     "data": {
      "text/plain": [
       "0"
      ]
     },
     "execution_count": 19,
     "metadata": {},
     "output_type": "execute_result"
    }
   ],
   "source": [
    "\"Today is hot\".find('today')\n",
    "\"Today is hot\".find('Today')"
   ]
  },
  {
   "cell_type": "code",
   "execution_count": 20,
   "metadata": {
    "collapsed": false
   },
   "outputs": [
    {
     "name": "stdout",
     "output_type": "stream",
     "text": [
      "Python is a widely used general-purpose, high-level programming language.[19][20]\n",
      "\n"
     ]
    }
   ],
   "source": [
    "myfile = open('python.txt')\n",
    "for line in myfile:\n",
    "    if 'Python' in line:\n",
    "        print line\n",
    "myfile.close()"
   ]
  },
  {
   "cell_type": "code",
   "execution_count": 21,
   "metadata": {
    "collapsed": false
   },
   "outputs": [
    {
     "name": "stdout",
     "output_type": "stream",
     "text": [
      "Python is a widely used general-purpose, high-level programming language.[19][20]\n",
      "\n"
     ]
    }
   ],
   "source": [
    "myfile = open('python.txt')\n",
    "for line in myfile:\n",
    "    if line.find('Python')!=-1:\n",
    "        print line\n",
    "myfile.close()"
   ]
  },
  {
   "cell_type": "code",
   "execution_count": 22,
   "metadata": {
    "collapsed": false
   },
   "outputs": [
    {
     "name": "stdout",
     "output_type": "stream",
     "text": [
      "Python is a widely used general-purpose, high-level programming language.[19][20]\n",
      "\n"
     ]
    }
   ],
   "source": [
    "myfile = open('python.txt')\n",
    "for line in myfile:\n",
    "    if line.find('Python')>=0:\n",
    "        print line\n",
    "myfile.close()"
   ]
  },
  {
   "cell_type": "markdown",
   "metadata": {},
   "source": [
    "### 오류의 처리\n",
    "\n",
    "* 존재하지 않는 파일 - 입출력 오류 IOError"
   ]
  },
  {
   "cell_type": "code",
   "execution_count": 23,
   "metadata": {
    "collapsed": false
   },
   "outputs": [
    {
     "ename": "IOError",
     "evalue": "[Errno 2] No such file or directory: 'noname.txt'",
     "output_type": "error",
     "traceback": [
      "\u001b[1;31m---------------------------------------------------------------------------\u001b[0m",
      "\u001b[1;31mIOError\u001b[0m                                   Traceback (most recent call last)",
      "\u001b[1;32m<ipython-input-23-d838fee9e3e9>\u001b[0m in \u001b[0;36m<module>\u001b[1;34m()\u001b[0m\n\u001b[1;32m----> 1\u001b[1;33m \u001b[0mmyfile\u001b[0m \u001b[1;33m=\u001b[0m \u001b[0mopen\u001b[0m\u001b[1;33m(\u001b[0m\u001b[1;34m'noname.txt'\u001b[0m\u001b[1;33m)\u001b[0m\u001b[1;33m\u001b[0m\u001b[0m\n\u001b[0m",
      "\u001b[1;31mIOError\u001b[0m: [Errno 2] No such file or directory: 'noname.txt'"
     ]
    }
   ],
   "source": [
    "myfile = open('noname.txt')"
   ]
  },
  {
   "cell_type": "code",
   "execution_count": 24,
   "metadata": {
    "collapsed": false
   },
   "outputs": [
    {
     "name": "stdout",
     "output_type": "stream",
     "text": [
      "no file\n"
     ]
    }
   ],
   "source": [
    "try:\n",
    "    myfile = open('noname.txt')\n",
    "except:\n",
    "    print \"no file\""
   ]
  },
  {
   "cell_type": "code",
   "execution_count": 26,
   "metadata": {
    "collapsed": false
   },
   "outputs": [
    {
     "name": "stdout",
     "output_type": "stream",
     "text": [
      "catches IO Error\n"
     ]
    }
   ],
   "source": [
    "try:\n",
    "    myfile = open('noname.txt')\n",
    "except IOError:\n",
    "    print \"catches IO Error\""
   ]
  },
  {
   "cell_type": "code",
   "execution_count": 12,
   "metadata": {
    "collapsed": false
   },
   "outputs": [
    {
     "name": "stdout",
     "output_type": "stream",
     "text": [
      "[Errno 2] No such file or directory: 'noname.txt'\n"
     ]
    }
   ],
   "source": [
    "try:\n",
    "    myfile = open('noname.txt')\n",
    "except IOError as e:\n",
    "    print e"
   ]
  },
  {
   "cell_type": "markdown",
   "metadata": {},
   "source": [
    "* 묶어서"
   ]
  },
  {
   "cell_type": "code",
   "execution_count": 27,
   "metadata": {
    "collapsed": false
   },
   "outputs": [
    {
     "name": "stdout",
     "output_type": "stream",
     "text": [
      "Python is a widely used general-purpose, high-level programming language.[19][20]\n",
      "\n"
     ]
    }
   ],
   "source": [
    "try:\n",
    "    myfile = open('python.txt')\n",
    "    for line in myfile:\n",
    "        if line.lower().find('python')>=0:\n",
    "            print line\n",
    "    myfile.close()\n",
    "except IOError as e:\n",
    "    print e"
   ]
  },
  {
   "cell_type": "markdown",
   "metadata": {},
   "source": [
    "* 함수로"
   ]
  },
  {
   "cell_type": "code",
   "execution_count": 28,
   "metadata": {
    "collapsed": false
   },
   "outputs": [
    {
     "name": "stdout",
     "output_type": "stream",
     "text": [
      "['Python is a widely used general-purpose, high-level programming language.[19][20]\\n']\n"
     ]
    }
   ],
   "source": [
    "def searchFile(aFile,query):\n",
    "    result=list()\n",
    "    try:\n",
    "        myfile = open(aFile)\n",
    "        for line in myfile:\n",
    "            if line.lower().find(query)>=0:\n",
    "                result.append(line)\n",
    "        myfile.close()\n",
    "    except IOError as e:\n",
    "        print e\n",
    "    return result\n",
    "\n",
    "import os\n",
    "mydir=os.getcwd()\n",
    "filename=os.path.join(mydir,'python.txt')\n",
    "res=searchFile(filename,'python')\n",
    "print res"
   ]
  },
  {
   "cell_type": "markdown",
   "metadata": {},
   "source": [
    "## 파일-2: 파일에 있는 python단어를 변경해서 쓰기\n",
    "\n",
    "* 대문자로 바꿔 쓰기\n",
    "* 파일을 수정하고 수정내용을 적는다.\n",
    "    ```\n",
    "    [jsl edited 2015-11-11 19:43:14]first LINE\n",
    "    [jsl edited 2015-11-11 19:43:14]second LINE\n",
    "    third\n",
    "    ```\n",
    "* 프로그래밍 요소\n",
    "    * 파일을 열고, 읽고, 검색할 수 있다.\n",
    "        1. 파일을 열고 open()\n",
    "        2. 쓰고 write()\n",
    "        3. 닫고 close()\n",
    "    * 파일 입출력 오류의 처리  - 존재하지 않는 경우\n"
   ]
  },
  {
   "cell_type": "markdown",
   "metadata": {},
   "source": [
    "channel -> 표준 입출력, 파일입출력\n",
    "먼저 화면에 해서 원하는 결과를 출력하는지 확인하고 파일입출력으로 변환"
   ]
  },
  {
   "cell_type": "markdown",
   "metadata": {},
   "source": [
    "### 파일에 쓰기"
   ]
  },
  {
   "cell_type": "code",
   "execution_count": 9,
   "metadata": {
    "collapsed": true
   },
   "outputs": [],
   "source": [
    "fout = open('output.txt', 'w')\n",
    "fout.write(\"first line\\n\")\n",
    "fout.write(\"\\tsecond line\\n\")\n",
    "fout.write(\"third\")\n",
    "fout.close()"
   ]
  },
  {
   "cell_type": "markdown",
   "metadata": {},
   "source": [
    "### ipython notebook 기능을 이용해서 열어보기"
   ]
  },
  {
   "cell_type": "code",
   "execution_count": null,
   "metadata": {
    "collapsed": false
   },
   "outputs": [],
   "source": [
    "# %load ./output.txt\n",
    "first line\n",
    "\tsecond line\n",
    "third"
   ]
  },
  {
   "cell_type": "markdown",
   "metadata": {},
   "source": [
    "### 대문자로 변경하기\n",
    "\n",
    "* with구문 사용 연습"
   ]
  },
  {
   "cell_type": "code",
   "execution_count": 26,
   "metadata": {
    "collapsed": false
   },
   "outputs": [
    {
     "data": {
      "text/plain": [
       "'ABC'"
      ]
     },
     "execution_count": 26,
     "metadata": {},
     "output_type": "execute_result"
    }
   ],
   "source": [
    "s=\"abc\"\n",
    "s.upper()"
   ]
  },
  {
   "cell_type": "markdown",
   "metadata": {},
   "source": [
    "* 문서 -> 문장 -> 단어로 나누어서, 대문자로 변경할 수 있다. 이 방식은 '들여쓰기'와 같은 서식을 잃어버리게 된다.\n",
    "* 문장을 그대로 두고, replace()함수를 사용하면 서식을 보존할 수 있다.\n",
    "* 파일에 직접 쓰기 전에 화면으로 원하는 결과가 출력되는 것을 확인한 후 파일에 써본다."
   ]
  },
  {
   "cell_type": "code",
   "execution_count": 43,
   "metadata": {
    "collapsed": false,
    "scrolled": true
   },
   "outputs": [
    {
     "name": "stdout",
     "output_type": "stream",
     "text": [
      "first LINE\n",
      "second LINE\n",
      "third\n"
     ]
    }
   ],
   "source": [
    "fin = open('output.txt', 'r')\n",
    "for line in fin:\n",
    "    words=line.split()\n",
    "    for word in words:\n",
    "        if word=='line':\n",
    "            print word.upper()\n",
    "        else:\n",
    "            print word,\n",
    "fout.close()"
   ]
  },
  {
   "cell_type": "markdown",
   "metadata": {},
   "source": [
    "### 라이브러리 이용\n",
    "\n",
    "* 문자열 find\n",
    "* 문자열 replace"
   ]
  },
  {
   "cell_type": "code",
   "execution_count": 39,
   "metadata": {
    "collapsed": false
   },
   "outputs": [
    {
     "data": {
      "text/plain": [
       "'another LINE is a LINE'"
      ]
     },
     "execution_count": 39,
     "metadata": {},
     "output_type": "execute_result"
    }
   ],
   "source": [
    "\"another line is a line\".replace(\"line\",\"LINE\")"
   ]
  },
  {
   "cell_type": "code",
   "execution_count": 38,
   "metadata": {
    "collapsed": false
   },
   "outputs": [
    {
     "name": "stdout",
     "output_type": "stream",
     "text": [
      "first LINE\n",
      "\n",
      "\tsecond LINE\n",
      "\n",
      "third\n"
     ]
    }
   ],
   "source": [
    "fin = open('output.txt', 'r')\n",
    "for sentence in fin:\n",
    "    s=sentence.replace('line','LINE')\n",
    "    print s\n",
    "fout.close()"
   ]
  },
  {
   "cell_type": "code",
   "execution_count": 12,
   "metadata": {
    "collapsed": false
   },
   "outputs": [],
   "source": [
    "fin = open('output.txt', 'r')\n",
    "fout = open('outputUpper.txt','w')\n",
    "for sentence in fin:\n",
    "    if sentence.find('line')>= 0:\n",
    "        sentence=sentence.replace('line','LINE')\n",
    "    fout.write(sentence)\n",
    "fin.close()\n",
    "fout.close()"
   ]
  },
  {
   "cell_type": "code",
   "execution_count": null,
   "metadata": {
    "collapsed": false
   },
   "outputs": [],
   "source": [
    "# %load outputUpper.txt\n",
    "first LINE\n",
    "\tsecond LINE\n",
    "third"
   ]
  },
  {
   "cell_type": "markdown",
   "metadata": {},
   "source": [
    "* 대문자로 변경된 줄에 대해 변경자와 변경시간을 넣는다.\n",
    "* 우선 변경자와 변경시간을 문자열로 만들어 본다.\n",
    "    ```\n",
    "    [jsl edited 2015-05-25 14:17:15] first LINE\n",
    "    [jsl edited 2015-05-25 14:17:15] \tsecond LINE\n",
    "    third\n",
    "    ```"
   ]
  },
  {
   "cell_type": "markdown",
   "metadata": {},
   "source": [
    "### 수정자, 수정시간 표시하기\n",
    "\n",
    "* first line -> [수정자 edited 수정시간] first line\n",
    "* 수정시간 - time 라이브러리 이용"
   ]
  },
  {
   "cell_type": "code",
   "execution_count": 42,
   "metadata": {
    "collapsed": false
   },
   "outputs": [
    {
     "name": "stdout",
     "output_type": "stream",
     "text": [
      "11/11/2015\n",
      "19:42:08\n",
      "2015-11-11 19:42:08\n"
     ]
    }
   ],
   "source": [
    "import time\n",
    "print (time.strftime(\"%d/%m/%Y\"))\n",
    "print (time.strftime(\"%H:%M:%S\"))\n",
    "print time.strftime(\"%Y-%m-%d %H:%M:%S\")"
   ]
  },
  {
   "cell_type": "code",
   "execution_count": 17,
   "metadata": {
    "collapsed": false
   },
   "outputs": [
    {
     "name": "stdout",
     "output_type": "stream",
     "text": [
      "[jsl edited 2016-05-25 15:07:32]\n"
     ]
    }
   ],
   "source": [
    "import time\n",
    "editor='jsl'\n",
    "timeEdited=time.strftime(\"%Y-%m-%d %H:%M:%S\")\n",
    "print \"[{0} edited {1}]\".format(editor,timeEdited)"
   ]
  },
  {
   "cell_type": "code",
   "execution_count": 15,
   "metadata": {
    "collapsed": false
   },
   "outputs": [],
   "source": [
    "import time\n",
    "fin = open('output.txt', 'r')\n",
    "fout = open('outputUpper.txt','w')\n",
    "editFlag='[jsl edited {}]'.format(time.strftime(\"%Y-%m-%d %H:%M:%S\"))\n",
    "for sentence in fin:\n",
    "    if sentence.find('line')>= 0:\n",
    "        sentence=sentence.replace('line','LINE')\n",
    "        sentence=editFlag+sentence\n",
    "    fout.write(sentence)\n",
    "fin.close()\n",
    "fout.close()"
   ]
  },
  {
   "cell_type": "code",
   "execution_count": null,
   "metadata": {
    "collapsed": true
   },
   "outputs": [],
   "source": [
    "# %load outputUpper.txt\n",
    "[jsl edited 2016-05-28 14:25:28]first LINE\n",
    "[jsl edited 2016-05-28 14:25:28]\tsecond LINE\n",
    "third"
   ]
  },
  {
   "cell_type": "markdown",
   "metadata": {},
   "source": [
    "## 파일-3: 2차원 데이터를 파일로 쓰기\n",
    "\n",
    "* 표형식으로 데이터 쓰기\n",
    "    * 행은 자료 1건을 말한다. 행은 줄 바꾸어서 쓴다.\n",
    "    * 열은 자료의 데이터이다. 열을 구분하기 위해 들여쓰기(탭)을 사용한다.\n",
    "* 프로그래밍 요소\n",
    "    * 파일에 쓰기\n",
    "    * 파일에 적힌 데이터는 문자라서, 연산을 하려면 숫자로 변환해야 한다."
   ]
  },
  {
   "cell_type": "markdown",
   "metadata": {
    "collapsed": true
   },
   "source": [
    "### 표 형식으로 쓰기\n",
    "\n",
    "* \\t 탭\n",
    "* \\t 넣으면 문자열 변환"
   ]
  },
  {
   "cell_type": "code",
   "execution_count": null,
   "metadata": {
    "collapsed": true
   },
   "outputs": [],
   "source": [
    "* 먼저 파일을 연다. 닫는 것까지 해놓는다."
   ]
  },
  {
   "cell_type": "code",
   "execution_count": 20,
   "metadata": {
    "collapsed": false
   },
   "outputs": [
    {
     "name": "stdout",
     "output_type": "stream",
     "text": [
      "1 \t2 \t3 \t4 \t5 \t6 \t7 \t8 \t9 \t10 \t"
     ]
    }
   ],
   "source": [
    "data=[1,2,3,4,5,6,7,8,9,10]\n",
    "for i in data:\n",
    "    print i,\n",
    "    print '\\t',"
   ]
  },
  {
   "cell_type": "code",
   "execution_count": 21,
   "metadata": {
    "collapsed": false
   },
   "outputs": [
    {
     "name": "stdout",
     "output_type": "stream",
     "text": [
      "1\t2\t3\t4\t5\t6\t7\t8\t9\t10\t"
     ]
    }
   ],
   "source": [
    "data=[1,2,3,4,5,6,7,8,9,10]\n",
    "\n",
    "for i in data:\n",
    "    print \"{0}\\t\".format(i),"
   ]
  },
  {
   "cell_type": "code",
   "execution_count": 23,
   "metadata": {
    "collapsed": true
   },
   "outputs": [],
   "source": [
    "data=[1,2,3,4,5,6,7,8,9,10]\n",
    "fout=open('outputNumber.txt','w')\n",
    "for i in data:\n",
    "    str=\"{0}\\t\".format(i)\n",
    "    fout.write(str)\n",
    "fout.close()"
   ]
  },
  {
   "cell_type": "code",
   "execution_count": null,
   "metadata": {
    "collapsed": true
   },
   "outputs": [],
   "source": [
    "# %load outputNumber.txt\n",
    "1\t2\t3\t4\t5\t6\t7\t8\t9\t10\t"
   ]
  },
  {
   "cell_type": "markdown",
   "metadata": {},
   "source": [
    "### 학생의 프로그래밍\n",
    "\n",
    "* 입력데이터에 \\t을 넣어 놓았다."
   ]
  },
  {
   "cell_type": "code",
   "execution_count": 47,
   "metadata": {
    "collapsed": true
   },
   "outputs": [],
   "source": [
    "dataStr=\"1\\t2\\t3\\t4\\t5\"\n",
    "fout=open('outputStudent.txt','w')\n",
    "fout.write(dataStr)\n",
    "fout.close()"
   ]
  },
  {
   "cell_type": "markdown",
   "metadata": {},
   "source": [
    "### 1줄 출력을 표 형식으로\n",
    "\n",
    "* enumerate는 인덱스를 추적"
   ]
  },
  {
   "cell_type": "code",
   "execution_count": 25,
   "metadata": {
    "collapsed": false
   },
   "outputs": [],
   "source": [
    "data=[1,2,3,4,5,6,7,8,9,10]\n",
    "\n",
    "fout=open('outputNumber.txt','w')\n",
    "for i,item in enumerate(data):\n",
    "    str=\"{0}\\t\".format(item)\n",
    "    fout.write(str)\n",
    "    if(i%2==1):\n",
    "        fout.write('\\n')\n",
    "fout.close()"
   ]
  },
  {
   "cell_type": "code",
   "execution_count": null,
   "metadata": {
    "collapsed": true
   },
   "outputs": [],
   "source": [
    "# %load outputNumber.txt\n",
    "1\t2\t\n",
    "3\t4\t\n",
    "5\t6\t\n",
    "7\t8\t\n",
    "9\t10\t\n"
   ]
  },
  {
   "cell_type": "markdown",
   "metadata": {},
   "source": [
    "## 파일-4: 파일 합치기\n",
    "\n",
    "* 파일\n",
    "\n",
    "파일 사용 모드 | 기능\n",
    "---|---\n",
    "r | read 읽기\n",
    "w | write 생성하거나 덮어쓰기(overwrite)\n",
    "a | append 원본에 붙여쓰기. 원본이 보존되지 않음.\n"
   ]
  },
  {
   "cell_type": "markdown",
   "metadata": {},
   "source": [
    "## 파일-5: 파일의 데이터를 읽어서 도형을 그리기\n",
    "\n",
    "* 사각형에 필요한 데이터는 2점이다. 2점은 (x1,y1), (x2,y2)로 구성한다.\n",
    "* 파일에서 읽으면 문자라서 숫자로 변환한다.\n",
    "* 사각형을 그리기 위해서는\n",
    "    * 사각형 - 2점으로 구성한 2차원 데이터\n",
    "    * 여러 사각형 - 3차원"
   ]
  },
  {
   "cell_type": "markdown",
   "metadata": {},
   "source": [
    "## 파일-6: 한글파일을 읽기\n",
    "\n",
    "* 유니코드를 지원하지 않는 경우 한글처리 문제\n",
    "    * 안녕하세요의 유니코드를 보면, 암호같은 느낌이다.\n",
    "    * 유니코드는 코드앞에 u를 붙여 명시한다.\n",
    "    * 그렇게 하지 않으면 (유니코드가 아니면), 맞지 않는 인코딩을 할 경우 'ascii codec...' 에러를 만나게 된다."
   ]
  },
  {
   "cell_type": "markdown",
   "metadata": {},
   "source": [
    "### 유니코드로 파일에 쓸 경우\n",
    "\n",
    "* 유니코드를 사용하여 파일을 사용할 경우, codec을 사용한다.\n",
    "* 여기서는 codec을 사용하지 않고 쓰고, codec을 사용하여 읽어 본다.\n",
    "* codec을 사용하여 파일에 쓸 경우, 다음과 같이 한다.\n",
    "\n",
    "```\n",
    "with codecs.open(filename,'w',encoding='utf8') as f:\n",
    "    f.write(text)\n",
    "```"
   ]
  }
 ],
 "metadata": {
  "kernelspec": {
   "display_name": "Python 2",
   "language": "python",
   "name": "python2"
  },
  "language_info": {
   "codemirror_mode": {
    "name": "ipython",
    "version": 2
   },
   "file_extension": ".py",
   "mimetype": "text/x-python",
   "name": "python",
   "nbconvert_exporter": "python",
   "pygments_lexer": "ipython2",
   "version": "2.7.10"
  }
 },
 "nbformat": 4,
 "nbformat_minor": 0
}
