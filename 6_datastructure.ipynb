{
 "cells": [
  {
   "cell_type": "markdown",
   "metadata": {
    "slideshow": {
     "slide_type": "slide"
    }
   },
   "source": [
    "# 6. 데이터구조\n",
    "\n",
    "## 6.1 학습내용\n",
    "\n",
    "### 6.1.1 목표\n",
    "\n",
    "* 데이터를 저장하고, 조회할 수 있는 '데이터구조'를 이해하고, 활용할 수 있게 함.\n",
    "* 데이터구조\n",
    "    * list\n",
    "    * tuple\n",
    "    * set\n",
    "    * dictionary\n",
    "\n",
    "### 6.1.2 문제\n",
    "\n",
    "* 데이터구조-1 4로 나누어지고 5로 나누어지지 않는 수 골라서 배열에 넣기.\n",
    "* 데이터구조-2 거북이 트랙을 저장하기\n",
    "* 데이터구조-3 도형을 데이터로 저장하기\n",
    "* 데이터구조-4 거북이가 걸어간 트랙을 다시 걷게 하기\n",
    "* 데이터구조-5 문자열에서 문자를 세기\n",
    "* 데이터구조-6 문자열 배열에서 문자, 숫자 개수 세기.\n",
    "* 데이터구조-7 자신과 친구의 방에 있는 가전제품을 10개 이상 나열해서, 차이 구하기.\n",
    "* 데이터구조-8 광화문 반경에서 가까운 역 찾기.\n",
    "* 데이터구조-9 커피에 우유를 넣는 비율 구하기.\n",
    "* 데이터구조-10 성적 평균, 합계 구하기.\n",
    "* 데이터구조-11 비틀즈 랫잇비 가사에서 자주 등장하는 단어 구하기.\n",
    "\n",
    "### 6.1.3 연습문제\n",
    "\n",
    "* 서울 학교생활 만족도 평균 구하기.\n",
    "* 대통령 연설에서 자주 등장하는 단어 차이 분석하기. 단어빈도 그래프 그리기.\n",
    "* (자습) 이메일 자주 보내는 사람 찾기."
   ]
  },
  {
   "cell_type": "markdown",
   "metadata": {},
   "source": [
    "## 6.2 데이터구조란?\n",
    "\n",
    "### 6.2.1 왜 필요할까?\n",
    "\n",
    "* 2개 이상의 연관된 값을 저장하기 위해서 사용한다.\n",
    "    * 변수는 1개의 데이터를 저장하지만, 데이터구조는 2개 이상을 저장.\n",
    "* 1개 이상의 값을 저장해서 사용하는 쉬운 예를 들어보자.\n",
    "* 1부터 10까지 출력을 한다. for 반복문을 이용해서 쉽게 출력할 수 있다."
   ]
  },
  {
   "cell_type": "code",
   "execution_count": 1,
   "metadata": {
    "collapsed": false
   },
   "outputs": [
    {
     "name": "stdout",
     "output_type": "stream",
     "text": [
      "1 2 3 4 5 6 7 8 9 10\n"
     ]
    }
   ],
   "source": [
    "for i in range(1,11):\n",
    "    print i,"
   ]
  },
  {
   "cell_type": "markdown",
   "metadata": {},
   "source": [
    "* 1~10까지의 숫자를 저장해서 다시 사용한다고 생각해보자.\n",
    "* 어떻게 저장할 것인가?\n",
    "* 앞서 배웠던 변수를 사용해보자. 그렇다면 10개의 변수가 필요하다."
   ]
  },
  {
   "cell_type": "code",
   "execution_count": null,
   "metadata": {
    "collapsed": true
   },
   "outputs": [],
   "source": [
    "x10=10\n",
    "x9=9\n",
    "x8=8\n",
    "x7=7\n",
    "x6=6\n",
    "x5=5\n",
    "x4=4\n",
    "x3=3\n",
    "x2=2\n",
    "x1=1"
   ]
  },
  {
   "cell_type": "markdown",
   "metadata": {},
   "source": [
    "* x1 ~ x10, 10개의 변수를 이용해서 숫자를 저장했다.\n",
    "* 출력은 어떻게 할 것인가? 출력까지 하나씩 한다면 모두 20줄의 명령어가 필요하다. 매우 낭비적이다.\n",
    "* 이를 간단히 할 수 있는 방법이 있을까? 데이터구조를 이용하면 쉽게 해결할 수 있다."
   ]
  },
  {
   "cell_type": "markdown",
   "metadata": {},
   "source": [
    "* List라고 하는 데이터구조를 사용해보자.\n",
    "* 아래와 같이, 변수명에 대괄호를 이용하여 번호를 매기고 (인덱스라고 한다), 연관된 값을 저장한다.\n",
    "* 오류가 났다. 그 이유는 선언을 하지 않았기 때문이다."
   ]
  },
  {
   "cell_type": "code",
   "execution_count": 4,
   "metadata": {
    "collapsed": false
   },
   "outputs": [
    {
     "ename": "NameError",
     "evalue": "name 'x' is not defined",
     "output_type": "error",
     "traceback": [
      "\u001b[0;31m---------------------------------------------------------------------------\u001b[0m",
      "\u001b[0;31mNameError\u001b[0m                                 Traceback (most recent call last)",
      "\u001b[0;32m<ipython-input-4-ac371d512433>\u001b[0m in \u001b[0;36m<module>\u001b[0;34m()\u001b[0m\n\u001b[0;32m----> 1\u001b[0;31m \u001b[0mx\u001b[0m\u001b[0;34m[\u001b[0m\u001b[0;36m0\u001b[0m\u001b[0;34m]\u001b[0m\u001b[0;34m=\u001b[0m\u001b[0;36m0\u001b[0m\u001b[0;34m\u001b[0m\u001b[0m\n\u001b[0m",
      "\u001b[0;31mNameError\u001b[0m: name 'x' is not defined"
     ]
    }
   ],
   "source": [
    "x[0]=0"
   ]
  },
  {
   "cell_type": "markdown",
   "metadata": {},
   "source": [
    "* 사용하기 전 반드시 사용하려는 자료형을 알려주어야 함.\n",
    "* 즉, List를 선언하지 않고는 사용할 수 없슴.\n",
    "    * x=list() 또는 x=[]\n",
    "    * 그러나 List에 수, 문자 어느 것이 들어갈지 선언하지는 않음."
   ]
  },
  {
   "cell_type": "code",
   "execution_count": null,
   "metadata": {
    "collapsed": true
   },
   "outputs": [],
   "source": [
    "x=list()"
   ]
  },
  {
   "cell_type": "markdown",
   "metadata": {},
   "source": [
    "* 선언한 List에 데이터를 넣을 경우, append함수를 사용한다.\n",
    "* 아래는 x가 리스트 구조를 사용한다고 선언하고, 1을 저장하였다."
   ]
  },
  {
   "cell_type": "code",
   "execution_count": 5,
   "metadata": {
    "collapsed": false
   },
   "outputs": [
    {
     "name": "stdout",
     "output_type": "stream",
     "text": [
      "[1]\n"
     ]
    }
   ],
   "source": [
    "x=list()\n",
    "x.append(1)\n",
    "print x"
   ]
  },
  {
   "cell_type": "markdown",
   "metadata": {},
   "source": [
    "* 이제 10개의 값을 저장해보자."
   ]
  },
  {
   "cell_type": "code",
   "execution_count": 6,
   "metadata": {
    "collapsed": false
   },
   "outputs": [
    {
     "name": "stdout",
     "output_type": "stream",
     "text": [
      "[1, 2, 3, 4, 5, 6, 7, 8, 9, 10]\n"
     ]
    }
   ],
   "source": [
    "x=list()\n",
    "x.append(1)\n",
    "x.append(2)\n",
    "x.append(3)\n",
    "x.append(4)\n",
    "x.append(5)\n",
    "x.append(6)\n",
    "x.append(7)\n",
    "x.append(8)\n",
    "x.append(9)\n",
    "x.append(10)\n",
    "print x,"
   ]
  },
  {
   "cell_type": "markdown",
   "metadata": {},
   "source": [
    "* 동일한 변수명으로 연관된 값을 묶어 저장하는 것은 만족스럽지만, 아직 10줄이나 반복하는 것은 문제이다.\n",
    "* 이 때 숫자를 하나씩 증가하여 저장하는 패턴을 볼 수 있다. 반복문을 사용하면 간단히 해결할 수 있다.\n",
    "    * x의 리스트 데이터구조를 선언하고 사용.\n",
    "    * index방식으로는 list에 데이터를 넣지 못함. 값을 넣으려고 하지만 그 배열항목이 존재하지 않음 assignment impossible!!\n",
    "    * append함수를 이용한다. 이와 같이 데이터구조 별로 특징적인 데이터를 생성하고, 읽고, 삭제하고, 수정하는 방식이 있다는 것을 유의하자."
   ]
  },
  {
   "cell_type": "code",
   "execution_count": 7,
   "metadata": {
    "collapsed": false
   },
   "outputs": [
    {
     "ename": "IndexError",
     "evalue": "list assignment index out of range",
     "output_type": "error",
     "traceback": [
      "\u001b[0;31m---------------------------------------------------------------------------\u001b[0m",
      "\u001b[0;31mIndexError\u001b[0m                                Traceback (most recent call last)",
      "\u001b[0;32m<ipython-input-7-aa2b70af590f>\u001b[0m in \u001b[0;36m<module>\u001b[0;34m()\u001b[0m\n\u001b[1;32m      1\u001b[0m \u001b[0mx\u001b[0m\u001b[0;34m=\u001b[0m\u001b[0mlist\u001b[0m\u001b[0;34m(\u001b[0m\u001b[0;34m)\u001b[0m\u001b[0;34m\u001b[0m\u001b[0m\n\u001b[1;32m      2\u001b[0m \u001b[0;32mfor\u001b[0m \u001b[0mi\u001b[0m \u001b[0;32min\u001b[0m \u001b[0mrange\u001b[0m\u001b[0;34m(\u001b[0m\u001b[0;36m1\u001b[0m\u001b[0;34m,\u001b[0m\u001b[0;36m11\u001b[0m\u001b[0;34m)\u001b[0m\u001b[0;34m:\u001b[0m\u001b[0;34m\u001b[0m\u001b[0m\n\u001b[0;32m----> 3\u001b[0;31m     \u001b[0mx\u001b[0m\u001b[0;34m[\u001b[0m\u001b[0mi\u001b[0m\u001b[0;34m]\u001b[0m\u001b[0;34m=\u001b[0m\u001b[0mi\u001b[0m\u001b[0;34m\u001b[0m\u001b[0m\n\u001b[0m\u001b[1;32m      4\u001b[0m \u001b[0;32mprint\u001b[0m \u001b[0mx\u001b[0m\u001b[0;34m\u001b[0m\u001b[0m\n",
      "\u001b[0;31mIndexError\u001b[0m: list assignment index out of range"
     ]
    }
   ],
   "source": [
    "x=list()\n",
    "for i in range(1,11):\n",
    "    x[i]=i\n",
    "print x"
   ]
  },
  {
   "cell_type": "code",
   "execution_count": 8,
   "metadata": {
    "collapsed": false
   },
   "outputs": [
    {
     "name": "stdout",
     "output_type": "stream",
     "text": [
      "[1, 2, 3, 4, 5, 6, 7, 8, 9, 10]\n"
     ]
    }
   ],
   "source": [
    "x=list()\n",
    "for i in range(1,11):\n",
    "    x.append(i)\n",
    "print x,"
   ]
  },
  {
   "cell_type": "markdown",
   "metadata": {},
   "source": [
    "* print 명령문을 들여써서, for의 body에 속하게 하면 데이터가 추가되는 과정을 볼 수 있다."
   ]
  },
  {
   "cell_type": "code",
   "execution_count": 9,
   "metadata": {
    "collapsed": false
   },
   "outputs": [
    {
     "name": "stdout",
     "output_type": "stream",
     "text": [
      "[1]\n",
      "[1, 2]\n",
      "[1, 2, 3]\n",
      "[1, 2, 3, 4]\n",
      "[1, 2, 3, 4, 5]\n",
      "[1, 2, 3, 4, 5, 6]\n",
      "[1, 2, 3, 4, 5, 6, 7]\n",
      "[1, 2, 3, 4, 5, 6, 7, 8]\n",
      "[1, 2, 3, 4, 5, 6, 7, 8, 9]\n",
      "[1, 2, 3, 4, 5, 6, 7, 8, 9, 10]\n"
     ]
    }
   ],
   "source": [
    "x=list()\n",
    "for i in range(1,11):\n",
    "    x.append(i)\n",
    "    print x"
   ]
  },
  {
   "cell_type": "markdown",
   "metadata": {},
   "source": [
    "* 다음 프로그램은 인덱스를 이용하여 출력하는 사례이다. 그러나 오류가 발생한다. 그 이유는 무엇일까?\n",
    "* range명령문에 따라 1부터 시작한다.\n",
    "    ```\n",
    "    x.append(1)\n",
    "    ```\n",
    "* 이 명령문은 x[0]에 1을 저장한다는 의미이다.\n",
    "* 그 다음 명령어는 없는 데이터를 출력하려고 하기 때문에 index범위초과 오류가 발생한다.\n",
    "    ```\n",
    "    print x[1]\n",
    "    ```\n",
    "* 이 오류는 논리적으로 생각해서, range명령문을 0부터 시작하면 해결할 수 있다."
   ]
  },
  {
   "cell_type": "code",
   "execution_count": 10,
   "metadata": {
    "collapsed": false
   },
   "outputs": [
    {
     "ename": "IndexError",
     "evalue": "list index out of range",
     "output_type": "error",
     "traceback": [
      "\u001b[0;31m---------------------------------------------------------------------------\u001b[0m",
      "\u001b[0;31mIndexError\u001b[0m                                Traceback (most recent call last)",
      "\u001b[0;32m<ipython-input-10-f3149a16c5e2>\u001b[0m in \u001b[0;36m<module>\u001b[0;34m()\u001b[0m\n\u001b[1;32m      2\u001b[0m \u001b[0;32mfor\u001b[0m \u001b[0mi\u001b[0m \u001b[0;32min\u001b[0m \u001b[0mrange\u001b[0m\u001b[0;34m(\u001b[0m\u001b[0;36m1\u001b[0m\u001b[0;34m,\u001b[0m\u001b[0;36m11\u001b[0m\u001b[0;34m)\u001b[0m\u001b[0;34m:\u001b[0m\u001b[0;34m\u001b[0m\u001b[0m\n\u001b[1;32m      3\u001b[0m     \u001b[0mx\u001b[0m\u001b[0;34m.\u001b[0m\u001b[0mappend\u001b[0m\u001b[0;34m(\u001b[0m\u001b[0mi\u001b[0m\u001b[0;34m)\u001b[0m\u001b[0;34m\u001b[0m\u001b[0m\n\u001b[0;32m----> 4\u001b[0;31m     \u001b[0;32mprint\u001b[0m \u001b[0mx\u001b[0m\u001b[0;34m[\u001b[0m\u001b[0mi\u001b[0m\u001b[0;34m]\u001b[0m\u001b[0;34m\u001b[0m\u001b[0m\n\u001b[0m",
      "\u001b[0;31mIndexError\u001b[0m: list index out of range"
     ]
    }
   ],
   "source": [
    "x=list()\n",
    "for i in range(1,11):\n",
    "    x.append(i)\n",
    "    print x[i],"
   ]
  },
  {
   "cell_type": "code",
   "execution_count": 13,
   "metadata": {
    "collapsed": false
   },
   "outputs": [
    {
     "name": "stdout",
     "output_type": "stream",
     "text": [
      "0 1 2 3 4 5 6 7 8 9\n"
     ]
    }
   ],
   "source": [
    "x=list()\n",
    "for i in range(0,10):\n",
    "    x.append(i)\n",
    "    print x[i],"
   ]
  },
  {
   "cell_type": "markdown",
   "metadata": {},
   "source": [
    "* 꼭 기억해야 하자. 사람은 1부터 숫자를 세는 것이 보통이지만, 컴퓨터는 0부터 시작한다.\n",
    "* 리스트는 값을 저장할 때 대괄호를 사용한다.\n",
    "* 대괄호에 들어가는 수를 인덱스 index라고 한다.\n",
    "* 인덱스는 정수 값. 0부터 시작!\n",
    "    * 음수는 사용하지 않는다.\n",
    "    * 소수도 사용하지 않는다.\n",
    "    * 문자도 사용하지 않는다."
   ]
  },
  {
   "cell_type": "markdown",
   "metadata": {},
   "source": [
    "* 데이터구조는 변수와 무엇이 다른가?\n",
    "    * 변수x는 1개 값만 저장. 1~10 값을 모두 저장하려면 변수로는 불가능.\n",
    "    * 변수는 값을 1개만 갖는다.\n",
    "    * 변수에 1 ~ 10의 값은 저장할 수 없슴. 저장공간이 1개이기 때문에, 가능하지 못함.\n",
    "    * 새로운 값을 저장하면, 전의 값은 없어짐.\n",
    "    * 이런 경우 배열을 이용하면, 동일한 변수명으로 여러 값을 묶어서 저장할 수 있슴."
   ]
  },
  {
   "cell_type": "markdown",
   "metadata": {},
   "source": [
    "### 6.2.2 데이터구조의 선언\n",
    "\n",
    "* 지금까지 데이터구조가 필요한 이유를 설명하였다. 변수는 연관된 값을 묶어서 저장하지 못한다. 리스트의 예로 설명하였다.\n",
    "* 스크립트언어는 컴파일언어와 달리 대개 선언을 하지 않지 않음. Python도 변수의 자료형을 선언하지 않아도 되는 loosely coupled 언어.\n",
    "    * 그러나 데이터구조는 선언이 필요하다.\n",
    "    * 어떤 구조를 사용할 것인지 미리 선언하도록 한다.\n",
    "    * 자료에 저장되는 데이터형은 명시하지 않아도 된다.\n",
    "    * 리스트를 사용하는 예를 들어보자. 다음과 같이 선언하고 사용한다. 그러나 d에 숫자 또는 문자가 저장할지 밝히지 않는다.\n",
    "    ```\n",
    "    x=list()\n",
    "    ```\n",
    "* 자료형 (data type)을 미리 선언하는 것은 메모리공간을 확보하기 위함.\n",
    "* 데이터구조의 선언은 여러 데이터를 저장하겠다는 의미.\n",
    "    * 따라서 2개 이상을 어떤 방식으로 저장할 것인지 미리 선언하는 것이 필요."
   ]
  },
  {
   "cell_type": "markdown",
   "metadata": {
    "slideshow": {
     "slide_type": "slide"
    }
   },
   "source": [
    "### 6.2.3. 많이 사용하는 데이터구조\n",
    "\n",
    "* 많이 사용하는 데이터구조는 다음과 같다.\n",
    "\n",
    "데이터구조 | 특징 | 선언 | index\n",
    "----|---|---|---\n",
    "list (array)| 배열. 순서가 있슴. 데이터 수정가능 (mutable) | x=list() or x=[] | yes (예: x[0])\n",
    "tuple | 수정할 수 없는 배열 (immutable) | x=tuple() or x=() | yes (예: x[0])\n",
    "set | 수학의 세트 | x=set() | no\n",
    "dictionary | key-value. 배열과 비슷. 문자를 인덱스로 사용할 수 있슴. | x=dict() or x={} | no\n",
    "\n",
    "    * list는 순서가 있어서, 정수 인덱스를 사용하여 읽거나, 수정할 수 있다.\n",
    "    * tuple는 list이지만, 데이터처리를 빠르게하기 위해, 값이 정해지면 수정할 수 없는 특징.\n",
    "    * set은 순서가 없어 인덱스를 사용하지 못함. 데이터중복이 없고 하나만 있다는 점에서 key와 같은 의미 (key로만 구성이 된 dictionary)\n",
    "    * dictionary는 key-value가 1:1로 구성함. 특정 key가 어떤 값을 갖는지 사전식으로 저장.\n"
   ]
  },
  {
   "cell_type": "code",
   "execution_count": 14,
   "metadata": {
    "collapsed": false,
    "scrolled": false,
    "slideshow": {
     "slide_type": "slide"
    }
   },
   "outputs": [
    {
     "name": "stdout",
     "output_type": "stream",
     "text": [
      "list:  <type 'list'>\n",
      "tuple:  <type 'tuple'>\n",
      "set:  <type 'set'>\n",
      "dict:  <type 'dict'>\n"
     ]
    }
   ],
   "source": [
    "# 변수를 선언하고 자료형 확인하기.\n",
    "x=list()\n",
    "print \"list: \",type(x)\n",
    "x=tuple()\n",
    "print \"tuple: \",type(x)\n",
    "x=set()\n",
    "print \"set: \",type(x)\n",
    "x=dict()\n",
    "print \"dict: \",type(x)"
   ]
  },
  {
   "cell_type": "markdown",
   "metadata": {},
   "source": [
    "* 리스트는 앞서 배웠다."
   ]
  },
  {
   "cell_type": "code",
   "execution_count": 22,
   "metadata": {
    "collapsed": false
   },
   "outputs": [
    {
     "name": "stdout",
     "output_type": "stream",
     "text": [
      "[0, 1, 2, 3, 4, 5, 6, 7, 8, 9]\n"
     ]
    }
   ],
   "source": [
    "x=list()\n",
    "for i in range(0,10):\n",
    "    x.append(i)\n",
    "print x"
   ]
  },
  {
   "cell_type": "markdown",
   "metadata": {},
   "source": [
    "* 튜플은 데이터가 수정할 수 없기 때문에 추가, 삭제, 수정하는 방법이 없다.\n",
    "* 튜플은 생성하고 나면, 수정하지 않고 사용한다."
   ]
  },
  {
   "cell_type": "code",
   "execution_count": 21,
   "metadata": {
    "collapsed": false
   },
   "outputs": [
    {
     "name": "stdout",
     "output_type": "stream",
     "text": [
      "(1, 2, 3, 4, 5, 6, 7, 8, 9, 10)\n"
     ]
    }
   ],
   "source": [
    "x=(1,2,3,4,5,6,7,8,9,10)\n",
    "print x"
   ]
  },
  {
   "cell_type": "markdown",
   "metadata": {},
   "source": [
    "* set은 데이터를 추가할 때는 add를 사용한다."
   ]
  },
  {
   "cell_type": "code",
   "execution_count": 28,
   "metadata": {
    "collapsed": false
   },
   "outputs": [
    {
     "data": {
      "text/plain": [
       "{0, 1, 2, 3, 4, 5, 6, 7, 8, 9}"
      ]
     },
     "execution_count": 28,
     "metadata": {},
     "output_type": "execute_result"
    }
   ],
   "source": [
    "x=set()\n",
    "for i in range(0,10):\n",
    "    x.add(i)\n",
    "x"
   ]
  },
  {
   "cell_type": "markdown",
   "metadata": {},
   "source": [
    "* dict는 키와 값으로 구성한다."
   ]
  },
  {
   "cell_type": "code",
   "execution_count": 31,
   "metadata": {
    "collapsed": false,
    "scrolled": true
   },
   "outputs": [
    {
     "name": "stdout",
     "output_type": "stream",
     "text": [
      "{'n': 1}\n"
     ]
    }
   ],
   "source": [
    "x=dict()\n",
    "x.update({'n':1})"
   ]
  },
  {
   "cell_type": "markdown",
   "metadata": {},
   "source": [
    "* 지금까지 하나씩 데이터구조를 훓어보았다.\n",
    "* 사용하는 괄호가 서로 다르다는 점에 주목하자.\n",
    "    * list []\n",
    "    * tuple ()\n",
    "    * set {}\n",
    "    * dictionary {key:value}"
   ]
  },
  {
   "cell_type": "markdown",
   "metadata": {
    "slideshow": {
     "slide_type": "slide"
    }
   },
   "source": [
    "## plantuml 준비\n",
    "\n",
    "* plantuml 라이브러리 호출\n",
    "* 명령어 사용할 수 있게 준비\n",
    "* plantuml.jar 내려받아 저장되었는지 확인\n",
    "* 경로설정 확인"
   ]
  },
  {
   "cell_type": "code",
   "execution_count": 32,
   "metadata": {
    "collapsed": false
   },
   "outputs": [
    {
     "name": "stdout",
     "output_type": "stream",
     "text": [
      "/Users/media/Code/git/p2/lib\n",
      "The environment variable GRAPHVIZ_DOT has been set to /opt/local/bin/dot\n",
      "Dot executable is /opt/local/bin/dot\n",
      "Dot version: dot - graphviz version 2.38.0 (20140413.2041)\n",
      "Installation seems OK. File generation OK\n"
     ]
    }
   ],
   "source": [
    "import os\n",
    "import glob\n",
    "\n",
    "mywd=%pwd\n",
    "myplantdir=os.path.join(mywd,'lib')\n",
    "mydotdir=!which dot\n",
    "mydot=mydotdir[0]\n",
    "\n",
    "%cd {myplantdir}\n",
    "glob.glob(r'./*.jar')\n",
    "os.environ['GRAPHVIZ_DOT']=mydot\n",
    "!java -jar {myplantdir}/plantuml.jar -testdot"
   ]
  },
  {
   "cell_type": "code",
   "execution_count": 33,
   "metadata": {
    "collapsed": false,
    "slideshow": {
     "slide_type": "slide"
    }
   },
   "outputs": [
    {
     "name": "stdout",
     "output_type": "stream",
     "text": [
      "Installed plantuml_magics.py. To use it, type:\n",
      "  %load_ext plantuml_magics\n"
     ]
    }
   ],
   "source": [
    "%install_ext https://raw.githubusercontent.com/sberke/ipython-plantuml/master/plantuml_magics.py"
   ]
  },
  {
   "cell_type": "code",
   "execution_count": 34,
   "metadata": {
    "collapsed": true,
    "slideshow": {
     "slide_type": "slide"
    }
   },
   "outputs": [],
   "source": [
    "%load_ext plantuml_magics"
   ]
  },
  {
   "cell_type": "markdown",
   "metadata": {},
   "source": [
    "## 데이터구조-1\n",
    "\n",
    "### 데이터구조-1-1.\n",
    "* 1 ~ 1000의 수 가운데 4로 나누어지고 5로 나누어지지 않는 수를 골라서 리스트에 넣기.\n",
    "\n",
    "### 데이터구조-1-2. 배열에 있는 수의 합계를 구하기\n",
    "\n",
    "* 1-1에서 만든 배열을 사용해서 합계를 구한다.\n",
    "* 1-2에서 반복문을 사용해서 문제를 푼다.\n",
    "\n",
    "* 프로그래밍 요소\n",
    "    * List\n",
    "    * 다른 구조와의 차이를 이해, 어느 경우 사용해야 좋은지 이해\n",
    "    * 함수는 재사용가능한 모듈인 합계만 만듦.\n",
    "* 주의\n",
    "    * 자료구조 형을 미리 선언해야 함.\n",
    "    * 배열요소를 입력할 경우, 없는 요소를 넣지 못함 (예: x=[]하면 비어 있는 List. 이 경우, x[0]=1하면 오류)"
   ]
  },
  {
   "cell_type": "code",
   "execution_count": 35,
   "metadata": {
    "collapsed": false
   },
   "outputs": [
    {
     "data": {
      "image/svg+xml": [
       "<svg height=\"893px\" style=\"width:274px;height:893px;\" version=\"1.1\" viewBox=\"0 0 274 893\" width=\"274px\" xmlns=\"http://www.w3.org/2000/svg\" xmlns:xlink=\"http://www.w3.org/1999/xlink\"><defs><filter height=\"300%\" id=\"f1\" width=\"300%\" x=\"-1\" y=\"-1\"><feGaussianBlur result=\"blurOut\" stdDeviation=\"2.0\"/><feColorMatrix in=\"blurOut\" result=\"blurOut2\" type=\"matrix\" values=\"0 0 0 0 0 0 0 0 0 0 0 0 0 0 0 0 0 0 .4 0\"/><feOffset dx=\"4.0\" dy=\"4.0\" in=\"blurOut2\" result=\"blurOut3\"/><feBlend in=\"SourceGraphic\" in2=\"blurOut3\" mode=\"normal\"/></filter></defs><g><ellipse cx=\"146\" cy=\"20\" fill=\"#000000\" filter=\"url(#f1)\" rx=\"10\" ry=\"10\" style=\"stroke: none; stroke-width: 1.0;\"/><rect fill=\"#FEFECE\" filter=\"url(#f1)\" height=\"34.1328\" rx=\"12.5\" ry=\"12.5\" style=\"stroke: #A80036; stroke-width: 1.5;\" width=\"62\" x=\"115\" y=\"50\"/><text fill=\"#000000\" font-family=\"sans-serif\" font-size=\"12\" lengthAdjust=\"spacingAndGlyphs\" textLength=\"42\" x=\"125\" y=\"71.6016\">set i=0</text><rect fill=\"#FEFECE\" filter=\"url(#f1)\" height=\"34.1328\" rx=\"12.5\" ry=\"12.5\" style=\"stroke: #A80036; stroke-width: 1.5;\" width=\"87\" x=\"102.5\" y=\"104.1328\"/><text fill=\"#000000\" font-family=\"sans-serif\" font-size=\"12\" lengthAdjust=\"spacingAndGlyphs\" textLength=\"67\" x=\"112.5\" y=\"125.7344\">initialize list</text><polygon fill=\"#FEFECE\" filter=\"url(#f1)\" points=\"81.5,202.2656,210.5,202.2656,222.5,214.2656,210.5,226.2656,81.5,226.2656,69.5,214.2656,81.5,202.2656\" style=\"stroke: #A80036; stroke-width: 1.5;\"/><text fill=\"#000000\" font-family=\"sans-serif\" font-size=\"11\" lengthAdjust=\"spacingAndGlyphs\" textLength=\"129\" x=\"81.5\" y=\"218.4229\">i divisable by 4, not by 5</text><rect fill=\"#FEFECE\" filter=\"url(#f1)\" height=\"34.1328\" rx=\"12.5\" ry=\"12.5\" style=\"stroke: #A80036; stroke-width: 1.5;\" width=\"99\" x=\"10\" y=\"236.2656\"/><text fill=\"#000000\" font-family=\"sans-serif\" font-size=\"12\" lengthAdjust=\"spacingAndGlyphs\" textLength=\"79\" x=\"20\" y=\"257.8672\">add i to array</text><polygon fill=\"#FEFECE\" filter=\"url(#f1)\" points=\"146,276.3984,158,288.3984,146,300.3984,134,288.3984,146,276.3984\" style=\"stroke: #A80036; stroke-width: 1.5;\"/><rect fill=\"#FEFECE\" filter=\"url(#f1)\" height=\"34.1328\" rx=\"12.5\" ry=\"12.5\" style=\"stroke: #A80036; stroke-width: 1.5;\" width=\"77\" x=\"107.5\" y=\"335.3984\"/><text fill=\"#000000\" font-family=\"sans-serif\" font-size=\"12\" lengthAdjust=\"spacingAndGlyphs\" textLength=\"57\" x=\"117.5\" y=\"357\">add 1 to i</text><polygon fill=\"#FEFECE\" filter=\"url(#f1)\" points=\"146,158.2656,158,170.2656,146,182.2656,134,170.2656,146,158.2656\" style=\"stroke: #A80036; stroke-width: 1.5;\"/><polygon fill=\"#FEFECE\" filter=\"url(#f1)\" points=\"129.5,389.5313,162.5,389.5313,174.5,401.5313,162.5,413.5313,129.5,413.5313,117.5,401.5313,129.5,389.5313\" style=\"stroke: #A80036; stroke-width: 1.5;\"/><text fill=\"#000000\" font-family=\"sans-serif\" font-size=\"11\" lengthAdjust=\"spacingAndGlyphs\" textLength=\"33\" x=\"129.5\" y=\"405.6885\">i&lt;101</text><rect fill=\"#FEFECE\" filter=\"url(#f1)\" height=\"34.1328\" rx=\"12.5\" ry=\"12.5\" style=\"stroke: #A80036; stroke-width: 1.5;\" width=\"67\" x=\"112.5\" y=\"433.5313\"/><text fill=\"#000000\" font-family=\"sans-serif\" font-size=\"12\" lengthAdjust=\"spacingAndGlyphs\" textLength=\"47\" x=\"122.5\" y=\"455.1328\">print list</text><rect fill=\"#FFFFFF\" filter=\"url(#f1)\" height=\"367.5313\" style=\"stroke: #000000; stroke-width: 2.0;\" width=\"173.5\" x=\"54.5\" y=\"478.6641\"/><path d=\"M87.5,479.6641 L87.5,485.6641 L77.5,495.6641 L54.5,495.6641 \" fill=\"#FFFFFF\" style=\"stroke: #000000; stroke-width: 2.0;\"/><text fill=\"#000000\" font-family=\"Serif\" font-size=\"14\" lengthAdjust=\"spacingAndGlyphs\" textLength=\"23\" x=\"57.5\" y=\"490.1641\">sum</text><rect fill=\"#FEFECE\" filter=\"url(#f1)\" height=\"34.1328\" rx=\"12.5\" ry=\"12.5\" style=\"stroke: #A80036; stroke-width: 1.5;\" width=\"62\" x=\"115\" y=\"512.6641\"/><text fill=\"#000000\" font-family=\"sans-serif\" font-size=\"12\" lengthAdjust=\"spacingAndGlyphs\" textLength=\"42\" x=\"125\" y=\"534.2656\">sum=0</text><rect fill=\"#FEFECE\" filter=\"url(#f1)\" height=\"34.1328\" rx=\"12.5\" ry=\"12.5\" style=\"stroke: #A80036; stroke-width: 1.5;\" width=\"144\" x=\"74\" y=\"581.7969\"/><text fill=\"#000000\" font-family=\"sans-serif\" font-size=\"12\" lengthAdjust=\"spacingAndGlyphs\" textLength=\"124\" x=\"84\" y=\"603.3984\">maxiter=length of list</text><rect fill=\"#FEFECE\" filter=\"url(#f1)\" height=\"34.1328\" rx=\"12.5\" ry=\"12.5\" style=\"stroke: #A80036; stroke-width: 1.5;\" width=\"115\" x=\"88.5\" y=\"698.9297\"/><text fill=\"#000000\" font-family=\"sans-serif\" font-size=\"12\" lengthAdjust=\"spacingAndGlyphs\" textLength=\"95\" x=\"98.5\" y=\"720.5313\">sum=sum+list[i]</text><polygon fill=\"#FEFECE\" filter=\"url(#f1)\" points=\"119.5,650.9297,172.5,650.9297,184.5,662.9297,172.5,674.9297,119.5,674.9297,107.5,662.9297,119.5,650.9297\" style=\"stroke: #A80036; stroke-width: 1.5;\"/><text fill=\"#000000\" font-family=\"sans-serif\" font-size=\"11\" lengthAdjust=\"spacingAndGlyphs\" textLength=\"53\" x=\"119.5\" y=\"667.0869\">i&lt;maxiter</text><rect fill=\"#FEFECE\" filter=\"url(#f1)\" height=\"34.1328\" rx=\"12.5\" ry=\"12.5\" style=\"stroke: #A80036; stroke-width: 1.5;\" width=\"75\" x=\"108.5\" y=\"792.0625\"/><text fill=\"#000000\" font-family=\"sans-serif\" font-size=\"12\" lengthAdjust=\"spacingAndGlyphs\" textLength=\"55\" x=\"118.5\" y=\"813.6641\">print sum</text><ellipse cx=\"146\" cy=\"876.1953\" fill=\"none\" filter=\"url(#f1)\" rx=\"10\" ry=\"10\" style=\"stroke: #000000; stroke-width: 1.0;\"/><ellipse cx=\"146.5\" cy=\"876.6953\" fill=\"#000000\" filter=\"url(#f1)\" rx=\"6\" ry=\"6\" style=\"stroke: none; stroke-width: 1.0;\"/><line style=\"stroke: #A80036; stroke-width: 1.5;\" x1=\"146\" x2=\"146\" y1=\"30\" y2=\"50\"/><polygon fill=\"#A80036\" points=\"142,40,146,50,150,40,146,44\" style=\"stroke: #A80036; stroke-width: 1.0;\"/><line style=\"stroke: #A80036; stroke-width: 1.5;\" x1=\"146\" x2=\"146\" y1=\"84.1328\" y2=\"104.1328\"/><polygon fill=\"#A80036\" points=\"142,94.1328,146,104.1328,150,94.1328,146,98.1328\" style=\"stroke: #A80036; stroke-width: 1.0;\"/><line style=\"stroke: #A80036; stroke-width: 1.5;\" x1=\"69.5\" x2=\"59.5\" y1=\"214.2656\" y2=\"214.2656\"/><line style=\"stroke: #A80036; stroke-width: 1.5;\" x1=\"59.5\" x2=\"59.5\" y1=\"214.2656\" y2=\"236.2656\"/><polygon fill=\"#A80036\" points=\"55.5,226.2656,59.5,236.2656,63.5,226.2656,59.5,230.2656\" style=\"stroke: #A80036; stroke-width: 1.0;\"/><line style=\"stroke: #A80036; stroke-width: 1.5;\" x1=\"222.5\" x2=\"232.5\" y1=\"214.2656\" y2=\"214.2656\"/><polygon fill=\"#A80036\" points=\"228.5,241.332,232.5,251.332,236.5,241.332,232.5,245.332\" style=\"stroke: #A80036; stroke-width: 1.5;\"/><line style=\"stroke: #A80036; stroke-width: 1.5;\" x1=\"232.5\" x2=\"232.5\" y1=\"214.2656\" y2=\"288.3984\"/><line style=\"stroke: #A80036; stroke-width: 1.5;\" x1=\"232.5\" x2=\"158\" y1=\"288.3984\" y2=\"288.3984\"/><polygon fill=\"#A80036\" points=\"168,284.3984,158,288.3984,168,292.3984,164,288.3984\" style=\"stroke: #A80036; stroke-width: 1.0;\"/><line style=\"stroke: #A80036; stroke-width: 1.5;\" x1=\"59.5\" x2=\"59.5\" y1=\"270.3984\" y2=\"288.3984\"/><line style=\"stroke: #A80036; stroke-width: 1.5;\" x1=\"59.5\" x2=\"134\" y1=\"288.3984\" y2=\"288.3984\"/><polygon fill=\"#A80036\" points=\"124,284.3984,134,288.3984,124,292.3984,128,288.3984\" style=\"stroke: #A80036; stroke-width: 1.0;\"/><line style=\"stroke: #A80036; stroke-width: 1.5;\" x1=\"146\" x2=\"146\" y1=\"300.3984\" y2=\"335.3984\"/><polygon fill=\"#A80036\" points=\"142,325.3984,146,335.3984,150,325.3984,146,329.3984\" style=\"stroke: #A80036; stroke-width: 1.0;\"/><line style=\"stroke: #A80036; stroke-width: 1.5;\" x1=\"146\" x2=\"146\" y1=\"182.2656\" y2=\"202.2656\"/><polygon fill=\"#A80036\" points=\"142,192.2656,146,202.2656,150,192.2656,146,196.2656\" style=\"stroke: #A80036; stroke-width: 1.0;\"/><line style=\"stroke: #A80036; stroke-width: 1.5;\" x1=\"174.5\" x2=\"269.5\" y1=\"401.5313\" y2=\"401.5313\"/><polygon fill=\"#A80036\" points=\"265.5,319.8984,269.5,309.8984,273.5,319.8984,269.5,315.8984\" style=\"stroke: #A80036; stroke-width: 1.5;\"/><line style=\"stroke: #A80036; stroke-width: 1.5;\" x1=\"269.5\" x2=\"269.5\" y1=\"170.2656\" y2=\"401.5313\"/><line style=\"stroke: #A80036; stroke-width: 1.5;\" x1=\"269.5\" x2=\"158\" y1=\"170.2656\" y2=\"170.2656\"/><polygon fill=\"#A80036\" points=\"168,166.2656,158,170.2656,168,174.2656,164,170.2656\" style=\"stroke: #A80036; stroke-width: 1.0;\"/><line style=\"stroke: #A80036; stroke-width: 1.5;\" x1=\"146\" x2=\"146\" y1=\"369.5313\" y2=\"389.5313\"/><polygon fill=\"#A80036\" points=\"142,379.5313,146,389.5313,150,379.5313,146,383.5313\" style=\"stroke: #A80036; stroke-width: 1.0;\"/><line style=\"stroke: #A80036; stroke-width: 1.5;\" x1=\"146\" x2=\"146\" y1=\"138.2656\" y2=\"158.2656\"/><polygon fill=\"#A80036\" points=\"142,148.2656,146,158.2656,150,148.2656,146,152.2656\" style=\"stroke: #A80036; stroke-width: 1.0;\"/><line style=\"stroke: #A80036; stroke-width: 1.5;\" x1=\"146\" x2=\"146\" y1=\"413.5313\" y2=\"433.5313\"/><polygon fill=\"#A80036\" points=\"142,423.5313,146,433.5313,150,423.5313,146,427.5313\" style=\"stroke: #A80036; stroke-width: 1.0;\"/><line style=\"stroke: #A80036; stroke-width: 1.5;\" x1=\"146\" x2=\"146\" y1=\"546.7969\" y2=\"581.7969\"/><polygon fill=\"#A80036\" points=\"142,571.7969,146,581.7969,150,571.7969,146,575.7969\" style=\"stroke: #A80036; stroke-width: 1.0;\"/><line style=\"stroke: #A80036; stroke-width: 1.5;\" x1=\"146\" x2=\"146\" y1=\"674.9297\" y2=\"698.9297\"/><polygon fill=\"#A80036\" points=\"142,688.9297,146,698.9297,150,688.9297,146,692.9297\" style=\"stroke: #A80036; stroke-width: 1.0;\"/><line style=\"stroke: #A80036; stroke-width: 1.5;\" x1=\"146\" x2=\"146\" y1=\"733.0625\" y2=\"745.0625\"/><line style=\"stroke: #A80036; stroke-width: 1.5;\" x1=\"146\" x2=\"215.5\" y1=\"745.0625\" y2=\"745.0625\"/><polygon fill=\"#A80036\" points=\"211.5,713.9961,215.5,703.9961,219.5,713.9961,215.5,709.9961\" style=\"stroke: #A80036; stroke-width: 1.5;\"/><line style=\"stroke: #A80036; stroke-width: 1.5;\" x1=\"215.5\" x2=\"215.5\" y1=\"662.9297\" y2=\"745.0625\"/><line style=\"stroke: #A80036; stroke-width: 1.5;\" x1=\"215.5\" x2=\"184.5\" y1=\"662.9297\" y2=\"662.9297\"/><polygon fill=\"#A80036\" points=\"194.5,658.9297,184.5,662.9297,194.5,666.9297,190.5,662.9297\" style=\"stroke: #A80036; stroke-width: 1.0;\"/><line style=\"stroke: #A80036; stroke-width: 1.5;\" x1=\"107.5\" x2=\"76.5\" y1=\"662.9297\" y2=\"662.9297\"/><polygon fill=\"#A80036\" points=\"72.5,699.9961,76.5,709.9961,80.5,699.9961,76.5,703.9961\" style=\"stroke: #A80036; stroke-width: 1.5;\"/><line style=\"stroke: #A80036; stroke-width: 1.5;\" x1=\"76.5\" x2=\"76.5\" y1=\"662.9297\" y2=\"757.0625\"/><line style=\"stroke: #A80036; stroke-width: 1.5;\" x1=\"76.5\" x2=\"146\" y1=\"757.0625\" y2=\"757.0625\"/><line style=\"stroke: #A80036; stroke-width: 1.5;\" x1=\"146\" x2=\"146\" y1=\"757.0625\" y2=\"792.0625\"/><polygon fill=\"#A80036\" points=\"142,782.0625,146,792.0625,150,782.0625,146,786.0625\" style=\"stroke: #A80036; stroke-width: 1.0;\"/><line style=\"stroke: #A80036; stroke-width: 1.5;\" x1=\"146\" x2=\"146\" y1=\"615.9297\" y2=\"650.9297\"/><polygon fill=\"#A80036\" points=\"142,640.9297,146,650.9297,150,640.9297,146,644.9297\" style=\"stroke: #A80036; stroke-width: 1.0;\"/><line style=\"stroke: #A80036; stroke-width: 1.5;\" x1=\"146\" x2=\"146\" y1=\"467.6641\" y2=\"512.6641\"/><polygon fill=\"#A80036\" points=\"142,502.6641,146,512.6641,150,502.6641,146,506.6641\" style=\"stroke: #A80036; stroke-width: 1.0;\"/><line style=\"stroke: #A80036; stroke-width: 1.5;\" x1=\"146\" x2=\"146\" y1=\"826.1953\" y2=\"866.1953\"/><polygon fill=\"#A80036\" points=\"142,856.1953,146,866.1953,150,856.1953,146,860.1953\" style=\"stroke: #A80036; stroke-width: 1.0;\"/></g></svg>"
      ],
      "text/plain": [
       "<IPython.core.display.SVG object>"
      ]
     },
     "execution_count": 35,
     "metadata": {},
     "output_type": "execute_result"
    }
   ],
   "source": [
    "%%plantuml\n",
    "@startuml\n",
    "start\n",
    ":set i=0;\n",
    ":initialize list;\n",
    "repeat\n",
    "if(i divisable by 4, not by 5)\n",
    ":add i to array;\n",
    "endif\n",
    ":add 1 to i;\n",
    "repeat while(i<101)\n",
    ":print list;\n",
    "partition sum {\n",
    "    :sum=0;\n",
    "    :maxiter=length of list;\n",
    "    while(i<maxiter)\n",
    "    :sum=sum+list[i];\n",
    "    endwhile\n",
    "    :print sum;\n",
    "}\n",
    "stop\n",
    "@enduml"
   ]
  },
  {
   "cell_type": "markdown",
   "metadata": {},
   "source": [
    "* 조건에 맞는 x를 출력할 수 있다.\n",
    "* 그러나 print명령문을 사용하면 출력만 하고, 값이 사라진다. 저장되지 않는다."
   ]
  },
  {
   "cell_type": "code",
   "execution_count": 36,
   "metadata": {
    "collapsed": false
   },
   "outputs": [
    {
     "name": "stdout",
     "output_type": "stream",
     "text": [
      "4 8 12 16 24 28 32 36 44 48 52 56 64 68 72 76 84 88 92 96\n"
     ]
    }
   ],
   "source": [
    "x=list()\n",
    "for x in range(1,100):\n",
    "    if(x%4==0) and (x%5!=0):\n",
    "        print x,"
   ]
  },
  {
   "cell_type": "markdown",
   "metadata": {},
   "source": [
    "* mylist를 이용해서 값을 저장한다.\n",
    "* mylist는 리스트 데이터구조를 사용한다. 따라서 append()함수를 사용하여 값을 추가할 수 있다."
   ]
  },
  {
   "cell_type": "code",
   "execution_count": 37,
   "metadata": {
    "collapsed": false
   },
   "outputs": [
    {
     "name": "stdout",
     "output_type": "stream",
     "text": [
      "[4, 8, 12, 16, 24, 28, 32, 36, 44, 48, 52, 56, 64, 68, 72, 76, 84, 88, 92, 96]\n"
     ]
    }
   ],
   "source": [
    "mylist=[]\n",
    "for i in range(1,100):\n",
    "    if(i%4==0) and (i%5!=0):\n",
    "        mylist.append(i)\n",
    "print mylist"
   ]
  },
  {
   "cell_type": "markdown",
   "metadata": {},
   "source": [
    "* for문을 사용해서 저장된 값의 합계를 구한다.\n",
    "* 합계를 구하려면, 데이터구조에 몇 개의 자료가 있는지 알아야 한다.\n",
    "* 몇 개를 출력하나\n",
    "    ```\n",
    "    for j in range(0,??\n",
    "    ```\n",
    "* len()함수를 사용하면 데이터를 가지고 있는지, 몇 개 있는지 알 수 있다."
   ]
  },
  {
   "cell_type": "code",
   "execution_count": 41,
   "metadata": {
    "collapsed": false
   },
   "outputs": [
    {
     "name": "stdout",
     "output_type": "stream",
     "text": [
      "[]\n",
      "empty\n",
      "length empty\n"
     ]
    }
   ],
   "source": [
    "x=[]\n",
    "print x\n",
    "if not x:\n",
    "    print \"empty\"\n",
    "else:\n",
    "    print \"not empty\"\n",
    "\n",
    "# 다른 방식: 그래도 위 방식이 더 낫다.\n",
    "if len(x)==0:\n",
    "    print \"length empty\""
   ]
  },
  {
   "cell_type": "code",
   "execution_count": 42,
   "metadata": {
    "collapsed": false
   },
   "outputs": [
    {
     "name": "stdout",
     "output_type": "stream",
     "text": [
      "20\n",
      "1000\n"
     ]
    }
   ],
   "source": [
    "# 학습을 위해 maxiter index를 사용.\n",
    "sum=0\n",
    "maxiter=len(mylist)\n",
    "print maxiter\n",
    "for i in range(0,maxiter):\n",
    "    sum=sum+mylist[i]\n",
    "print sum"
   ]
  },
  {
   "cell_type": "code",
   "execution_count": 43,
   "metadata": {
    "collapsed": false
   },
   "outputs": [
    {
     "name": "stdout",
     "output_type": "stream",
     "text": [
      "1000\n"
     ]
    }
   ],
   "source": [
    "#보다 간단하게. 배열의 길이를 별도로 세지 않음.\n",
    "sum=0\n",
    "for i in mylist:\n",
    "    sum+=i\n",
    "print sum"
   ]
  },
  {
   "cell_type": "markdown",
   "metadata": {},
   "source": [
    "### 함수로\n",
    "\n",
    "* 가능한 오류 생각해보기 - 배열이 비어 있는 경우\n",
    "* len 길이로 확인하지만 더 간단한 표현으로 가능 (아래 참조)\n",
    "* 합계만 함수로 만듦 - 어느 List나 입력하면 합계 출력하는 기능.\n",
    "\n",
    "* 함수로 만들어 보기\n",
    "    * 함수이름 sumList\n",
    "    * 입력 리스트\n",
    "    * 출력 합계값\n",
    "    ```\n",
    "    def sumList(aList):\n",
    "        ...\n",
    "        return sum\n",
    "    def lab6():\n",
    "        x=[1,2,3]\n",
    "        mysum=sumList(x)\n",
    "        print mysum\n",
    "    def main()\n",
    "        lab6()\n",
    "    ```"
   ]
  },
  {
   "cell_type": "code",
   "execution_count": 69,
   "metadata": {
    "collapsed": false,
    "slideshow": {
     "slide_type": "slide"
    }
   },
   "outputs": [],
   "source": [
    "def sumList(aList):\n",
    "    mySum=0\n",
    "    for i in aList:\n",
    "        mySum+=i\n",
    "    return mySum\n",
    "\n",
    "def lab6():\n",
    "    \"\"\"programmin is really ha ha ha fun\"\"\"\n",
    "    myList=[]\n",
    "    for i in range(1,1000):\n",
    "        if(i%4==0) and (i%5!=0):\n",
    "            myList.append(i)\n",
    "    total=sumList(myList)\n",
    "    print \"total: \", total\n",
    "\n",
    "def main():\n",
    "    lab6()"
   ]
  },
  {
   "cell_type": "markdown",
   "metadata": {},
   "source": [
    "* 이와 같이 구조를 만들면, 보다 큰 프로그램을 만들 때 유용하다.\n",
    "* 호출할 때는 main()을 사용한다.\n",
    "* 함수이름 밑 따옴표는 도움말을 작성하는 것이고, help로 확인할 수 있다."
   ]
  },
  {
   "cell_type": "code",
   "execution_count": 70,
   "metadata": {
    "collapsed": false,
    "scrolled": true
   },
   "outputs": [
    {
     "name": "stdout",
     "output_type": "stream",
     "text": [
      "total:  100000\n"
     ]
    }
   ],
   "source": [
    "main()"
   ]
  },
  {
   "cell_type": "code",
   "execution_count": 71,
   "metadata": {
    "collapsed": false
   },
   "outputs": [
    {
     "name": "stdout",
     "output_type": "stream",
     "text": [
      "Help on function lab6 in module __main__:\n",
      "\n",
      "lab6()\n",
      "    programmin is really ha ha ha fun\n",
      "\n"
     ]
    }
   ],
   "source": [
    "help(lab6)"
   ]
  },
  {
   "cell_type": "markdown",
   "metadata": {},
   "source": [
    "## 데이터구조-2: 거북이 트랙을 저장하기\n",
    "\n",
    "* 자료구조를 용도에 맞게 고르기\n",
    "* 리스트는 자료가 늘어나도 고무줄처럼 늘어날 수 있다.\n",
    "* 걸어간 위치를 하나씩 저장하면, 자료목록이 늘어난다.\n",
    "* 자료는 모든 위치(x,y)를 가지고 있는 목록이다\n"
   ]
  },
  {
   "cell_type": "markdown",
   "metadata": {},
   "source": [
    "## 데이터구조-3: 도형을 데이터로 저장하기"
   ]
  },
  {
   "cell_type": "markdown",
   "metadata": {},
   "source": [
    "## 데이터구조-4: 거북이가 걸어간 트랙을 다시 걷게 하기\n",
    "\n",
    "* 자료목록을 반복문으로 읽어오기\n",
    "* 저장된 위치가 몇 개인지 어떻게 알 수 있을까?\n"
   ]
  },
  {
   "cell_type": "markdown",
   "metadata": {
    "slideshow": {
     "slide_type": "slide"
    }
   },
   "source": [
    "## 데이터구조-5: 문자열에서 문자를 세기\n",
    "\n",
    "* 데이터구조-5-1: 문자열을 입력 받아서, 각 문자의 갯수를 세기\n",
    "* 데이터구조-5-2: 문자의 갯수를 막대그래프로 그리기\n",
    "* 프로그래밍 요소\n",
    "    * dict\n",
    "    * 왜 list보다 dict가 보다 적합한 구조일까? list는 key가 없고, 정수인덱스로 값을 읽어 오는 특성.\n",
    "* 주의:\n",
    "    * 존재하지 않는 key의 값을 넣을 경우: +1은 불가능. 없는 값에 '더하기 1'은 안 된다."
   ]
  },
  {
   "cell_type": "markdown",
   "metadata": {
    "slideshow": {
     "slide_type": "slide"
    }
   },
   "source": [
    "### Dictionary\n",
    "\n",
    "* 선언을 하고 사용.\n",
    "* key-value로 구성.\n",
    "* 사용하는 경우\n",
    "    * 자료가 필드, 값으로 구성된 경우\n",
    "        * 예: 이름-'홍길동'. key -> '이름', value -> '홍길동'. key-value는 수, 문자 모두 가능.\n",
    "    * 자료의 갯수를 세는 경우\n",
    "        * 데이터에 각 단어가 발생하는 빈도수를 세는 경우"
   ]
  },
  {
   "cell_type": "markdown",
   "metadata": {
    "slideshow": {
     "slide_type": "slide"
    }
   },
   "source": [
    "### 그래프 그리기\n",
    "\n",
    "* matplotlib을 사용\n",
    "* bargraph는 bar객체를 사용\n",
    "* dictionary의 key는 문자열. 따라서 x축으로 사용할 수 없슴.\n",
    "* 우선 축의 수를 세고(len(d)), xticks로 key값으로 레이블을 만들어 줌."
   ]
  },
  {
   "cell_type": "markdown",
   "metadata": {
    "slideshow": {
     "slide_type": "slide"
    }
   },
   "source": [
    "## 데이터구조-6: 입력받은 문자열에서 문자와 숫자가 얼마나 포함되었는지 개수 세기"
   ]
  },
  {
   "cell_type": "markdown",
   "metadata": {
    "slideshow": {
     "slide_type": "slide"
    }
   },
   "source": [
    "## 데이터구조-7: 우리 집에 없지만 친구집에 있는 가전제품 찾기.\n",
    "\n",
    "* 자신의 방과 친구의 방에 있는 가전제품을 10개 이상 나열하여 자료구조로 만들기 (영어).\n",
    "* 어느 방에만 있는 제품을 나열하기\n",
    "* 모든 방에 같이 있는 제품 나열하기\n",
    "* 어느 한 방에라도 있는 제품을 나열하기\n",
    "* 모든 가전제품의 갯수를 세어보기 (방이 2개이므로, 갯수는 1 또는 2)\n",
    "\n",
    "* 우리 집: TV, phone, camera, fridger, mixer, audio, cd player, light, computer, notebook, recorder\n",
    "* 친구 집: coffee machine, radio, camera, running machine, ramp, computer, notebook, recorder\n",
    "\n",
    "* 주의\n",
    "    * 많은 학생이 list, compare를 사용하려고 함. 한 요소를 선택하고 다른 모든 요소와 비교해서 존재 여부를 확인.\n",
    "    * 이 방식은 중첩for문과 같은 비교횟수\n",
    "    * set은 인덱스가 없다.\n",
    "    * set의 합집합은 중복을 제외한다. 가전제품의 합집합은 두 집에 있는 가전제품의 갯수를 2로 표현하지 않는다."
   ]
  },
  {
   "cell_type": "markdown",
   "metadata": {
    "slideshow": {
     "slide_type": "slide"
    }
   },
   "source": [
    "## 데이터구조-8: 경복궁 입구에서 제일 가까운 지하철 역을 찾으시오.\n",
    "\n",
    "* 수정불가능immutable\n",
    "* 왜 수정불가능하게 만들까? 성능. 그리고 문제가 될 수 있어서 (예: dict에서 key값이 변경되면 어떻게 되나)\n",
    "* 좌표 구하기 - 구글 지도 > 마우스 오른쪽 버튼 > 화면 하단에 좌표 표시됨.\n",
    "\n",
    "* 경복궁 ky 37.575869, 126.976637\n",
    "* 안국역 ak 37.576549, 126.985520\n",
    "* 광화문역 kw 37.571618, 126.976551\n",
    "* 독립문역 37.574577, 126.957754\n",
    "\n",
    "* 프로그래밍 요소\n",
    "    * tuple\n",
    "    * 왜 list가 아니고, tuple을 사용할까?\n",
    "    * list of tuples\n",
    "        * 튜플배열은 dictionary -> (key,value)로 생각하면 그렇다\n",
    "    * 자료구조를 처리할 때 python 방식으로 1줄로 처리할 수 있다.\n"
   ]
  },
  {
   "cell_type": "markdown",
   "metadata": {
    "slideshow": {
     "slide_type": "slide"
    }
   },
   "source": [
    "## 데이터구조-9: 문자데이터가 있는 경우, Milk를 넣는 커피의 비율은?\n",
    "\n",
    "* 어떤 자료구조를 사용?\n",
    "* \"Coffee\",\"Water\",\"Milk\",\"Icecream\"\n",
    "* \"Espresso\",\"No\",\"No\",\"No\"\n",
    "* \"Long Black\",\"Yes\",\"No\",\"No\"\n",
    "* \"Flat White\",\"No\",\"Yes\",\"No\"\n",
    "* \"Cappuccino\",\"No\",\"Yes - Frothy\",\"No\"\n",
    "* \"Affogato\",\"No\",\"No\",\"Yes\"\n",
    "\n",
    "* 프로그래밍 요소\n",
    "    * 2차원 list"
   ]
  },
  {
   "cell_type": "markdown",
   "metadata": {
    "slideshow": {
     "slide_type": "slide"
    }
   },
   "source": [
    "### 2차원 데이터 slicing\n",
    "\n",
    "* 정수 인덱스로 값을 읽음.\n",
    "* 인덱스 ':' 로 시작과 끝을 지정할 수 있슴. 없으면 처음부터 끝까지 읽음.\n",
    "* 2번째 배열인덱스를 고정하면 열데이터를 읽을 수 있슴\n",
    "* 1번째 배열인덱스를 고정하면 행데이터를 읽을 수 있슴."
   ]
  },
  {
   "cell_type": "markdown",
   "metadata": {
    "slideshow": {
     "slide_type": "slide"
    }
   },
   "source": [
    "## 데이터구조-10: 성적데이터가 있는 경우, 평균/합계를 구해보시오.\n",
    "\n",
    "* 프로그래밍 요소\n",
    "    * list\n",
    "* 다음 주제인 파일 처리를 연습으로 해 봄.\n",
    "* 숫자, 문자로 구성된 자료를 처리\n"
   ]
  },
  {
   "cell_type": "markdown",
   "metadata": {
    "slideshow": {
     "slide_type": "slide"
    }
   },
   "source": [
    "## 데이터구조-11: The Beatles 'Let it be' 가사에서 자주 등장하는 단어는?\n",
    "\n",
    "* 프로그래밍 요소\n",
    "    * dict, list\n",
    "* 주의\n",
    "    * 텍스트 처리: 단어 -> 문장 -> 문서"
   ]
  },
  {
   "cell_type": "markdown",
   "metadata": {
    "collapsed": true,
    "slideshow": {
     "slide_type": "slide"
    }
   },
   "source": [
    "## 과제\n",
    "\n",
    "* 1. 서울시 통계학교생활 만족도 평균을 구하는 프로그램 작성\n",
    "    * 서울열린데이터광장 data.seoul.go.kr > 검색 '통계학교생활'\n",
    "    * 매우만족+만족 평균, 불만족+매우불만족 평균\n",
    "\n",
    "* 2 . 대통령 연설 2개를 분석해서 빈번한 단어의 차이를 보여주는 프로그램 작성\n",
    "    * 미국대통령 취임연설 (한글처리가능하면 한국대통령 취임연설) 가운데 최근 것과 과거 것 1개씩 선택\n",
    "    * 가장 많이 등장하는 단어 10개씩을 추출하여 비교.\n",
    "    * http://www.infoplease.com/t/hist/inaugural/\n",
    "\n",
    "* 제출\n",
    "    * 금5시까지, 프로그램출력+화면결과출력, 서버에 제출 \n"
   ]
  }
 ],
 "metadata": {
  "celltoolbar": "Slideshow",
  "kernelspec": {
   "display_name": "Python 2",
   "language": "python",
   "name": "python2"
  },
  "language_info": {
   "codemirror_mode": {
    "name": "ipython",
    "version": 2
   },
   "file_extension": ".py",
   "mimetype": "text/x-python",
   "name": "python",
   "nbconvert_exporter": "python",
   "pygments_lexer": "ipython2",
   "version": "2.7.10"
  }
 },
 "nbformat": 4,
 "nbformat_minor": 0
}
