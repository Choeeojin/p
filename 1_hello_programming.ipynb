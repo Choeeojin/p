{
 "cells": [
  {
   "cell_type": "markdown",
   "metadata": {},
   "source": [
    "# 1. 프로그래밍이란\n",
    "\n",
    "## 1.1 프로그래밍을 왜 배워야 하지?\n",
    " \n",
    "* 프로그래밍은 컴퓨터와 말하기를 배우는 것.\n",
    "* 컴퓨터와 말하기를 배워서 어디에 쓸까?\n",
    "* 사람은 왜 말하기를 배울까?\n",
    "* 컴퓨터에게 말해서 내가 풀려고 하는 문제를 대신 풀려고 맡기는 것 problem solving!"
   ]
  },
  {
   "cell_type": "markdown",
   "metadata": {},
   "source": [
    "## 1.2 프로그래밍을 어떻게 하면 될까?\n",
    "\n",
    "* 말하기는 어떻게 하면 될까?\n",
    "* 말을 잘 한다는 것은 상대방이 내가 한 말을 잘 이해했다는 것.\n",
    "* 프로그래밍은 사람이 하는 일을 컴퓨터가 할 수 있게 컴퓨터에게 시키는 것.\n",
    "* 컴퓨터는 말하는대로 시키는 그대로 함.\n",
    "    * 컴퓨터는 전기가 없으면 쓸모 없는 하드웨어.\n",
    "    * 사람 vs 컴퓨터\n",
    "    * 사람은 스스로 하지만, 컴퓨터는 사람이 하는 일을 자동화 하는 것.\n",
    "    * 사람이 잘 하는 것은 무엇이며, 그것을 컴퓨터가 대신할 수 있을까?\n",
    "    * 사람이 생각하고, 판단하고, 행동하는 것을 그대로 할 수 있을까?\n",
    "    * 단순반복적인 일은 잘 하지만, 창의적이지는 못함.\n",
    "        * \"나는 컴퓨터! 하라고 하면 싫어도 하고, 화내지도 않아요!\"\n",
    "        * \"그렇지만 시키는 일만 해낼 수 있어요!\"\n",
    "    * 사람이 문제를 풀어가는 과정은 컴퓨터와 다름.\n",
    "    * 사람의 직관. 큰 수를 찾는 경우, 수를 정렬하는 경우, 좋은 자동차를 고르는 경우.\n",
    "    * 컴퓨터는 그 절차를 명확히 정의해 주지 않으면 아주 단순한 문제도 풀 수 없다.\n",
    "* 컴퓨터가 일하는 방식을 이해\n",
    "    * 컴퓨터에게 일을 시키려면 우선 무엇을 해야 하는지 내가 알아야 함.\n",
    "    * 컴퓨터를 이용해서 문제를 풀어가려면 컴퓨터처럼 생각하는 것이 필요.\n",
    "    * 프로그래밍은 사람이 문제를 풀어가는 과정을 흉내내는 것.\n",
    "    * 컴퓨터 오류는 모두 일을 시키는 사람의 오류!\n",
    "* computational thinking은 컴퓨터로 하여금 문제를 풀어가도록 그 과정을 컴퓨터처럼 생각하는 것.\n",
    "    * \"Ways to Think Like a Computer Scientist\"\n",
    "    * The Two <font color='red'>A</font>'s of Computational Thinking\n",
    "        * Wing, J. M., 2006, Computational thinking. Communications of the ACM, 49(3), 33-35.\n",
    "        * **A**bstraction\n",
    "            * 개념화 - 구체적인 개념을 일반화. 개념을 계층화하고 그 관계를 정의.\n",
    "            * 예: 운송도구 <- 버스, 지하철, 자전거 <- 자전거 <- 바퀴, 안장, 손잡이...\n",
    "        * **A**utomation\n",
    "            * 추상화된 계층 및 관계를 기계화(자동화), 즉 표기법과 모델을 이용\n",
    "            * 에: 더하기 -> 1 과 2를 더함 -> 두 개의 수를 더함 -> 두 개의 정수/소수/문자를 더함 -> a.add(b) 또는 diagram"
   ]
  },
  {
   "cell_type": "markdown",
   "metadata": {},
   "source": [
    "## 1.3 프로그래밍은 무엇을 배우는 것일까?\n",
    "\n",
    "* 프로그래밍 (구성) 요소\n",
    "    * 입력: 처리하면서 필요한 데이터\n",
    "    * 출력: 처리의 결과로서 나오는 데이터\n",
    "    * 순차: 순서에 따라 처리하는 과정\n",
    "    * 조건: 경우에 따라 구분하여 처리하는 과정\n",
    "    * 반복: 같은 처리를 여러 번 다시 하는 과정\n",
    "    * 재사용: 프로그램의 일부를 고치지 않고 다시 사용. 함수를 사용함.\n",
    "* 영문법을 잘 안다고 영어를 잘 하는 것은 아니다.\n",
    "    * 프로그래밍은 말을 배우는 것과 같이 말을 하는데 필요한 '문법'을 알아야 함.\n",
    "    * 더불어 문제해결에 필요한 지식을 이해하고, 이를 프로그램으로 변환할 수 있어야 함.\n",
    "    * 따라서 프로그래밍을 하면서, 문법오류와 논리오류를 경험하게 된다.\n",
    "    * 정수에 소수를 넣거나, 문자에 숫자를 넣거나하는 문법오류\n",
    "    * 논리오류는 평균은 모든 수를 더해서 갯수로 나눈다는 것을 위반하면 논리오류.\n",
    "    * 흔한 논리오류의 예는 문닫고 들어와."
   ]
  },
  {
   "cell_type": "markdown",
   "metadata": {},
   "source": [
    "## 1.4 프로그래밍을 잘 하려면?\n",
    "\n",
    "* 어떻게 하면 프로그래밍을 잘 배울 수 있을까\n",
    "    * 해보려는 마음 자세 motivate yourself!\n",
    "    * 직접 해 보기 hands-on experience\n",
    "        * 기술을 배우려면 10,000시간의 법칙. 100시간만이라도 집중해 보자.\n",
    "        * 미국인이 한국어 3급 (업무를 볼 수 있는 수준)에 이르는데 2,400에서 2769시간 소요 (Defense Language Institute 미 국방 언어 연수원)\n",
    "    * 컴퓨터처럼 생각하기. 안된다고 포기하지 않기.\n",
    "        * 컴퓨터가 어려운 것이 아니라 '내'가 문제\n",
    "        * 내가 컴퓨터를 잘 못 이해하고, 안되는 일을 시키고 있는 '내'가 문제!\n",
    "        * 컴퓨터가 일 처리하는 방식을 이해하고, 그 방식에 따라 프로그래밍."
   ]
  },
  {
   "cell_type": "markdown",
   "metadata": {},
   "source": [
    "## 1.5 강의 구성\n",
    "\n",
    "* 목차\n",
    "    * 변수\n",
    "    * 제어구조\n",
    "    * 자료구조\n",
    "    * 이벤트\n",
    "    * 알고리듬 – 판단, 분류 등  \n",
    "    * 저장 - 외부에 저장해서 컴퓨터를 off해도 기억.\n",
    "    * 객체지향\n",
    "    * 통신 – 협업\n",
    "* 프로그래밍 언어의 선택\n",
    "    * 한국어, 영어 상관없이 내 의사를 표현할 수 있으면 된다!\n",
    "    * 인기도 1위: Java, 2위: C... 5위: Python (tiobe language index 2016 3월) \n",
    "    * 대화형 Python으로 시작.\n",
    "    * 어느 언어나 프로그래밍 요소를 배우면 다른 언어는 문법의 문제\n",
    "* 교재\n",
    "    * how to think like a computer scientist 인터넷에 책 공개.\n",
    "    * Severance, C. (2009). Python for Informatics. 한글 번역본이 인터넷에 공개.\n",
    "    * Campbell, J., Gries, P., Montojo, J., & Wilson, G. (2009). Practical programming: an introduction to computer science using Python. Pragmatic Bookshelf.\n",
    "* 시작은 재미있게 시각화, fun\n",
    "    * 컴퓨터와 말하기를 배우는 초보자\n",
    "    * 문법보다는 말하기에 집중하자.\n",
    "    * 이 강의를 마치고 나면, 프로그래밍을 시작할 수 있는 라이센스를 받았다 생각\n",
    "    * 그 라이센스는 프로그래밍을 잘 한다는 증명이 아님. 운전면허가 운전숙련자가 아니듯.\n",
    "    * 실수를 두렵다고 생각하지 말자. 어렵다는 것은 컴퓨터에게 어렵게 일을 시키는 '나'의 문제\n",
    "    * 말을 하려고 하는 의지 how to begin prgoramming <-- how to begin driviing\n",
    "* 강의교안 \n",
    "    * nbviewer.com -> smu405/p2/\n",
    "    * 화면 좌상단 선물꾸러미 모양 \"View as a slide\""
   ]
  },
  {
   "cell_type": "code",
   "execution_count": 1,
   "metadata": {
    "collapsed": false,
    "slideshow": {
     "slide_type": "subslide"
    }
   },
   "outputs": [
    {
     "data": {
      "image/png": "[encoded data removed]",
      "text/plain": [
       "<IPython.core.display.Image object>"
      ]
     },
     "execution_count": 1,
     "metadata": {},
     "output_type": "execute_result"
    }
   ],
   "source": [
    "from IPython.display import Image\n",
    "import os\n",
    "dir=os.getcwd()\n",
    "Image(filename=os.path.join(dir,'sc.png'))"
   ]
  },
  {
   "cell_type": "markdown",
   "metadata": {},
   "source": [
    "# 2. 시작하기\n",
    "\n",
    "## 2.1 로고 프로그래밍 Logo programming?\n",
    "* Logo는 교육용 프로그래밍 언어\n",
    "* Logo designed in 1967 by Daniel G. Bobrow, Wally Feurzeig, Seymour Papert and Cynthia Solomon.\n",
    "* 거북이로 널리 사용됨.\n",
    "\n",
    "## 2.2 환경\n",
    "\n",
    "### 2.2.1 Python\n",
    "* 윈도우 설치 (Anaconda)\n",
    "    * conda update conda\n",
    "* 리눅스에는 기본 설치\n",
    "\n",
    "### 2.2.2 IDE\n",
    "* 명령창에서 'python 프로그램이름'으로 실행.\n",
    "* idle, ipython\n",
    "* IPython Notebook\n",
    "\n",
    "### 2.2.3 diagram\n",
    "* diagram: PlantUML\n"
   ]
  },
  {
   "cell_type": "code",
   "execution_count": 21,
   "metadata": {
    "collapsed": false
   },
   "outputs": [
    {
     "name": "stdout",
     "output_type": "stream",
     "text": [
      "Installed plantuml_magics.py. To use it, type:\n",
      "  %load_ext plantuml_magics\n"
     ]
    }
   ],
   "source": [
    "%install_ext https://raw.githubusercontent.com/sberke/ipython-plantuml/master/plantuml_magics.py"
   ]
  },
  {
   "cell_type": "code",
   "execution_count": 22,
   "metadata": {
    "collapsed": true
   },
   "outputs": [],
   "source": [
    "%load_ext plantuml_magics"
   ]
  },
  {
   "cell_type": "code",
   "execution_count": 23,
   "metadata": {
    "collapsed": false
   },
   "outputs": [
    {
     "data": {
      "text/plain": [
       "[]"
      ]
     },
     "execution_count": 23,
     "metadata": {},
     "output_type": "execute_result"
    }
   ],
   "source": [
    "import glob\n",
    "glob.glob(r'./*.jar')"
   ]
  },
  {
   "cell_type": "markdown",
   "metadata": {},
   "source": [
    "## 2.3 간단한 명령어 배우기\n",
    "\n",
    "### 2.3.1 그림판에 거북이 나타내기\n",
    "\n",
    "* turtle기능을 가져오기\n",
    "    ```\n",
    "    import turtle\n",
    "    ```\n",
    "\n",
    "* 앞으로 사용하는 turtle기능은 turtle이름을 사용 (namespace)\n",
    "* 윈도우를 띄움\n",
    "    * 윈도우는 좌상단 3개 버튼\n",
    "        * 닫기, 최대, 최소\n",
    "        * 크기 수정하지 못함.\n",
    "    * 제목\n",
    "    * 기본 크기의 캔버스\n",
    "    * wn은 만들어진 윈도우 이름.\n",
    "    ```\n",
    "    wn=turtle.Screen()\n",
    "    ```\n",
    "\n",
    "* 거북이 나타내기\n",
    "    * t1은 만들어진 거북이 이름.\n",
    "    ```\n",
    "    t1=turtle.Turtle()\n",
    "    ```\n",
    "\n",
    "#### 2.3.2 기본 동작 명령어 배우가\n",
    "\n",
    "* 앞으로\n",
    "* 방향전환\n",
    "\n",
    "#### 2.3.3 기본 색\n",
    "\n",
    "* 색은 문자로 변경.\n",
    "* 실제로는 RGB값을 문자로 저장해 놓음.\n",
    "\n",
    "#### 2.3.4 모양바꾸기\n",
    "\n",
    "```\n",
    "t1.shape(\"turtle\")\n",
    "wn.addshape(\"rocketship.png\")\n",
    "t1.shape(\"rocketship.png\")\n",
    "```\n",
    "\n",
    "#### 2.3.5 캔버스 다녀보기\n",
    "\n",
    "* 캔버스의 위치와 좌표를 이해"
   ]
  },
  {
   "cell_type": "code",
   "execution_count": 20,
   "metadata": {
    "collapsed": true
   },
   "outputs": [],
   "source": [
    "# 2.3.1 그림판에 거북이 나타내기\n",
    "import turtle\n",
    "wn=turtle.Screen()\n",
    "#크기 정하기\n",
    "#wn.setup(500, 500)\n",
    "t1=turtle.Turtle()\n",
    "\n",
    "# 2.3.2 기본 동작 명령어 배우가\n",
    "t1.forward(100)\n",
    "t1.right(90)\n",
    "t1.forward(100)\n",
    "\n",
    "# back home\n",
    "t1.home()\n",
    "# clear screen\n",
    "t1.clear()\n",
    "\n",
    "# goto\n",
    "t1.penup()\n",
    "t1.goto(0,0) #home position\n",
    "t1.pendown()\n",
    "\n",
    "# 2.3.3 기본 색\n",
    "t1.pencolor()\n",
    "t1.pencolor(\"Red\")\n",
    "\n",
    "# colormode 1 or 255 (255 is rgb)\n",
    "wn.colormode(255)\n",
    "t1.pencolor((0,100,200))\n",
    "t1.fd(100)\n",
    "\n",
    "# 2.3.4 모양바꾸기\n",
    "t1.shape(\"turtle\")\n",
    "\n",
    "# 2.3.5 캔버스 다녀보기\n",
    "t1.window_height()\n",
    "t1.window_width()\n",
    "t1.pos()\n",
    "t1.goto(0,0)\n",
    "t1.goto(-420,0)\n",
    "t1.goto(-420,390)\n",
    "t1.home()\n",
    "t1.clear()"
   ]
  },
  {
   "cell_type": "markdown",
   "metadata": {},
   "source": [
    "## 시작-1: 미로를 그려서, 사진 찍고 거북이 게임.\n",
    "\n",
    "* 학습 내용\n",
    "    * 기본명령어를 사용한 간단한 미로게임.\n",
    "    * 사진의 파일형식 JPG, GIF 과 변환.\n",
    "    * 파일의 저장과 불러오기.\n",
    "* 주의\n",
    "    * 너무 복잡한 미로 만들지 않음.\n",
    "    * 핸드폰 해상도는 높으므로, 캔버스에 맞추어 낮춤.\n",
    "* 문제를 풀고, 그 화면을 핸드폰으로 찍어서 출력을 제출 (오늘 중).\n",
    "* 어떻게하나\n",
    "    * 1) take picture from your handphone\n",
    "    * 2) convert jpg -> gif\n",
    "        * 2-1) online converter\n",
    "            * google search \"convert jgg to gif\"\n",
    "            * 선택해서 change the size and monochrome\n",
    "        * 2-2) PC\n",
    "            * screen capture (윈도우 보조프로그램 캡쳐도구)\n",
    "            * save as gif\n",
    "    * 3) 배경화면 지정\n",
    "        * 저장한 디렉토리는 현재 위치, 이름은 'myMaze.gif'\n",
    "        ```\n",
    "        wn.bgpic(\"myMaze.gif\")\n",
    "        ```\n"
   ]
  },
  {
   "cell_type": "markdown",
   "metadata": {
    "slideshow": {
     "slide_type": "slide"
    }
   },
   "source": [
    "## 시작-2: 미로게임을 애니메이션\n",
    "\n",
    "* 학습 내용\n",
    "    * Python 프로그램의 저장\n",
    "    * 프로그램을 배치실행하는 방법\n",
    "* 주의\n",
    "    * 애니메이션 효과는 너무 빠르지 않게\n",
    "* 어떻게 하나\n",
    "    * 1) 별도의 파일로 저장하기\n",
    "    * 2) 애니메이션 주기 (speed느리게)\n",
    "    ```\n",
    "    t1.speed(1) #1 slowest 10 fastest\n",
    "    ```\n",
    "    * 3) 실행하기\n",
    "    ```\n",
    "    $ python src/myMaze.py 참조\n",
    "    ```\n"
   ]
  },
  {
   "cell_type": "markdown",
   "metadata": {},
   "source": [
    "# 3. 간단한 그림을 그리면서 변수이해하기\n",
    "\n",
    "## 3.1 간단한 한글 자음 그려보기\n",
    "\n",
    "* ㄱ ㄴ ㄷ ㄹ ㅁ\n",
    "* 변수는 값을 저장하는 것에 대한 이름.\n",
    "    * 값은 숫자, 문자를 갖음\n",
    "    * 숫자는 정수, 소수\n",
    "    * 문자는 문자 하나, 문자열\n",
    "* 변수를 사용해서 크기를 조정하기\n",
    "    * 변수에 기본 위치를 저장하고 그것의 1/2배, 2배수\n",
    "    * 반으로 줄여보기\n",
    "    * 배로 늘려보기\n",
    "    * size=50일 경우 (size/3)3은 왜 48일까?\n",
    "    ```\n",
    "    size=50\n",
    "    size=size/2\n",
    "    size=size*2\n",
    "    size=(50/3)*3\n",
    "    ```\n",
    "\n",
    "* 삐뚤어진 모양\n",
    "    ```\n",
    "    tilt=30\n",
    "    ```\n",
    "\n",
    "* 인자\n",
    "    * argument\n",
    "    * f(x) = x + 1에서 x=1이면 2, x=10이면 11\n",
    "    * 왜 인자를 사용할까? --> x가 1이나 2나 어느 경우에나 적용될 수 있게 함 -> 일반화 generalization\n",
    "    ```\n",
    "    t1.forward(size*2)\n",
    "    ```\n",
    "\n",
    "* 상대 위치\n",
    "    * 4등분해서 4개 자음 그리기"
   ]
  },
  {
   "cell_type": "code",
   "execution_count": 39,
   "metadata": {
    "collapsed": false
   },
   "outputs": [
    {
     "name": "stdout",
     "output_type": "stream",
     "text": [
      "25\n",
      "50\n",
      "48\n"
     ]
    }
   ],
   "source": [
    "# 3.1 간단한 한글 자음 그려보기\n",
    "# ㄱ\n",
    "t1.fd(100)\n",
    "t1.right(90)\n",
    "t1.fd(100)\n",
    "t1.home()\n",
    "t1.clear()\n",
    "\n",
    "# ㄴ\n",
    "t1.right(90)\n",
    "t1.fd(100)\n",
    "t1.left(90)\n",
    "t1.fd(100)\n",
    "t1.home()\n",
    "t1.clear()\n",
    "\n",
    "# ㄷ\n",
    "t1.back(100)\n",
    "t1.right(90)\n",
    "t1.fd(100)\n",
    "t1.left(90)\n",
    "t1.fd(100)\n",
    "t1.home()\n",
    "t1.clear()\n",
    "\n",
    "# ㄹ\n",
    "t1.fd(100)\n",
    "t1.right(90)\n",
    "t1.fd(50)\n",
    "t1.right(90)\n",
    "t1.fd(100)\n",
    "t1.left(90)\n",
    "t1.fd(50)\n",
    "t1.left(90)\n",
    "t1.fd(100)\n",
    "t1.home()\n",
    "t1.clear()\n",
    "\n",
    "# 변수를 사용해서 크기를 조정하기\n",
    "size=50\n",
    "print size/2\n",
    "print (size/2)*2\n",
    "print (size/3)*3"
   ]
  },
  {
   "cell_type": "code",
   "execution_count": 43,
   "metadata": {
    "collapsed": false
   },
   "outputs": [
    {
     "name": "stdout",
     "output_type": "stream",
     "text": [
      "(0.00,0.00)\n",
      "840 787\n"
     ]
    }
   ],
   "source": [
    "# 윈도우 높이 너비 구하기\n",
    "t1.home()\n",
    "print t1.pos()\n",
    "width=t1.window_width()\n",
    "height=t1.window_height()\n",
    "print width, height "
   ]
  },
  {
   "cell_type": "code",
   "execution_count": 49,
   "metadata": {
    "collapsed": false
   },
   "outputs": [
    {
     "name": "stdout",
     "output_type": "stream",
     "text": [
      "-400.0 -200.0 0.0 200.0\n"
     ]
    }
   ],
   "source": [
    "# 변수를 이용한 상대 위치\n",
    "# 왜 '점(.)'을 넣어줄까?\n",
    "x1=0.-((width-40.)/4)*2\n",
    "x2=0.-(width-40.)/4\n",
    "x3=0.\n",
    "x4=0.+(width-40.)/4\n",
    "print x1,x2,x3,x4"
   ]
  },
  {
   "cell_type": "code",
   "execution_count": 50,
   "metadata": {
    "collapsed": false
   },
   "outputs": [
    {
     "name": "stdout",
     "output_type": "stream",
     "text": [
      "-400.0 -200.0 0.0 200.0\n"
     ]
    }
   ],
   "source": [
    "# 중복되는 식을 변수화\n",
    "quarterWidth=(width-40.)/4\n",
    "x1=0.-quarterWidth*2\n",
    "x2=0.-quarterWidth\n",
    "x3=0.\n",
    "x4=0.+quarterWidth\n",
    "print x1,x2,x3,x4"
   ]
  },
  {
   "cell_type": "code",
   "execution_count": 52,
   "metadata": {
    "collapsed": false
   },
   "outputs": [],
   "source": [
    "# 위치 써보기\n",
    "t1.penup()\n",
    "t1.goto(-400,300)\n",
    "t1.pendown()\n",
    "t1.pos()\n",
    "t1.write(t1.pos())\n",
    "t1.forward(100)\n",
    "t1.right(90)\n",
    "t1.forward(100)"
   ]
  },
  {
   "cell_type": "markdown",
   "metadata": {},
   "source": [
    "## 3.2 간단한 도형 그려보기\n",
    "\n",
    "* 4각형\n",
    "* 3각형\n",
    "* 다갹형\n",
    "* 별모양\n",
    "\n",
    "## 3.3 중복 줄여보기\n",
    "\n",
    "* 변수를 사용해 본다\n",
    "\n",
    "\n",
    "\n",
    "## 3.4 명령어 만들어 보기\n",
    "\n",
    "* 인자를 사용해 본다.\n"
   ]
  },
  {
   "cell_type": "code",
   "execution_count": null,
   "metadata": {
    "collapsed": true
   },
   "outputs": [],
   "source": [
    "# 3.2 간단한 도형 그려보기\n",
    "# rectangle\n",
    "t1.forward(100)\n",
    "t1.write(t1.pos())\n",
    "t1.left(90)\n",
    "t1.forward(100)\n",
    "t1.write(t1.pos())\n",
    "t1.left(90)\n",
    "t1.forward(100)\n",
    "t1.write(t1.pos())\n",
    "t1.left(90)\n",
    "t1.forward(100)\n",
    "t1.write(t1.pos())\n",
    "\n",
    "# 3.3 중복줄여보기\n",
    "# draw a rectangle in three lines of code\n",
    "for i in range(0,4):\n",
    "    t1.forward(10)\n",
    "    t1.right(90)\n",
    "# using a variable\n",
    "sides=4\n",
    "for i in range(0,sides):\n",
    "    t1.forward(10)\n",
    "    t1.right(90)\n",
    "size=100\n",
    "sides=4\n",
    "for i in range(0,sides):\n",
    "    t1.forward(size)\n",
    "    t1.right(90)\n",
    "# move to (200,200)\n",
    "t1.penup()\n",
    "t1.setpos(200,200)\n",
    "t1.pendown()\n",
    "\n",
    "# triangle\n",
    "posOld=t1.pos()\n",
    "posOld\n",
    "t1.forward(100)\n",
    "t1.right(90)\n",
    "t1.forward(100)\n",
    "t1.goto(posOld)\n",
    "\n",
    "# star\n",
    "# star\n",
    "for i in range(50):\n",
    "    t1.forward(50)\n",
    "    t1.right(144)\n",
    "\n",
    "# spiral star\n",
    "\n",
    "def draw_star(size, color):\n",
    "    angle = 120\n",
    "    turtle.fillcolor(color)\n",
    "    turtle.begin_fill()\n",
    "    for side in range(5):\n",
    "        turtle.forward(size)\n",
    "        turtle.right(angle)\n",
    "        turtle.forward(size)\n",
    "        turtle.right(72 - angle)\n",
    "        turtle.end_fill()\n",
    "    return\n",
    "draw_star(100, \"purple\")\n",
    "\n",
    "# load partially from a filei\n",
    "# %load /home/jsl/Code/my.py -n 1-10\n",
    "tilt=30\n",
    "size=100\n",
    "sides=4\n",
    "t1.right(tilt)\n",
    "for i in range(0,sides):\n",
    "    t1.forward(size)\n",
    "    t1.right(90)\n",
    "\n",
    "# into a funciton\n",
    "def drawSquare(size,tilt):\n",
    "    sides=4\n",
    "    t1.right(tilt)\n",
    "    for i in range(0,sides):\n",
    "        t1.forward(size)\n",
    "        t1.right(90)\n"
   ]
  },
  {
   "cell_type": "code",
   "execution_count": null,
   "metadata": {
    "collapsed": true
   },
   "outputs": [],
   "source": [
    "# into a funciton\n",
    "# turtle as an arg\n",
    "# argument vs parameter\n",
    "def drawSquare(turtle,size,tilt):\n",
    "    sides=4\n",
    "    turtle.right(tilt)\n",
    "    for i in range(0,sides):\n",
    "        turtle.forward(size)\n",
    "        turtle.right(90)\n",
    "drawSquare(t1,100,30)\n",
    "drawSquare(t1,100,30)\n",
    "drawSquare(t1,100,30)\n",
    "drawSquare(t1,100,30)\n",
    "\n",
    "\n",
    "def drawPolygon(turtle,size,tilt,sides):\n",
    "    turtle.right(tilt)\n",
    "    for i in range(0,sides):\n",
    "        turtle.forward(size)\n",
    "        turtle.right(360/sides)\n",
    "\n",
    "drawPolygon(t1,200,30,6)\n",
    "drawPolygon(t1,200,30,6)\n"
   ]
  }
 ],
 "metadata": {
  "celltoolbar": "Slideshow",
  "kernelspec": {
   "display_name": "Python 2",
   "language": "python",
   "name": "python2"
  },
  "language_info": {
   "codemirror_mode": {
    "name": "ipython",
    "version": 2
   },
   "file_extension": ".py",
   "mimetype": "text/x-python",
   "name": "python",
   "nbconvert_exporter": "python",
   "pygments_lexer": "ipython2",
   "version": "2.7.10"
  }
 },
 "nbformat": 4,
 "nbformat_minor": 0
}
