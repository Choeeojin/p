{
 "cells": [
  {
   "cell_type": "markdown",
   "metadata": {
    "slideshow": {
     "slide_type": "slide"
    }
   },
   "source": [
    "# 1. 프로그래밍이란\n",
    "\n",
    "## 1.1 프로그래밍을 왜 배워야 하지?\n",
    " \n",
    "* 프로그래밍은 컴퓨터와 말하기를 배우는 것.\n",
    "* 컴퓨터와 말하기를 배워서 어디에 쓸까?\n",
    "* 사람은 왜 말하기를 배울까?\n",
    "* 컴퓨터에게 말해서 내가 풀려고 하는 문제를 대신 풀려고 맡기는 것 problem solving!"
   ]
  },
  {
   "cell_type": "markdown",
   "metadata": {
    "slideshow": {
     "slide_type": "slide"
    }
   },
   "source": [
    "## 1.2 프로그래밍을 어떻게 하면 될까?\n",
    "\n",
    "* 말하기는 어떻게 하면 될까?\n",
    "* 말을 잘 한다는 것은 상대방이 내가 한 말을 잘 이해했다는 것.\n",
    "* 프로그래밍은 사람이 하는 일을 컴퓨터가 할 수 있게 컴퓨터에게 시키는 것.\n",
    "* 컴퓨터는 말하는대로 시키는 그대로 함.\n",
    "    * 컴퓨터는 전기가 없으면 쓸모 없는 하드웨어.\n",
    "    * 사람 vs 컴퓨터\n",
    "    * 사람은 스스로 하지만, 컴퓨터는 사람이 하는 일을 자동화 하는 것.\n",
    "    * 사람이 잘 하는 것은 무엇이며, 그것을 컴퓨터가 대신할 수 있을까?\n",
    "    * 사람이 생각하고, 판단하고, 행동하는 것을 그대로 할 수 있을까?\n",
    "    * 단순반복적인 일은 잘 하지만, 창의적이지는 못함.\n",
    "        * \"나는 컴퓨터! 하라고 하면 싫어도 하고, 화내지도 않아요!\"\n",
    "        * \"그렇지만 시키는 일만 해낼 수 있어요!\"\n",
    "    * 사람이 문제를 풀어가는 과정은 컴퓨터와 다름.\n",
    "    * 사람의 직관. 큰 수를 찾는 경우, 수를 정렬하는 경우, 좋은 자동차를 고르는 경우.\n",
    "    * 컴퓨터는 그 절차를 명확히 정의해 주지 않으면 아주 단순한 문제도 풀 수 없다.\n",
    "* 컴퓨터가 일하는 방식을 이해\n",
    "    * 컴퓨터에게 일을 시키려면 우선 무엇을 해야 하는지 내가 알아야 함.\n",
    "    * 컴퓨터를 이용해서 문제를 풀어가려면 컴퓨터처럼 생각하는 것이 필요.\n",
    "    * 프로그래밍은 사람이 문제를 풀어가는 과정을 흉내내는 것.\n",
    "    * 컴퓨터 오류는 모두 일을 시키는 사람의 오류!\n",
    "* computational thinking은 컴퓨터로 하여금 문제를 풀어가도록 그 과정을 컴퓨터처럼 생각하는 것.\n",
    "    * \"Ways to Think Like a Computer Scientist\"\n",
    "    * The Two <font color='red'>A</font>'s of Computational Thinking\n",
    "        * Wing, J. M., 2006, Computational thinking. Communications of the ACM, 49(3), 33-35.\n",
    "        * **A**bstraction\n",
    "            * 개념화 - 구체적인 개념을 일반화. 개념을 계층화하고 그 관계를 정의.\n",
    "            * 예: 운송도구 <- 버스, 지하철, 자전거 <- 자전거 <- 바퀴, 안장, 손잡이...\n",
    "        * **A**utomation\n",
    "            * 추상화된 계층 및 관계를 기계화(자동화), 즉 표기법과 모델을 이용\n",
    "            * 에: 더하기 -> 1 과 2를 더함 -> 두 개의 수를 더함 -> 두 개의 정수/소수/문자를 더함 -> a.add(b) 또는 diagram"
   ]
  },
  {
   "cell_type": "markdown",
   "metadata": {
    "slideshow": {
     "slide_type": "slide"
    }
   },
   "source": [
    "## 1.3 프로그래밍은 무엇을 배우는 것일까?\n",
    "\n",
    "* 프로그래밍 (구성) 요소\n",
    "    * 입력: 처리하면서 필요한 데이터\n",
    "    * 출력: 처리의 결과로서 나오는 데이터\n",
    "    * 순차: 순서에 따라 처리하는 과정\n",
    "    * 조건: 경우에 따라 구분하여 처리하는 과정\n",
    "    * 반복: 같은 처리를 여러 번 다시 하는 과정\n",
    "    * 재사용: 프로그램의 일부를 고치지 않고 다시 사용. 함수를 사용함.\n",
    "* 영문법을 잘 안다고 영어를 잘 하는 것은 아니다.\n",
    "    * 프로그래밍은 말을 배우는 것과 같이 말을 하는데 필요한 '문법'을 알아야 함.\n",
    "    * 더불어 문제해결에 필요한 지식을 이해하고, 이를 프로그램으로 변환할 수 있어야 함.\n",
    "    * 따라서 프로그래밍을 하면서, 문법오류와 논리오류를 경험하게 된다.\n",
    "    * 정수에 소수를 넣거나, 문자에 숫자를 넣거나하는 문법오류\n",
    "    * 논리오류는 평균은 모든 수를 더해서 갯수로 나눈다는 것을 위반하면 논리오류.\n",
    "    * 흔한 논리오류의 예는 문닫고 들어와."
   ]
  },
  {
   "cell_type": "markdown",
   "metadata": {
    "slideshow": {
     "slide_type": "slide"
    }
   },
   "source": [
    "## 1.4 프로그래밍을 잘 하려면?\n",
    "\n",
    "* 어떻게 하면 프로그래밍을 잘 배울 수 있을까\n",
    "    * 해보려는 마음 자세 motivate yourself!\n",
    "    * 직접 해 보기 hands-on experience\n",
    "        * 기술을 배우려면 10,000시간의 법칙. 100시간만이라도 집중해 보자.\n",
    "        * 미국인이 한국어 3급 (업무를 볼 수 있는 수준)에 이르는데 2,400에서 2769시간 소요 (Defense Language Institute 미 국방 언어 연수원)\n",
    "    * 컴퓨터처럼 생각하기. 안된다고 포기하지 않기.\n",
    "        * 컴퓨터가 어려운 것이 아니라 '내'가 문제\n",
    "        * 내가 컴퓨터를 잘 못 이해하고, 안되는 일을 시키고 있는 '내'가 문제!\n",
    "        * 컴퓨터가 일 처리하는 방식을 이해하고, 그 방식에 따라 프로그래밍."
   ]
  },
  {
   "cell_type": "markdown",
   "metadata": {
    "slideshow": {
     "slide_type": "slide"
    }
   },
   "source": [
    "## 1.5 강의 구성\n",
    "\n",
    "* 목차\n",
    "    * 변수\n",
    "    * 제어구조\n",
    "    * 자료구조\n",
    "    * 이벤트\n",
    "    * 알고리듬 – 판단, 분류 등  \n",
    "    * 저장 - 외부에 저장해서 컴퓨터를 off해도 기억.\n",
    "    * 객체지향\n",
    "    * 통신 – 협업\n",
    "* 프로그래밍 언어의 선택\n",
    "    * 한국어, 영어 상관없이 내 의사를 표현할 수 있으면 된다!\n",
    "    * 인기도 1위: Java, 2위: C... 5위: Python (tiobe language index 2016 3월) \n",
    "    * 대화형 Python으로 시작.\n",
    "    * 어느 언어나 프로그래밍 요소를 배우면 다른 언어는 문법의 문제\n",
    "* 교재\n",
    "    * how to think like a computer scientist 인터넷에 책 공개.\n",
    "    * Severance, C. (2009). Python for Informatics. 한글 번역본이 인터넷에 공개.\n",
    "    * Campbell, J., Gries, P., Montojo, J., & Wilson, G. (2009). Practical programming: an introduction to computer science using Python. Pragmatic Bookshelf.\n",
    "* 시작은 재미있게 시각화, fun\n",
    "    * 컴퓨터와 말하기를 배우는 초보자\n",
    "    * 문법보다는 말하기에 집중하자.\n",
    "    * 이 강의를 마치고 나면, 프로그래밍을 시작할 수 있는 라이센스를 받았다 생각\n",
    "    * 그 라이센스는 프로그래밍을 잘 한다는 증명이 아님. 운전면허가 운전숙련자가 아니듯.\n",
    "    * 실수를 두렵다고 생각하지 말자. 어렵다는 것은 컴퓨터에게 어렵게 일을 시키는 '나'의 문제\n",
    "    * 말을 하려고 하는 의지 how to begin prgoramming <-- how to begin driviing\n",
    "* 강의교안 \n",
    "    * nbviewer.com -> smu405/p2/\n",
    "    * 화면 우상단 선물꾸러미 모양 \"View as a slide\"\n",
    "    * 화면 우상단 고양이 모양은 github으로 이동"
   ]
  },
  {
   "cell_type": "code",
   "execution_count": 1,
   "metadata": {
    "collapsed": false,
    "slideshow": {
     "slide_type": "subslide"
    }
   },
   "outputs": [
    {
     "data": {
      "image/png": "[encoded data removed]",
      "text/plain": [
       "<IPython.core.display.Image object>"
      ]
     },
     "execution_count": 1,
     "metadata": {},
     "output_type": "execute_result"
    }
   ],
   "source": [
    "from IPython.display import Image\n",
    "import os\n",
    "dir=os.getcwd()\n",
    "Image(filename=os.path.join(dir,'sc.png'))"
   ]
  },
  {
   "cell_type": "markdown",
   "metadata": {
    "slideshow": {
     "slide_type": "slide"
    }
   },
   "source": [
    "# 2. 시작하기\n",
    "\n",
    "## 2.1 로고 프로그래밍 Logo programming?\n",
    "\n",
    "* Logo는 교육용 프로그래밍 언어\n",
    "* Logo designed in 1967 by Daniel G. Bobrow, Wally Feurzeig, Seymour Papert and Cynthia Solomon.\n",
    "* 이해하기 편리하게 거북이로 바꾸어 널리 사용됨.\n",
    "\n",
    "## 2.2 환경\n",
    "\n",
    "### 2.2.1 Python\n",
    "\n",
    "* 윈도우 설치 (Anaconda)\n",
    "    * conda update conda\n",
    "* 리눅스에는 기본 설치\n",
    "\n",
    "### 2.2.2 IDE\n",
    "\n",
    "* 명령창에서 'python 프로그램이름'으로 실행.\n",
    "* idle, ipython\n",
    "* IPython Notebook\n",
    "\n",
    "### 2.2.3 diagram\n",
    "\n",
    "* diagram: PlantUML\n"
   ]
  },
  {
   "cell_type": "code",
   "execution_count": 21,
   "metadata": {
    "collapsed": false,
    "slideshow": {
     "slide_type": "slide"
    }
   },
   "outputs": [
    {
     "name": "stdout",
     "output_type": "stream",
     "text": [
      "Installed plantuml_magics.py. To use it, type:\n",
      "  %load_ext plantuml_magics\n"
     ]
    }
   ],
   "source": [
    "%install_ext https://raw.githubusercontent.com/sberke/ipython-plantuml/master/plantuml_magics.py"
   ]
  },
  {
   "cell_type": "code",
   "execution_count": 22,
   "metadata": {
    "collapsed": true,
    "slideshow": {
     "slide_type": "slide"
    }
   },
   "outputs": [],
   "source": [
    "%load_ext plantuml_magics"
   ]
  },
  {
   "cell_type": "code",
   "execution_count": 1,
   "metadata": {
    "collapsed": false,
    "slideshow": {
     "slide_type": "slide"
    }
   },
   "outputs": [
    {
     "data": {
      "text/plain": [
       "[]"
      ]
     },
     "execution_count": 1,
     "metadata": {},
     "output_type": "execute_result"
    }
   ],
   "source": [
    "import glob\n",
    "glob.glob(r'./*.jar')"
   ]
  },
  {
   "cell_type": "markdown",
   "metadata": {},
   "source": [
    "## 2.3 간단한 명령어 배우기\n",
    "\n",
    "### 2.3.1 turtle 소개\n",
    "\n",
    "* 일부 함수의 요약\n",
    "* https://docs.python.org/2/library/turtle.html\n",
    "\n",
    "#### 2.3.1.1 turtle\n",
    "\n",
    "* motion and draw\n",
    "    * forward\n",
    "    * backward\n",
    "    * left\n",
    "    * right\n",
    "    * goto 같은 용도? setpos()\n",
    "    * setx\n",
    "    * sety\n",
    "    * write(text)\n",
    "    * position()\n",
    "    * xcor()\n",
    "    * ycor()\n",
    "    * heading()\n",
    "\n",
    "* Pen\n",
    "    * penup()\n",
    "    * pendown()\n",
    "    * color()\n",
    "\n",
    "* event\n",
    "    * onclick()\n",
    "    * onrelease()\n",
    "    * ondrag()\n",
    "    * mainloop() | done()\n",
    "\n",
    "#### 2.3.1.2 screen\n",
    "\n",
    "* Window control\n",
    "    * bgcolor()\n",
    "    * clear() | clearscreen()\n",
    "    * screensize()\n",
    "* screen events\n",
    "    * listen()\n",
    "    * onkey()\n",
    "    * onclick() | onscreenclick()\n",
    "    * ontimer()"
   ]
  },
  {
   "cell_type": "markdown",
   "metadata": {
    "slideshow": {
     "slide_type": "slide"
    }
   },
   "source": [
    "### 2.3.2 그림판에 거북이 나타내기\n",
    "\n",
    "* turtle기능을 가져오기\n",
    "    ```\n",
    "    import turtle\n",
    "    ```\n",
    "\n",
    "* 앞으로 사용하는 turtle기능은 turtle이름을 사용 (namespace)\n",
    "* 윈도우를 띄움\n",
    "    * 윈도우는 좌상단 3개 버튼\n",
    "        * 닫기, 최대, 최소\n",
    "        * 크기 수정하지 못함.\n",
    "    * 제목\n",
    "    * 기본 크기의 캔버스\n",
    "    * wn은 만들어진 윈도우 이름.\n",
    "    ```\n",
    "    wn=turtle.Screen()\n",
    "    ```\n",
    "\n",
    "* 거북이 나타내기\n",
    "    * t1은 만들어진 거북이 이름.\n",
    "    ```\n",
    "    t1=turtle.Turtle()\n",
    "    ```\n",
    "\n",
    "### 2.3.3 기본 동작 명령어 배우가\n",
    "\n",
    "* 앞으로\n",
    "* 방향전환\n",
    "\n",
    "### 2.3.4 기본 색\n",
    "\n",
    "* 색은 문자로 변경.\n",
    "* 실제로는 RGB값을 문자로 저장해 놓음.\n",
    "\n",
    "### 2.3.5 모양바꾸기\n",
    "\n",
    "```\n",
    "t1.shape(\"turtle\")\n",
    "wn.addshape(\"rocketship.png\")\n",
    "t1.shape(\"rocketship.png\")\n",
    "```\n",
    "\n",
    "### 2.3.6 캔버스 다녀보기\n",
    "\n",
    "* 캔버스의 위치와 좌표를 이해"
   ]
  },
  {
   "cell_type": "markdown",
   "metadata": {
    "slideshow": {
     "slide_type": "slide"
    }
   },
   "source": [
    "#### 주의: 점의 의미\n",
    "\n",
    "* 점은 프로그래밍에서 매우 중요한 개념. 컴마하고 완전히 다름.\n",
    "* 점 앞은 객체, 뒤는 속성이나 함수\n",
    "    * 함수는 ()가 있다.\n",
    "* 객체는 이해하기 쉽지 않지만 단순하지 않은 구조체\n",
    "    * 거북이 - 위치를 갖으며, 앞뒤로 가거나 방향전환을 하는 객체\n",
    "    * 스크린 - 크기, 배경이미지를 갖으며, 마우스클릭/키보드입력을 기다리는 등의 객체\n",
    "\n",
    "#### 주의: 누구의 함수인가?\n",
    "* shape은 wn? t1?\n",
    "* bgpic은 wn? t1?\n",
    "\n",
    "#### 주의: 대소문자의 의미\n",
    "\n",
    "* 보통 첫글자가 대문자는 객체를 의미한다.\n",
    "* 앞글자가 소문자는 함수. bgpic\n",
    "* turtle.Screen()과 turtle.Turtle()은 앞글자가 대문자인 객체이다.\n",
    " \n"
   ]
  },
  {
   "cell_type": "code",
   "execution_count": 2,
   "metadata": {
    "collapsed": true,
    "slideshow": {
     "slide_type": "slide"
    }
   },
   "outputs": [],
   "source": [
    "# 2.3.1 그림판에 거북이 나타내기\n",
    "import turtle\n",
    "wn=turtle.Screen()\n",
    "#크기 정하기\n",
    "#wn.setup(500, 500)\n",
    "t1=turtle.Turtle()"
   ]
  },
  {
   "cell_type": "code",
   "execution_count": 20,
   "metadata": {
    "collapsed": true,
    "slideshow": {
     "slide_type": "slide"
    }
   },
   "outputs": [],
   "source": [
    "# 2.3.2 기본 동작 명령어 배우가\n",
    "t1.forward(100)\n",
    "t1.right(90)\n",
    "t1.forward(100)\n",
    "\n",
    "# back home\n",
    "t1.home()\n",
    "# clear screen\n",
    "t1.clear()\n",
    "\n",
    "# goto\n",
    "t1.penup()\n",
    "t1.goto(0,0) #home position\n",
    "t1.pendown()\n",
    "\n",
    "# 2.3.3 기본 색\n",
    "t1.pencolor()\n",
    "t1.pencolor(\"Red\")\n",
    "\n",
    "# colormode 1 or 255 (255 is rgb)\n",
    "wn.colormode(255)\n",
    "t1.pencolor((0,100,200))\n",
    "t1.fd(100)\n",
    "\n",
    "# 2.3.4 모양바꾸기\n",
    "t1.shape(\"turtle\")\n",
    "\n",
    "# 2.3.5 캔버스 다녀보기\n",
    "t1.window_height()\n",
    "t1.window_width()\n",
    "t1.pos()\n",
    "t1.goto(0,0)\n",
    "t1.goto(-420,0)\n",
    "t1.goto(-420,390)\n",
    "t1.home()\n",
    "t1.clear()"
   ]
  },
  {
   "cell_type": "markdown",
   "metadata": {
    "slideshow": {
     "slide_type": "slide"
    }
   },
   "source": [
    "## 시작-1: 미로를 그려서, 사진 찍고 거북이 게임.\n",
    "\n",
    "* 학습 내용\n",
    "    * 기본명령어를 사용한 간단한 미로게임.\n",
    "    * 사진의 파일형식 JPG, GIF 과 변환.\n",
    "    * 파일의 저장과 불러오기.\n",
    "* 기본명령어, 파일배경바꾸기를 배우면 30분 이내에 마칠 수 있슴.\n",
    "* 주의\n",
    "    * 너무 복잡한 미로 만들지 않음.\n",
    "    * 핸드폰 해상도는 높으므로, 캔버스에 맞추어 낮춤.\n",
    "    * 배경이미지를 저장한 디렉토리를 정확히 적어주기\n",
    "* 문제를 풀고, 그 화면을 핸드폰으로 찍어서 출력을 제출 (오늘 중).\n",
    "* 어떻게하나\n",
    "    * 1) take picture from your handphone\n",
    "    * 2) convert jpg -> gif\n",
    "        * 2-1) online converter\n",
    "            * google search \"convert jgg to gif\"\n",
    "            * 선택해서 change the size and monochrome\n",
    "        * 2-2) PC\n",
    "            * screen capture (윈도우 보조프로그램 캡쳐도구) -> 캡쳐라고 검색\n",
    "            * 커서가 십자모양으로 변하면 마우스로 클릭하고 끌어서 이미지만큼 캡쳐\n",
    "            * save as gif\n",
    "    * 3) 배경화면 지정\n",
    "        * 저장한 디렉토리는 현재 위치, 이름은 'myMaze.gif'\n",
    "        ```\n",
    "        wn.bgpic(\"myMaze.gif\")\n",
    "        ```\n"
   ]
  },
  {
   "cell_type": "markdown",
   "metadata": {
    "slideshow": {
     "slide_type": "slide"
    }
   },
   "source": [
    "## 시작-2: 미로게임을 애니메이션\n",
    "\n",
    "* 학습 내용\n",
    "    * Python 프로그램의 저장\n",
    "    * 프로그램을 배치실행하는 방법\n",
    "* 주의\n",
    "    * 애니메이션 효과는 너무 빠르지 않게\n",
    "* 어떻게 하나\n",
    "    * 1) 별도의 파일로 저장하기\n",
    "    * 2) 애니메이션 주기 (speed느리게)\n",
    "    \n",
    "    ```\n",
    "    t1.speed(1) #1 slowest 10 fastest\n",
    "    ```\n",
    "    \n",
    "    * 3) 실행 후 자동으로 사라지지 않게 하기\n",
    "    \n",
    "    ```\n",
    "    wn.exitonclick()\n",
    "    ```\n",
    "    \n",
    "    * 3) 실행하기\n",
    "    \n",
    "        * 명령창에서 직접 입력하거나\n",
    "        \n",
    "        ```\n",
    "        $ python src/myMaze.py 참조\n",
    "        ```\n",
    "\n",
    "        * 윈도우 탐색기에서 더블 클릭\n"
   ]
  },
  {
   "cell_type": "markdown",
   "metadata": {
    "slideshow": {
     "slide_type": "slide"
    }
   },
   "source": [
    "# 3. 간단한 그림을 그리면서 변수와 함수이해하기\n",
    "\n",
    "## 3.1 개요\n",
    "\n",
    "* 변수\n",
    "    * 변수는 값을 저장하여 다시 사용하게 해 준다.\n",
    "* 함수\n",
    "    * 함수는 명령어를 만드는 것이다.\n",
    "    * 함수는 중복된 문장을 제거해서 다시 사용하게 해준다.\n",
    "* 재사용과 일반화\n",
    "    * 변수와 함수의 경우와 같이 프로그래밍에 있어 '재사용'은 매우 중요하다.\n",
    "    * '재사용'할 경우, 재사용되는 경우가 많아지도록 한다. 이를 일반화(추상화)라고 한다.\n",
    "\n",
    "## 3.2 한글 자음 그려보기\n",
    "\n",
    "### 3.2.1 간단한 한글 자음 그려보기\n",
    "\n",
    "* ㄱ ㄴ ㄷ ㄹ ㅁ"
   ]
  },
  {
   "cell_type": "code",
   "execution_count": 8,
   "metadata": {
    "collapsed": true,
    "slideshow": {
     "slide_type": "slide"
    }
   },
   "outputs": [],
   "source": [
    "# 홈에서 시작\n",
    "t1.home()\n",
    "t1.clear()\n",
    "\n",
    "# ㄱ\n",
    "t1.fd(100)\n",
    "t1.right(90)\n",
    "t1.fd(100)\n",
    "\n",
    "# ㄴ\n",
    "t1.fd(100)\n",
    "t1.left(90)\n",
    "t1.fd(100)\n",
    "\n",
    "# ㄷ\n",
    "t1.back(100)\n",
    "t1.right(90)\n",
    "t1.fd(100)\n",
    "t1.left(90)\n",
    "t1.fd(100)\n",
    "\n",
    "# ㄹ\n",
    "t1.home()\n",
    "t1.fd(100)\n",
    "t1.right(90)\n",
    "t1.fd(50)\n",
    "t1.right(90)\n",
    "t1.fd(100)\n",
    "t1.left(90)\n",
    "t1.fd(50)\n",
    "t1.left(90)\n",
    "t1.fd(100)"
   ]
  },
  {
   "cell_type": "markdown",
   "metadata": {
    "slideshow": {
     "slide_type": "slide"
    }
   },
   "source": [
    "### 3.2.2 변수를 이용해서 크기를 변경하기\n",
    "\n",
    "* 변수에 기본 위치를 저장하고\n",
    "* 반으로 줄여보기\n",
    "* 배로 늘려보기\n",
    "\n",
    "* 변수\n",
    "    * 값을 저장하는 것에 대한 이름.\n",
    "    * 값은 숫자, 문자를 갖음\n",
    "        * 숫자는 정수, 소수\n",
    "        * 문자는 문자 하나, 문자열\n",
    "        * 그 외 여러 변수형이 있지만 다음에 배우기로 하자."
   ]
  },
  {
   "cell_type": "code",
   "execution_count": 10,
   "metadata": {
    "collapsed": true,
    "slideshow": {
     "slide_type": "slide"
    }
   },
   "outputs": [],
   "source": [
    "# 홈으로 가서 지우고\n",
    "t1.home()\n",
    "t1.clear()\n",
    "\n",
    "# ㄱ에 관해.\n",
    "# 크기를 줄여보기\n",
    "t1.fd(50)\n",
    "t1.right(90)\n",
    "t1.fd(50)\n",
    "\n",
    "# 크기를 2배\n",
    "t1.home()\n",
    "t1.clear()\n",
    "t1.fd(200)\n",
    "t1.right(90)\n",
    "t1.fd(200)\n",
    "\n",
    "# 변수를 이용해서 크기\n",
    "t1.home()\n",
    "t1.clear()\n",
    "size=100\n",
    "t1.fd(size)\n",
    "t1.right(90)\n",
    "t1.fd(size)"
   ]
  },
  {
   "cell_type": "markdown",
   "metadata": {
    "slideshow": {
     "slide_type": "slide"
    }
   },
   "source": [
    "* 변수의 데이터형을 이해해보기\n",
    "    * 왜 같은 수로 나누고 곱해도 다른 값?\n",
    "    * size=50일 경우 size/3*3은 왜 48일까?\n",
    "* 정수형의 연산은 정수형으로 결과\n",
    "* 소수와 정수가 같이 있는 경우는 큰 데이터형으로 결과\n",
    "    * 50/3 = 16\n",
    "    * 50/3. = 16.666"
   ]
  },
  {
   "cell_type": "code",
   "execution_count": 11,
   "metadata": {
    "collapsed": false
   },
   "outputs": [
    {
     "name": "stdout",
     "output_type": "stream",
     "text": [
      "25\n",
      "50\n",
      "48\n",
      "48\n"
     ]
    }
   ],
   "source": [
    "size=50\n",
    "print size/2\n",
    "print (size/2)*2\n",
    "print (size/3)*3\n",
    "print 50/3*3"
   ]
  },
  {
   "cell_type": "markdown",
   "metadata": {},
   "source": [
    "### 3.2.3 함수로 만들어 보기\n",
    "\n",
    "* 함수를 이해하기\n",
    "    * f(x) = x + 1에서 x=1이면 2, x=10이면 11\n",
    "    * x\n",
    "        * x는 변수\n",
    "        * 프로그래밍에서는 argument\n",
    "        * x=1이면 argument는 x, 데이터형은 정수, parameter는 2\n",
    "* 왜 변수를 사용할까?\n",
    "     * 일반화 generalization\n",
    "     * x가 1이나 2나 어느 경우에나 적용될 수 있게 함\n",
    "\n",
    "* 매개변수 및 실인자\n",
    "    * argument는 변수와 데이터 형을 모두 포함.\n",
    "        * 변수명은 의미있게 지어줌. 변수는 함수 내에서만 의미가 있다.\n",
    "        * 데이터 형은 정수, 소수, 문자 (기본 적인 것만 나열하면)\n",
    "    * parameter는 argument가 가지는 실제 값\n",
    "        * 아래에서 사용되는 size의 경우, 데이터형은 정수? 소수? 문자?\n",
    "        * 실제 값은 50,100... 으로 변할 수 있다.\n",
    "    * 함수를 만들 때는 argument, 호출할 때는 parameter\n",
    "        * 함수 만들 때 argument를 이용\n",
    "            ```\n",
    "            def giyuk(size):\n",
    "               ...\n",
    "            ```\n",
    "            \n",
    "        * 함수 호출할 때 parameter를 이용\n",
    "            ```\n",
    "            giyuk(100)\n",
    "            ```\n",
    "    \n",
    "* 기계적으로 함수 만들어보기\n",
    "    * 중복을 찾는다\n",
    "    * 중복을 묶고 함수명을 준다\n",
    "    * 변경되는 것을 찾는다\n",
    "    * 인자로 빼준다"
   ]
  },
  {
   "cell_type": "code",
   "execution_count": 5,
   "metadata": {
    "collapsed": true
   },
   "outputs": [],
   "source": [
    "def giyuk(size):\n",
    "    t1.fd(size)\n",
    "    t1.right(90)\n",
    "    t1.fd(size)\n",
    "\n",
    "t1.home()\n",
    "giyuk(100)\n",
    "\n",
    "def nieun(size):\n",
    "    t1.right(90)\n",
    "    t1.fd(size)\n",
    "    t1.left(90)\n",
    "    t1.fd(size)\n",
    "\n",
    "t1.home()\n",
    "nieun(100)"
   ]
  },
  {
   "cell_type": "code",
   "execution_count": 15,
   "metadata": {
    "collapsed": true,
    "slideshow": {
     "slide_type": "slide"
    }
   },
   "outputs": [],
   "source": [
    "# ㅁ = ㄱ + ㄴ\n",
    "# ㄹ = ㄱ + - + ㄴ\n",
    "# 크기를 변수argument로 실제 값parameter 100\n",
    "\n",
    "def mieum(size):\n",
    "    giyuk(size)\n",
    "    nieun(size)\n",
    "\n",
    "t1.home()\n",
    "t1.clear()\n",
    "mieum(100)"
   ]
  },
  {
   "cell_type": "markdown",
   "metadata": {
    "slideshow": {
     "slide_type": "slide"
    }
   },
   "source": [
    "* ㄱ + ㄴ 으로 ㅁ 을 그리려면 다음을 주의\n",
    "    * 위치를 저장하지 않으면 한 철자 끝에서부터 그려진다.\n",
    "    * 방향을 저장하지 않으면 전 철자가 끝난 방향에서 그려진다.\n",
    "    * 위치를 이동할 때도 원하지 않는 궤적이 남는다.\n",
    "* 변수를 이용한 저장\n",
    "    * 위치의 저장\n",
    "    * 방향의 저장"
   ]
  },
  {
   "cell_type": "code",
   "execution_count": 19,
   "metadata": {
    "collapsed": false,
    "slideshow": {
     "slide_type": "slide"
    }
   },
   "outputs": [],
   "source": [
    "def mieumPos(size):\n",
    "    # 위치와 방향의 저장\n",
    "    oldpos=t1.pos()\n",
    "    oldhead=t1.heading()\n",
    "    giyuk(size)\n",
    "    # 이동 궤적 지우기\n",
    "    t1.penup()\n",
    "    # 저장한 위치와 방향을 사용하기\n",
    "    t1.setpos(oldpos)\n",
    "    t1.setheading(oldhead)\n",
    "    t1.pendown()\n",
    "    nieun(size)\n",
    "    \n",
    "t1.home()\n",
    "t1.clear()\n",
    "mieumPos(100)"
   ]
  },
  {
   "cell_type": "markdown",
   "metadata": {
    "slideshow": {
     "slide_type": "slide"
    }
   },
   "source": [
    "## 시작-3 기역자 바람개비 그리기\n",
    "\n",
    "* ㄱ자를 회전하고 난 후, ㅁ자도 한다. \n",
    "* 학습내용\n",
    "    * 변수를 사용할 수 있게 된다.\n",
    "    * 함수를 만들 수 있게 된다.\n",
    "    * 함수의 argument를 알게 된다.\n",
    "    * 중복을 식별할 수 있게 된다.\n",
    "        * 결과에서 중복이 얼마나 되는지 세어본다.\n",
    "        * 함수를 이용해 중복을 줄이는 것은 이번에 배우지만 반복문은 다음 장에서 배운다.\n",
    "* 어떻게 하나\n",
    "    * 함수 giyuk(size)를 수정해서 giyukBackHome(size)\n",
    "        * 끝나는 위치가 시작점이 아니다.\n",
    "        * 바람개비를 그리려면 시작점으로 복귀    \n",
    "    * 변수를 이용해 회전하는 모양\n",
    "        * 45도씩 증가시킴\n",
    "        ```\n",
    "        turnBy=45\n",
    "        ```\n",
    "        \n",
    "    * 8회 반복을 한다.\n",
    "        * 8개 (45 x 8 = 360도 회전)\n",
    "        * 반복을 하면, 프로그램에 중복이 존재하게 된다.\n",
    "    * ㅁ자를 회전시키려면, 함수 miumpos(size)를 수정해서 miumBackHome(size)\n",
    "        * ㄱ자와 같이 시작점으로 복귀\n",
    "\n",
    "* 절차\n",
    "    * 시작에서의 위치oldPos를 저장\n",
    "    * 시작에서의 방향oldHead을 저장\n",
    "    * ㄱ자를 그림\n",
    "    * pen들고\n",
    "    * oldPos로 이동\n",
    "    * oldHead로 방향전환\n",
    "    * pendown\n",
    "    * 회전각도turnBy 틀고\n",
    "    * ㄱ자 그림\n",
    "    * 위를 반복\n",
    "* 끝나면\n",
    "    * 더블클릭해서 완료하게 한다.\n",
    "    * 수업시간에 완료해서 확인\n"
   ]
  },
  {
   "cell_type": "code",
   "execution_count": 9,
   "metadata": {
    "collapsed": true
   },
   "outputs": [],
   "source": [
    "# ㄱ 회전 바람개비 - 위치를 원위치하지 않으면 바람개비 효과가 나지 않는다.\n",
    "t1.home()\n",
    "t1.clear()\n",
    "giyuk(size)\n",
    "giyuk(size)"
   ]
  },
  {
   "cell_type": "code",
   "execution_count": 10,
   "metadata": {
    "collapsed": true
   },
   "outputs": [],
   "source": [
    "# ㄱ 회전 바람개비 - 위치와 회전각을 변경하면 바람개비 효과가 난다.\n",
    "t1.home()\n",
    "t1.clear()\n",
    "turnBy=45\n",
    "size=100\n",
    "oldpos=t1.pos()\n",
    "oldhead=t1.heading()\n",
    "giyuk(size)\n",
    "t1.penup()\n",
    "t1.setpos(oldpos)\n",
    "t1.setheading(oldhead+turnBy)\n",
    "t1.pendown()\n",
    "giyuk(size)"
   ]
  },
  {
   "cell_type": "markdown",
   "metadata": {
    "collapsed": true
   },
   "source": [
    "### 3.2.4 위치\n",
    "\n",
    "* 위치를 사용하면서 '복잡한 변수'를 이해한다.\n",
    "    * 위치의 데이터타잎은 1개로 구성되어 있지 않다.\n",
    "    * 앞서 말했던 변수 가운데 소수이지만, 단순형이 아니고 복합형.\n",
    "* 변수를 이용해 상대위치를 사용할 수 있다.\n",
    "    * 위치 알아내기\n",
    "    ```\n",
    "    oldpos=t1.pos()\n",
    "    print oldpos\n",
    "    ```\n",
    "    \n",
    "    * 중복되는 식을 계산해서 변수에 저장해 놓기\n",
    "\n",
    "* 상대 위치\n",
    "    * 3등분해서 ㄱ자 그리기"
   ]
  },
  {
   "cell_type": "code",
   "execution_count": 11,
   "metadata": {
    "collapsed": false,
    "slideshow": {
     "slide_type": "slide"
    }
   },
   "outputs": [
    {
     "name": "stdout",
     "output_type": "stream",
     "text": [
      "(0.00,0.00)\n",
      "840 787\n"
     ]
    }
   ],
   "source": [
    "# 현재위치 구하기\n",
    "t1.home()\n",
    "print t1.pos()\n",
    "# 윈도우 높이 너비 구하기\n",
    "width=t1.window_width()\n",
    "height=t1.window_height()\n",
    "print width, height"
   ]
  },
  {
   "cell_type": "markdown",
   "metadata": {},
   "source": [
    "* 형변환\n",
    "    * 정수에서 소수로 형변환하는 경우 casting이라고 한다.\n",
    "    * 소수와 정수가 만나면 소수로 형을 변환해준다.\n",
    "    ```\n",
    "    50/3.\n",
    "    50/float(3)\n",
    "    ```"
   ]
  },
  {
   "cell_type": "code",
   "execution_count": 13,
   "metadata": {
    "collapsed": false,
    "slideshow": {
     "slide_type": "slide"
    }
   },
   "outputs": [
    {
     "name": "stdout",
     "output_type": "stream",
     "text": [
      "-266.666666667 0.0 266.666666667\n"
     ]
    }
   ],
   "source": [
    "# 변수를 이용한 상대 위치 저장하기\n",
    "# 왜 '점(.)'을 넣어줄까?\n",
    "x1=0.-(width-40.)/3\n",
    "x2=0.\n",
    "x3=0.+(width-40.)/3\n",
    "print x1,x2,x3"
   ]
  },
  {
   "cell_type": "code",
   "execution_count": 15,
   "metadata": {
    "collapsed": false,
    "slideshow": {
     "slide_type": "slide"
    }
   },
   "outputs": [
    {
     "name": "stdout",
     "output_type": "stream",
     "text": [
      "-266.666666667 0.0 266.666666667\n"
     ]
    }
   ],
   "source": [
    "# 중복되는 식을 변수화\n",
    "w3=(width-40.)/3\n",
    "x1=0.-w3\n",
    "x2=0.\n",
    "x3=0.+w3\n",
    "print x1,x2,x3"
   ]
  },
  {
   "cell_type": "markdown",
   "metadata": {},
   "source": [
    "* goto()와 setpos()와 같은 기능\n",
    "* 사용할 수 있는 데이터타잎\n",
    "    * x,y - 정수/소수의 두 좌표 값\n",
    "    * (x,y) - Vec2D라고 하는 복잡한 타잎"
   ]
  },
  {
   "cell_type": "code",
   "execution_count": 16,
   "metadata": {
    "collapsed": false,
    "slideshow": {
     "slide_type": "slide"
    }
   },
   "outputs": [],
   "source": [
    "# 첫째 위치로 가서 위치 써보기\n",
    "t1.penup()\n",
    "t1.goto(x1,0)\n",
    "t1.pendown()\n",
    "t1.pos()\n",
    "t1.write(t1.pos())\n",
    "# 첫째 위치에서 ㄱ자 그리기\n",
    "giyuk(100)"
   ]
  },
  {
   "cell_type": "markdown",
   "metadata": {},
   "source": [
    "* 회전각도를 조정하지 않으면 ㄱ자가 되지 않는다.\n",
    "```\n",
    "t1.setheading(0)\n",
    "```"
   ]
  },
  {
   "cell_type": "code",
   "execution_count": 20,
   "metadata": {
    "collapsed": true
   },
   "outputs": [],
   "source": [
    "t1.clear()\n",
    "# 1번째\n",
    "t1.penup()\n",
    "t1.goto(x1,0)\n",
    "t1.setheading(0)\n",
    "t1.pendown()\n",
    "t1.pos()\n",
    "t1.write(t1.pos())\n",
    "giyuk(100)\n",
    "\n",
    "# 2번째\n",
    "t1.penup()\n",
    "t1.goto(x2,0)\n",
    "t1.setheading(0)\n",
    "t1.pendown()\n",
    "t1.pos()\n",
    "t1.write(t1.pos())\n",
    "giyuk(100)\n",
    "\n",
    "# 3번째\n",
    "t1.penup()\n",
    "t1.goto(x3,0)\n",
    "t1.setheading(0)\n",
    "t1.pendown()\n",
    "t1.pos()\n",
    "t1.write(t1.pos())\n",
    "giyuk(100)"
   ]
  },
  {
   "cell_type": "markdown",
   "metadata": {},
   "source": [
    "* 앞서 배웠던 '기계적으로 함수 만들어보기'를 실제로 해보기\n",
    "    * 중복을 찾는다.\n",
    "    * 중복을 묶고 함수명을 준다.\n",
    "        * 의미있게 giyukAt\n",
    "    * 변경되는 것을 찾는다.\n",
    "        * 숫자를 찾는다 -> x1, 100\n",
    "        * 회전각도는 숫자이지만 변하지 않으므로 그냥 둔다.\n",
    "    * 인자로 빼준다\n",
    "        * 인자는 2개\n",
    "        * 인자의 형에 대해서도 생각해 본다.\n",
    "            * size: 정수형으로 크기를 의미한다. 화면크기보다 크게 되면 오류\n",
    "            * at: 정수,소수 모두 가능하며 위치를 의미한다. 화면크기를 벗어나면 오류\n",
    "* 앞으로 배워나가기\n",
    "    * 함수로 만들어서, 함수 자체가 중복되는 것은 중복문for-loop로 처리한다 (다음 장에서 학습)\n",
    "    * 오류의 처리"
   ]
  },
  {
   "cell_type": "code",
   "execution_count": 21,
   "metadata": {
    "collapsed": true
   },
   "outputs": [],
   "source": [
    "def giyukAt(size,at):\n",
    "    t1.penup()\n",
    "    t1.goto(at,0)\n",
    "    t1.setheading(0)\n",
    "    t1.pendown()\n",
    "    t1.pos()\n",
    "    t1.write(t1.pos())\n",
    "    giyuk(size)\n",
    "\n",
    "t1.clear()\n",
    "giyukAt(100,x1)\n",
    "giyukAt(100,x2)\n",
    "giyukAt(100,x3)"
   ]
  },
  {
   "cell_type": "markdown",
   "metadata": {
    "slideshow": {
     "slide_type": "slide"
    }
   },
   "source": [
    "## 3.3 간단한 도형 그려보기\n",
    "\n",
    "* 4각형\n",
    "* 3각형\n",
    "* 앞서 배운 것을 활용해서 함수로 만들어 보기"
   ]
  },
  {
   "cell_type": "code",
   "execution_count": 23,
   "metadata": {
    "collapsed": false,
    "slideshow": {
     "slide_type": "slide"
    }
   },
   "outputs": [],
   "source": [
    "t1.home()\n",
    "t1.clear()\n",
    "# rectangle\n",
    "t1.forward(100)\n",
    "t1.write(t1.pos())\n",
    "t1.left(90)\n",
    "t1.forward(100)\n",
    "t1.write(t1.pos())\n",
    "t1.left(90)\n",
    "t1.forward(100)\n",
    "t1.write(t1.pos())\n",
    "t1.left(90)\n",
    "t1.forward(100)\n",
    "t1.write(t1.pos())"
   ]
  },
  {
   "cell_type": "code",
   "execution_count": 24,
   "metadata": {
    "collapsed": true
   },
   "outputs": [],
   "source": [
    "t1.home()\n",
    "t1.clear()\n",
    "# triangle\n",
    "t1.forward(100)\n",
    "t1.write(t1.pos())\n",
    "t1.left(120)\n",
    "t1.forward(100)\n",
    "t1.write(t1.pos())\n",
    "t1.left(120)\n",
    "t1.forward(100)\n",
    "t1.write(t1.pos())\n",
    "t1.left(120)"
   ]
  },
  {
   "cell_type": "markdown",
   "metadata": {},
   "source": [
    "## 시작-4: 간단한 도형 삼각형, 다각형, 별모양 그리기\n",
    "\n",
    "* 학습내용\n",
    "    * 위치를 3등분해서 삼각형, 다각형, 별모양을 그린다.\n",
    "    * 위치 변수를 사용할 수 있게 된다.\n",
    "    * 함수를 사용할 수 있게 된다.\n",
    "    * 함수의 argument를 알게 된다.\n",
    "    * 중복을 식별할 수 있게 된다.\n",
    "* 어떻게 하나\n",
    "    * drawTriangleAt(size, pos)\n",
    "    * drawPolygonAt(size, pos)\n",
    "    * drawStarAt(size, pos)\n",
    "* 앞의 시작-3을 참조해서 작업한다."
   ]
  },
  {
   "cell_type": "markdown",
   "metadata": {
    "collapsed": true
   },
   "source": [
    "## 시작-5: 자신의 이름을 쓰고, 자신의 아이콘으로 장식하기.\n",
    "* 박스를 3개 다른 색으로 그려서, 그 안에 자신의 이름 한 글자씩 넣는다.\n",
    "* 학습 내용\n",
    "    * 변수를 이해 (위치 변수 포함) - 사용하는 숫자가 반복되지 않게 한다.\n",
    "    * 중복을 이해 - 모든 철자는 함수로 만든다.\n",
    "    * Thumbnail\n",
    "\n",
    "* 기본명령어, thumbnail을 배우면 30분 이내에 마칠 수 있슴.\n",
    "* 주의\n",
    "    * 너무 예쁘게 쓰려고 하지 않는다.\n",
    "    * 글자 크기를 같게 한다.\n",
    "    * 철자를 함수로 만들 때는 철자+위치의 의미를 갖도록 예: giyukAt(size, pos)\n",
    "* 문제를 풀고, 그 화면을 확인 (수업 중).\n",
    "* 어떻게하나\n",
    "    * 1) 사진을 찍고, thumbnail로 변환 jpg -> gif\n",
    "    * 2) t1.stamp() 명령어를 사용한다.\n",
    "    * 3) 화면을 3등분하고 자신의 이름을 쓴다\n",
    "    * 4) 함수를 적절히 사용한다.\n"
   ]
  }
 ],
 "metadata": {
  "celltoolbar": "Slideshow",
  "kernelspec": {
   "display_name": "Python 2",
   "language": "python",
   "name": "python2"
  },
  "language_info": {
   "codemirror_mode": {
    "name": "ipython",
    "version": 2
   },
   "file_extension": ".py",
   "mimetype": "text/x-python",
   "name": "python",
   "nbconvert_exporter": "python",
   "pygments_lexer": "ipython2",
   "version": "2.7.10"
  }
 },
 "nbformat": 4,
 "nbformat_minor": 0
}
